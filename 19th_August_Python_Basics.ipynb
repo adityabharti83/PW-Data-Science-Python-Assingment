{
 "cells": [
  {
   "cell_type": "markdown",
   "id": "cf9dde02-0303-48c5-ba54-5fb4494beba2",
   "metadata": {},
   "source": [
    "Python Basics Variable"
   ]
  },
  {
   "cell_type": "code",
   "execution_count": 10,
   "id": "9d7c6105-c940-4f1a-a6ec-97254ca7eb40",
   "metadata": {},
   "outputs": [
    {
     "data": {
      "text/plain": [
       "(4, 2)"
      ]
     },
     "execution_count": 10,
     "metadata": {},
     "output_type": "execute_result"
    }
   ],
   "source": [
    "# Question 1\n",
    "x=2\n",
    "y=4\n",
    "# Swapping two variables\n",
    "x,y=y,x\n",
    "x,y"
   ]
  },
  {
   "cell_type": "code",
   "execution_count": 11,
   "id": "22814ca0-ed45-4026-898e-dca8e6e851c2",
   "metadata": {},
   "outputs": [
    {
     "name": "stdin",
     "output_type": "stream",
     "text": [
      " 4\n",
      " 6\n"
     ]
    },
    {
     "data": {
      "text/plain": [
       "24"
      ]
     },
     "execution_count": 11,
     "metadata": {},
     "output_type": "execute_result"
    }
   ],
   "source": [
    "# Question 2\n",
    "length=int(input())\n",
    "width=int(input())\n",
    "# Area of rectangle\n",
    "length*width"
   ]
  },
  {
   "cell_type": "code",
   "execution_count": 13,
   "id": "83d73758-5995-44ce-8f38-634b8cfbdaf9",
   "metadata": {},
   "outputs": [
    {
     "name": "stdin",
     "output_type": "stream",
     "text": [
      " 20\n"
     ]
    },
    {
     "data": {
      "text/plain": [
       "68.0"
      ]
     },
     "execution_count": 13,
     "metadata": {},
     "output_type": "execute_result"
    }
   ],
   "source": [
    "# Question 3\n",
    "temp=int(input())\n",
    "# Celcius to fahrenheit conversion\n",
    "temp*(9/5)+32"
   ]
  },
  {
   "cell_type": "markdown",
   "id": "c30721e3-ca27-4756-a6a1-587894b75729",
   "metadata": {},
   "source": [
    "String Based Questions"
   ]
  },
  {
   "cell_type": "code",
   "execution_count": 14,
   "id": "59ef750c-116b-412d-bdb6-22068c298b43",
   "metadata": {},
   "outputs": [
    {
     "name": "stdin",
     "output_type": "stream",
     "text": [
      " varun\n"
     ]
    },
    {
     "data": {
      "text/plain": [
       "5"
      ]
     },
     "execution_count": 14,
     "metadata": {},
     "output_type": "execute_result"
    }
   ],
   "source": [
    "# Question 1\n",
    "st=input()\n",
    "# Length of the string\n",
    "len(st)"
   ]
  },
  {
   "cell_type": "code",
   "execution_count": 18,
   "id": "a768d970-d9e6-4ff7-97c1-2c663a666be2",
   "metadata": {},
   "outputs": [
    {
     "name": "stdin",
     "output_type": "stream",
     "text": [
      " Welcome to the course\n"
     ]
    },
    {
     "data": {
      "text/plain": [
       "8"
      ]
     },
     "execution_count": 18,
     "metadata": {},
     "output_type": "execute_result"
    }
   ],
   "source": [
    "# Question 2\n",
    "sentence=input()\n",
    "count=0\n",
    "# No. of vowels in the sentence\n",
    "for i in sentence:\n",
    "    if i.lower() in ['a','e','i','o','u']:\n",
    "        count+=1\n",
    "count"
   ]
  },
  {
   "cell_type": "code",
   "execution_count": 2,
   "id": "f26798b5-6b5b-4d2d-ad30-f52e4d752faf",
   "metadata": {},
   "outputs": [
    {
     "data": {
      "text/plain": [
       "'sllikswp'"
      ]
     },
     "execution_count": 2,
     "metadata": {},
     "output_type": "execute_result"
    }
   ],
   "source": [
    "# Question 3\n",
    "st='pwskills'\n",
    "# Reverse a string\n",
    "st[::-1]"
   ]
  },
  {
   "cell_type": "code",
   "execution_count": 5,
   "id": "f7286a58-19fb-4558-b38e-5df6955b55af",
   "metadata": {},
   "outputs": [
    {
     "name": "stdin",
     "output_type": "stream",
     "text": [
      " level\n"
     ]
    },
    {
     "name": "stdout",
     "output_type": "stream",
     "text": [
      "level is a palindrome\n"
     ]
    }
   ],
   "source": [
    "# Question 4\n",
    "st=input()\n",
    "# Check if string is a palindrome\n",
    "if st == st[::-1]:\n",
    "    print(f\"{st} is a palindrome\")\n",
    "else:\n",
    "    print(f\"{st} is not a palindrome\")"
   ]
  },
  {
   "cell_type": "code",
   "execution_count": 6,
   "id": "3efb34a3-050a-4277-92cd-568f29bbf2b6",
   "metadata": {},
   "outputs": [
    {
     "name": "stdin",
     "output_type": "stream",
     "text": [
      "     varun    \n"
     ]
    },
    {
     "data": {
      "text/plain": [
       "'varun'"
      ]
     },
     "execution_count": 6,
     "metadata": {},
     "output_type": "execute_result"
    }
   ],
   "source": [
    "# Question 5\n",
    "st=input()\n",
    "# Remove spaces from a string\n",
    "st.strip()"
   ]
  },
  {
   "cell_type": "code",
   "execution_count": null,
   "id": "764fd952-0ed8-4ff0-848a-5d1571b02fdf",
   "metadata": {},
   "outputs": [],
   "source": []
  }
 ],
 "metadata": {
  "kernelspec": {
   "display_name": "Python 3 (ipykernel)",
   "language": "python",
   "name": "python3"
  },
  "language_info": {
   "codemirror_mode": {
    "name": "ipython",
    "version": 3
   },
   "file_extension": ".py",
   "mimetype": "text/x-python",
   "name": "python",
   "nbconvert_exporter": "python",
   "pygments_lexer": "ipython3",
   "version": "3.10.8"
  }
 },
 "nbformat": 4,
 "nbformat_minor": 5
}
