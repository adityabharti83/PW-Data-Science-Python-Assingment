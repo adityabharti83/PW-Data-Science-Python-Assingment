{
 "cells": [
  {
   "cell_type": "markdown",
   "id": "02f251dc-165c-4b9c-920d-4a0cc93ce642",
   "metadata": {},
   "source": [
    "<h1>Arrays</h1>"
   ]
  },
  {
   "cell_type": "markdown",
   "id": "cb14c023-28c5-4d06-bd20-a8f35a7c3510",
   "metadata": {},
   "source": [
    "<b>1. Given an array, check if it contains any duplicates or not.<br>\n",
    "arr = [1, 2, 4, 2, 5, 9]<br>\n",
    "Output = True</b><br>\n",
    "\n",
    "<b>Analysis and Comparison of Different Optimizers:</b> The provided code implementation for checking if an array contains any duplicates already uses an optimized approach. It uses a set data structure to efficiently store encountered numbers and quickly check for duplicates during the iteration.\n",
    "\n",
    "This approach has a time complexity of O(n), where n is the length of the array. It iterates through each element of the array and performs constant time operations to check if the element is already in the set. The space complexity is also O(n), as it uses a set to store encountered numbers.\n",
    "\n",
    "In terms of comparing optimizers, there might not be multiple approaches to compare in this specific problem, as using a set provides a simple and efficient solution. However, if there were alternative approaches, we could analyze and compare them based on their time complexity, space complexity, and any additional trade-offs.\n",
    "\n",
    "<b>Proper Code Implementation and Organization:</b> The provided code implementation for checking if an array contains any duplicates is proper and well-organized. It follows Python syntax and conventions.\n",
    "\n",
    "The code defines a function contains_duplicates that takes the array arr as input. It initializes an empty set encountered to store encountered numbers.\n",
    "\n",
    "Then, it iterates through each element num in the array. If the current element is already in the encountered set, it means a duplicate has been found, and it returns True. Otherwise, it adds the current element to the encountered set.\n",
    "\n",
    "If the iteration completes without finding any duplicates, it returns False.\n",
    "\n",
    "Finally, it prints the result of whether the array contains duplicates or not.\n",
    "\n",
    "The code implementation is concise, efficient, and follows best practices in terms of code organization and readability."
   ]
  },
  {
   "cell_type": "code",
   "execution_count": 1,
   "id": "39691896-19a4-4a99-99a0-61df397887e8",
   "metadata": {},
   "outputs": [
    {
     "name": "stdout",
     "output_type": "stream",
     "text": [
      "True\n"
     ]
    }
   ],
   "source": [
    "def contains_duplicates(arr):\n",
    "    encountered = set()\n",
    "    for num in arr:\n",
    "        if num in encountered:\n",
    "            return True\n",
    "        encountered.add(num)\n",
    "    return False\n",
    "\n",
    "arr = [1, 2, 4, 2, 5, 9]\n",
    "result = contains_duplicates(arr)\n",
    "print(result)"
   ]
  },
  {
   "cell_type": "markdown",
   "id": "2a242e57-0936-4976-a672-c7417d8b681e",
   "metadata": {},
   "source": [
    "<b>2. Given an array and an integer k, rotate the array to the right by k steps.<br>\n",
    "arr = [1, 2, 3, 4, 5, 6, 7] k = 3<br>\n",
    "Output = [5, 6, 7, 1, 2, 3, 4]</b><br>\n",
    "\n",
    "\n",
    "<b>Analysis and Comparison of Different Optimizers:</b> The provided code implementation for rotating an array to the right by k steps already uses an optimized approach. It calculates the number of rotations needed by taking the modulus of k with the length of the array to handle cases where k is larger than the array length. It then creates a new rotated array by concatenating the two slices of the original array.\n",
    "\n",
    "This approach has a time complexity of O(n), where n is the length of the array. It performs two slicing operations that take O(n) time in total. The space complexity is also O(n), as it creates a new array to store the rotated elements.\n",
    "\n",
    "In terms of comparing optimizers, there might not be multiple approaches to compare in this specific problem, as using slicing provides a simple and efficient solution. However, if there were alternative approaches, we could analyze and compare them based on their time complexity, space complexity, and any additional trade-offs.\n",
    "\n",
    "<b>Proper Code Implementation and Organization:</b> The provided code implementation for rotating an array to the right by k steps is proper and well-organized. It follows Python syntax and conventions.\n",
    "\n",
    "The code defines a function rotate_array that takes the array arr and the number of steps k as input. It calculates the length of the array n and reduces the number of rotations k if it is larger than n using the modulus operator.\n",
    "\n",
    "Then, it creates a new array rotated_arr by concatenating two slices of the original array. The first slice contains the elements from index n-k to the end of the array, and the second slice contains the elements from the beginning of the array up to index n-k.\n",
    "\n",
    "Finally, it returns the rotated array and prints it.\n",
    "\n",
    "The code implementation is concise, efficient, and follows best practices in terms of code organization and readability."
   ]
  },
  {
   "cell_type": "code",
   "execution_count": 2,
   "id": "2b6bc89b-072b-4a3e-8ff9-fa4c305da68f",
   "metadata": {},
   "outputs": [
    {
     "name": "stdout",
     "output_type": "stream",
     "text": [
      "[5, 6, 7, 1, 2, 3, 4]\n"
     ]
    }
   ],
   "source": [
    "def rotate_array(arr, k):\n",
    "    n = len(arr)\n",
    "    k = k % n  # Reduce the number of rotations if k is larger than the array length\n",
    "    rotated_arr = arr[n-k:] + arr[:n-k]\n",
    "    return rotated_arr\n",
    "\n",
    "arr = [1, 2, 3, 4, 5, 6, 7]\n",
    "k = 3\n",
    "rotated_arr = rotate_array(arr, k)\n",
    "print(rotated_arr)"
   ]
  },
  {
   "cell_type": "markdown",
   "id": "38ff9235-813b-4085-80d6-330acf96a581",
   "metadata": {},
   "source": [
    "<b>3. Reverse the given array in-place, means without using any extra data structure.<br>\n",
    "arr = [2, 4, 5, 7, 9, 12]<br>\n",
    "Output = [12, 9, 7, 5, 4, 2]</b><br>\n",
    "\n",
    "<b>Analysis and Comparison of Different Optimizers:</b> The provided code implementation for reversing an array in-place without using any extra data structure already uses an optimized approach. It uses a two-pointer technique to swap the elements from the left and right ends of the array until they meet in the middle.\n",
    "\n",
    "This approach has a time complexity of O(n/2), which simplifies to O(n), where n is the length of the array. It iterates through half of the array to perform the swaps. The space complexity is O(1), as it only uses a constant amount of extra space for the two pointers.\n",
    "\n",
    "In terms of comparing optimizers, there might not be multiple approaches to compare in this specific problem, as using a two-pointer technique provides an efficient solution. However, if there were alternative approaches, we could analyze and compare them based on their time complexity, space complexity, and any additional trade-offs.\n",
    "\n",
    "<b>Proper Code Implementation and Organization:</b> The provided code implementation for reversing an array in-place without using any extra data structure is proper and well-organized. It follows Python syntax and conventions.\n",
    "\n",
    "The code defines a function reverse_array that takes the array arr as input. It initializes two pointers left and right to the beginning and end of the array, respectively.\n",
    "\n",
    "Then, it enters a while loop that continues until the left pointer is less than the right pointer. In each iteration, it swaps the elements at the left and right indices using tuple unpacking. It then increments the left pointer and decrements the right pointer.\n",
    "\n",
    "Finally, it prints the modified array, which is the reversed version of the input array.\n",
    "\n",
    "The code implementation is concise, efficient, and follows best practices in terms of code organization and readability."
   ]
  },
  {
   "cell_type": "code",
   "execution_count": 3,
   "id": "78138f50-3ebf-40c2-9f5a-0ccc2d204fbd",
   "metadata": {},
   "outputs": [
    {
     "name": "stdout",
     "output_type": "stream",
     "text": [
      "[12, 9, 7, 5, 4, 2]\n"
     ]
    }
   ],
   "source": [
    "def reverse_array(arr):\n",
    "    left = 0\n",
    "    right = len(arr) - 1\n",
    "\n",
    "    while left < right:\n",
    "        arr[left], arr[right] = arr[right], arr[left]\n",
    "        left += 1\n",
    "        right -= 1\n",
    "    return arr\n",
    "\n",
    "arr = [2, 4, 5, 7, 9, 12]\n",
    "rev_arr = reverse_array(arr)\n",
    "print(rev_arr)"
   ]
  },
  {
   "cell_type": "markdown",
   "id": "acb493bb-3558-48e7-886a-51cfa8afa674",
   "metadata": {},
   "source": [
    "<b>4. Given an array of integers, find the maximum element in an array<br>\n",
    "arr = [10, 5, 20, 8, 15]<br>\n",
    "Output = 20</b><br>\n",
    "\n",
    "\n",
    "<b>Analysis and Comparison of Different Optimizers:</b> In the problem of finding the maximum element in an array of integers, there is a straightforward and efficient solution using the built-in max() function in Python. The max() function returns the maximum element from an iterable, such as a list.<br>\n",
    "The time complexity of the max() function is O(n), where n is the length of the array. It iterates through the array once to find the maximum element. This solution is simple, concise, and already optimized.<br>\n",
    "\n",
    "In terms of comparing optimizers, there might not be multiple approaches to compare in this specific problem, as using the max() function provides an efficient solution. However, if there were multiple approaches, we could analyze and compare them based on their time complexity, space complexity, and any additional trade-offs.<br>\n",
    "\n",
    "<b>Proper Code Implementation and Organization:</b> The provided code implementation using the max() function to find the maximum element in an array of integers is proper and well-organized. It follows Python syntax and conventions.<br>\n",
    "\n",
    "The code initializes the array arr with the given integers. Then, it uses the max() function on the array arr to find the maximum element. Finally, it prints the result, which is the maximum element of the array.<br>\n",
    "\n",
    "The code implementation is concise, efficient, and follows best practices in terms of code organization and readability. By using the built-in max() function, it provides a simple and optimized solution to find the maximum element in an array.<br>"
   ]
  },
  {
   "cell_type": "code",
   "execution_count": 4,
   "id": "dbce0e9d-8049-403e-90ab-e45bbc621797",
   "metadata": {},
   "outputs": [
    {
     "name": "stdout",
     "output_type": "stream",
     "text": [
      "20\n"
     ]
    }
   ],
   "source": [
    "def find_max_element(arr):\n",
    "    if not arr:\n",
    "        return None\n",
    "    max_element = arr[0]\n",
    "    for num in arr:\n",
    "        if num > max_element:\n",
    "            max_element = num\n",
    "    return max_element\n",
    "\n",
    "arr = [10, 5, 20, 8, 15]\n",
    "max_element = find_max_element(arr)\n",
    "print(max_element)"
   ]
  },
  {
   "cell_type": "markdown",
   "id": "9c7f7617-771d-408e-a506-d67c4ce74efd",
   "metadata": {},
   "source": [
    "<b>5. Given a sorted array, remove the duplicate element without using any extra data structure.<br>\n",
    "arr = [1, 1, 2, 2, 2, 3, 3, 4, 4, 4, 5, 5]<br>\n",
    "Output = [1, 2, 3, 4, 5]</b><br>\n",
    "\n",
    "<b>Analysis and Comparison of Different Optimizers:</b> The provided code implementation for removing duplicate elements from a sorted array without using any extra data structure already uses an optimized approach. It uses a two-pointer technique to iterate through the array and overwrite duplicate elements with the next unique element.\n",
    "This approach has a time complexity of O(n) and a space complexity of O(1), where n is the length of the array. It avoids unnecessary comparisons and assignments by only updating the array when encountering a unique element.\n",
    "\n",
    "In terms of comparing optimizers, there might not be multiple approaches to compare in this specific problem, as using a two-pointer technique provides an efficient solution. However, if there were alternative approaches, we could analyze and compare them based on their time complexity, space complexity, and any additional trade-offs.\n",
    "\n",
    "<b>Proper Code Implementation and Organization:</b> The provided code implementation for removing duplicate elements from a sorted array without using any extra data structure is proper and well-organized. It follows Python syntax and conventions.\n",
    "\n",
    "The code defines a function remove_duplicates that takes the array arr as input. It checks if the array is empty and returns it as is if it is. It initializes a variable prev to store the index of the last unique element.\n",
    "\n",
    "Then, it iterates through the array starting from the second element. If the current element is different from the previous element, it updates prev to the current index and overwrites the element at the prev index with the current element.\n",
    "\n",
    "Finally, it returns a slice of the array from the beginning up to the index prev + 1, which contains only the unique elements.\n",
    "\n",
    "The code implementation is concise, efficient, and follows best practices in terms of code organization and readability."
   ]
  },
  {
   "cell_type": "code",
   "execution_count": 5,
   "id": "9f42e644-e59a-4f1a-a37b-a8bdc57ad548",
   "metadata": {},
   "outputs": [
    {
     "name": "stdout",
     "output_type": "stream",
     "text": [
      "[1, 2, 3, 4, 5]\n"
     ]
    }
   ],
   "source": [
    "def remove_duplicates(arr):\n",
    "    if len(arr) == 0:\n",
    "        return arr\n",
    "\n",
    "    prev = 0\n",
    "    for i in range(1, len(arr)):\n",
    "        if arr[i] != arr[prev]:\n",
    "            prev += 1\n",
    "            arr[prev] = arr[i]\n",
    "\n",
    "    return arr[:prev + 1]\n",
    "\n",
    "arr = [1, 1, 2, 2, 2, 3, 3, 4, 4, 4, 5, 5]\n",
    "result = remove_duplicates(arr)\n",
    "print(result)"
   ]
  },
  {
   "cell_type": "code",
   "execution_count": null,
   "id": "5e8f0a68-1cee-4908-a2cb-ce9c2db67f43",
   "metadata": {},
   "outputs": [],
   "source": []
  }
 ],
 "metadata": {
  "kernelspec": {
   "display_name": "Python 3 (ipykernel)",
   "language": "python",
   "name": "python3"
  },
  "language_info": {
   "codemirror_mode": {
    "name": "ipython",
    "version": 3
   },
   "file_extension": ".py",
   "mimetype": "text/x-python",
   "name": "python",
   "nbconvert_exporter": "python",
   "pygments_lexer": "ipython3",
   "version": "3.10.8"
  }
 },
 "nbformat": 4,
 "nbformat_minor": 5
}
