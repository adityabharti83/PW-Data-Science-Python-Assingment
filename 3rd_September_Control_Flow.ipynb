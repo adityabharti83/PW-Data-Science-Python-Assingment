{
 "cells": [
  {
   "cell_type": "markdown",
   "id": "3c6f0138-29cd-40c5-8657-2b1092853d0f",
   "metadata": {
    "tags": []
   },
   "source": [
    "<h1>Control Flow</h1>"
   ]
  },
  {
   "cell_type": "markdown",
   "id": "142e1542-0ef7-40cb-bd9a-ad18d62d88aa",
   "metadata": {},
   "source": [
    "Basic If-Else Statements"
   ]
  },
  {
   "cell_type": "code",
   "execution_count": 2,
   "id": "b1450955-e843-4f0a-a2a7-bd9d9ab0ac80",
   "metadata": {},
   "outputs": [
    {
     "name": "stdin",
     "output_type": "stream",
     "text": [
      "Enter a number:  7\n"
     ]
    },
    {
     "name": "stdout",
     "output_type": "stream",
     "text": [
      "The number is positive.\n"
     ]
    }
   ],
   "source": [
    "# 1. Write a Python program to check if a given number is positive or negative.\n",
    "# Define a function to check if a given number is positive or negative.\n",
    "def check_number(number):\n",
    "  if number > 0:\n",
    "    print(\"The number is positive.\")\n",
    "  elif number < 0:\n",
    "    print(\"The number is negative.\")\n",
    "  else:\n",
    "    print(\"The number is zero.\")\n",
    "\n",
    "# Prompt the user to enter a number.\n",
    "number = int(input(\"Enter a number: \"))\n",
    "\n",
    "# Call the function to check if the number is positive or negative.\n",
    "check_number(number)"
   ]
  },
  {
   "cell_type": "code",
   "execution_count": 4,
   "id": "ab83becf-45ae-4456-b69f-75a1036cf16b",
   "metadata": {},
   "outputs": [
    {
     "data": {
      "text/plain": [
       "'Not eligible to vote'"
      ]
     },
     "execution_count": 4,
     "metadata": {},
     "output_type": "execute_result"
    }
   ],
   "source": [
    "# 2. Create a program that determines if a person is eligible to vote based on their age.\n",
    "def is_eligible_to_vote(age):\n",
    "  if age >= 18:\n",
    "    return \"Eligible to vote\"\n",
    "  else:\n",
    "    return \"Not eligible to vote\"\n",
    "is_eligible_to_vote(17)"
   ]
  },
  {
   "cell_type": "code",
   "execution_count": 5,
   "id": "9c140629-9aec-42e6-b1f0-259a103634ad",
   "metadata": {},
   "outputs": [
    {
     "name": "stdin",
     "output_type": "stream",
     "text": [
      "Enter the first number:  6\n",
      "Enter the second number:  5\n"
     ]
    },
    {
     "name": "stdout",
     "output_type": "stream",
     "text": [
      "6 is greater\n"
     ]
    }
   ],
   "source": [
    "# 3. Develop a program to find the maximum of two numbers using if-else statements.\n",
    "# Getting input from user\n",
    "num1 = int(input(\"Enter the first number: \"))\n",
    "num2 = int(input(\"Enter the second number: \"))\n",
    "\n",
    "# printing the maximum value\n",
    "if(num1 > num2):\n",
    "  print(num1, \"is greater\")\n",
    "elif(num1 < num2):\n",
    "    print(num2, \"is greater\")\n",
    "else:\n",
    "    print(\"Both are equal\")"
   ]
  },
  {
   "cell_type": "code",
   "execution_count": 6,
   "id": "1ccd14f9-acba-42ef-ad19-a9bf78cb44f5",
   "metadata": {},
   "outputs": [
    {
     "data": {
      "text/plain": [
       "True"
      ]
     },
     "execution_count": 6,
     "metadata": {},
     "output_type": "execute_result"
    }
   ],
   "source": [
    "# 4. Write a Python script to classify a given year as a leap year or not.\n",
    "def is_leap_year(year):\n",
    "\n",
    "  if year % 400 == 0:\n",
    "    return True\n",
    "  elif year % 100 == 0:\n",
    "    return False\n",
    "  else:\n",
    "    return year % 4 == 0\n",
    "is_leap_year(2024)"
   ]
  },
  {
   "cell_type": "code",
   "execution_count": 8,
   "id": "949ed7fa-439e-48bb-8c39-fbe1434c3cd3",
   "metadata": {},
   "outputs": [
    {
     "name": "stdout",
     "output_type": "stream",
     "text": [
      "Consonant\n",
      "Vowel\n"
     ]
    }
   ],
   "source": [
    "# 5. Create a program that checks whether a character is a vowel or a consonant.\n",
    "def vowelOrConsonant(x): \n",
    "  \n",
    "    if (x == 'a' or x == 'e' or\n",
    "        x == 'i' or x == 'o' or x == 'u'): \n",
    "        print(\"Vowel\") \n",
    "    else: \n",
    "        print(\"Consonant\") \n",
    "\n",
    "vowelOrConsonant('c') \n",
    "vowelOrConsonant('e')"
   ]
  },
  {
   "cell_type": "code",
   "execution_count": 11,
   "id": "257578f0-6e3e-4343-a222-5b135297a5ad",
   "metadata": {},
   "outputs": [
    {
     "name": "stdin",
     "output_type": "stream",
     "text": [
      "Enter any number to test whether it is odd or even:  7\n"
     ]
    },
    {
     "name": "stdout",
     "output_type": "stream",
     "text": [
      "The provided number is odd\n"
     ]
    }
   ],
   "source": [
    "# 6. Implement a program to determine whether a given number is even or odd.\n",
    "num = int (input (\"Enter any number to test whether it is odd or even: \"))\n",
    "if (num % 2) == 0:\n",
    "    print (\"The number is even\")\n",
    "\n",
    "else:\n",
    "    print (\"The provided number is odd\")"
   ]
  },
  {
   "cell_type": "code",
   "execution_count": 12,
   "id": "65615a80-e3f5-48a5-9ad9-da8ad0c1eab1",
   "metadata": {},
   "outputs": [
    {
     "name": "stdin",
     "output_type": "stream",
     "text": [
      "Enter any number:  8\n"
     ]
    },
    {
     "name": "stdout",
     "output_type": "stream",
     "text": [
      "Here's the absolute value:  8.0\n"
     ]
    }
   ],
   "source": [
    "# 7. Write a Python function to calculate the absolute value of a number without using the `abs()` function.\n",
    "num = float(input(\"Enter any number: \"))\n",
    "if num < 0 :\n",
    "    print(\"Here's the absolute value: \", num*-1)\n",
    "elif num == 0 :\n",
    "    print(\"Here's the absolute value: 0\")\n",
    "elif num > 0 :\n",
    "    print(\"Here's the absolute value: \", num)"
   ]
  },
  {
   "cell_type": "code",
   "execution_count": 13,
   "id": "698b16f3-2cbc-458b-b511-f3874e63841f",
   "metadata": {},
   "outputs": [
    {
     "name": "stdout",
     "output_type": "stream",
     "text": [
      "The largest number is 14\n"
     ]
    }
   ],
   "source": [
    "# 8. Develop a program that determines the largest of three given numbers using if-else statements.\n",
    "num1 = 10\n",
    "num2 = 14\n",
    "num3 = 12\n",
    "\n",
    "if (num1 >= num2) and (num1 >= num3):\n",
    "   largest = num1\n",
    "elif (num2 >= num1) and (num2 >= num3):\n",
    "   largest = num2\n",
    "else:\n",
    "   largest = num3\n",
    "\n",
    "print(\"The largest number is\", largest)"
   ]
  },
  {
   "cell_type": "code",
   "execution_count": 14,
   "id": "60c49bf9-9881-4661-939f-e0cfd5e28e74",
   "metadata": {},
   "outputs": [
    {
     "name": "stdout",
     "output_type": "stream",
     "text": [
      "The string is a palindrome.\n"
     ]
    }
   ],
   "source": [
    "# 9. Create a program that checks if a given string is a palindrome.\n",
    "def is_palindrome(string):\n",
    "  string = string.lower()\n",
    "\n",
    "  reversed_string = string[::-1]\n",
    "\n",
    "  # Check if the original string is equal to the reversed string.\n",
    "  return string == reversed_string\n",
    "\n",
    "string = \"racecar\"\n",
    "\n",
    "if is_palindrome(string):\n",
    "  print(\"The string is a palindrome.\")\n",
    "else:\n",
    "  print(\"The string is not a palindrome.\")"
   ]
  },
  {
   "cell_type": "code",
   "execution_count": 15,
   "id": "0453e958-d72c-4cd9-bfb2-5a9a0b63fad5",
   "metadata": {},
   "outputs": [
    {
     "name": "stdin",
     "output_type": "stream",
     "text": [
      "Enter the student's score:  100\n"
     ]
    },
    {
     "name": "stdout",
     "output_type": "stream",
     "text": [
      "The student's grade is:  A\n"
     ]
    }
   ],
   "source": [
    "# 10. Write a Python program to calculate the grade based on a student's score.\n",
    "# Get the student's score\n",
    "score = int(input(\"Enter the student's score: \"))\n",
    "\n",
    "# Calculate the grade\n",
    "if score >= 90:\n",
    "  grade = \"A\"\n",
    "elif score >= 80:\n",
    "  grade = \"B\"\n",
    "elif score >= 70:\n",
    "  grade = \"C\"\n",
    "elif score >= 60:\n",
    "  grade = \"D\"\n",
    "else:\n",
    "  grade = \"F\"\n",
    "\n",
    "# Print the grade\n",
    "print(\"The student's grade is: \", grade)"
   ]
  },
  {
   "cell_type": "markdown",
   "id": "90e59e65-b23b-43dd-9cc4-96807b3ac77a",
   "metadata": {},
   "source": [
    "Nested If-Else Statements"
   ]
  },
  {
   "cell_type": "code",
   "execution_count": 16,
   "id": "c1e41271-6ea7-434d-8735-23c861a0b860",
   "metadata": {},
   "outputs": [
    {
     "name": "stdin",
     "output_type": "stream",
     "text": [
      "Enter A:  4\n",
      "Enter B:  9\n",
      "Enter C:  10\n"
     ]
    },
    {
     "name": "stdout",
     "output_type": "stream",
     "text": [
      "Greater  =  10\n"
     ]
    }
   ],
   "source": [
    "# 11. Write a program to find the largest among three numbers using nested if-else statements.\n",
    "a=int(input(\"Enter A: \"))\n",
    "b=int(input(\"Enter B: \"))\n",
    "c=int(input(\"Enter C: \"))\n",
    "\n",
    "# conditions to find largest \n",
    "if a>b:\n",
    "    if a>c:\n",
    "        g=a\n",
    "    else:\n",
    "        g=c\n",
    "else:\n",
    "    if b>c:\n",
    "        g=b\n",
    "    else:\n",
    "        g=c\n",
    "\n",
    "# print the largest number \n",
    "print(\"Greater  = \",g)"
   ]
  },
  {
   "cell_type": "code",
   "execution_count": 2,
   "id": "a95bfba1-a984-4a51-bdbb-7901244192d5",
   "metadata": {},
   "outputs": [
    {
     "name": "stdin",
     "output_type": "stream",
     "text": [
      "Enter the length of side 1:  3\n",
      "Enter the length of side 2:  5\n",
      "Enter the length of side 3:  5\n"
     ]
    },
    {
     "name": "stdout",
     "output_type": "stream",
     "text": [
      "Isosceles triangle\n"
     ]
    }
   ],
   "source": [
    "# 12. Implement a program to determine if a triangle is equilateral, isosceles, or scalene.\n",
    "a = float(input(\"Enter the length of side 1: \"))\n",
    "b = float(input(\"Enter the length of side 2: \"))\n",
    "c = float(input(\"Enter the length of side 3: \"))\n",
    "\n",
    "\n",
    "if a == b or b == c or c == a:\n",
    "    if a == b == c:\n",
    "        print(\"Equilateral triangle\")\n",
    "    else:\n",
    "        print(\"Isosceles triangle\")\n",
    "else:\n",
    "    print(\"Scalene triangle\")"
   ]
  },
  {
   "cell_type": "code",
   "execution_count": 23,
   "id": "ed4032ab-cc47-401e-993a-3d92596f898f",
   "metadata": {},
   "outputs": [
    {
     "name": "stdout",
     "output_type": "stream",
     "text": [
      "2000 is a leap year\n",
      "2000 is a century year ( 20 th century)\n"
     ]
    }
   ],
   "source": [
    "# 13. Develop a program that checks if a year is a leap year and also if it is a century year.\n",
    "def is_leap_year(year):\n",
    "    if year % 4 == 0:\n",
    "        if year % 100 == 0:\n",
    "            if year % 400 == 0:\n",
    "                print(year, \"is a leap year\")\n",
    "            else:\n",
    "                print(year, \"is not a leap year\")\n",
    "        else:\n",
    "            print(year, \"is a leap year\")\n",
    "    else:\n",
    "        print(year, \"is not a leap year\")\n",
    "\n",
    "def is_century_year(year):\n",
    "    century = (year + 99) // 100\n",
    "    if year % 100 == 0:\n",
    "        print(year, \"is a century year (\", century, \"th century)\")\n",
    "    else:\n",
    "        print(year, \"is not a century year\")\n",
    "\n",
    "year = 2000\n",
    "is_leap_year(year)\n",
    "is_century_year(year)"
   ]
  },
  {
   "cell_type": "code",
   "execution_count": 3,
   "id": "7eb10e3c-cda8-451e-bd0f-55a0b8d76eb8",
   "metadata": {},
   "outputs": [
    {
     "name": "stdin",
     "output_type": "stream",
     "text": [
      "Enter a number:  6\n"
     ]
    },
    {
     "name": "stdout",
     "output_type": "stream",
     "text": [
      "Positive number\n"
     ]
    }
   ],
   "source": [
    "# 14. Write a Python script to determine if a number is positive, negative, or zero.\n",
    "num = float(input(\"Enter a number: \"))\n",
    "\n",
    "if num >= 0:\n",
    "    if num == 0:\n",
    "        print(\"Zero\")\n",
    "    else:\n",
    "        print(\"Positive number\")\n",
    "else:\n",
    "    print(\"Negative number\")"
   ]
  },
  {
   "cell_type": "code",
   "execution_count": 4,
   "id": "55675d5f-c17a-4f53-9e13-f1784b12db7b",
   "metadata": {},
   "outputs": [
    {
     "name": "stdin",
     "output_type": "stream",
     "text": [
      "Enter your age:  15\n"
     ]
    },
    {
     "name": "stdout",
     "output_type": "stream",
     "text": [
      "You are a teenager\n"
     ]
    }
   ],
   "source": [
    "# 15. Create a program to check if a person is a teenager (between 13 and 19 years old).\n",
    "age = int(input(\"Enter your age: \"))\n",
    "\n",
    "if age >= 13:\n",
    "    if age <= 19:\n",
    "        print(\"You are a teenager\")\n",
    "    else:\n",
    "        print(\"You are not a teenager\")\n",
    "else:\n",
    "    print(\"You are not a teenager\")"
   ]
  },
  {
   "cell_type": "code",
   "execution_count": 6,
   "id": "e47bb8db-3afd-4ae5-b122-102e7ea69655",
   "metadata": {},
   "outputs": [
    {
     "name": "stdout",
     "output_type": "stream",
     "text": [
      "Obtuse angle\n"
     ]
    }
   ],
   "source": [
    "# 16. Develop a program that determines the type of angle based on its measure (acute, obtuse, or right).\n",
    "angle = 150\n",
    "\n",
    "if angle < 90:\n",
    "    if angle == 90:\n",
    "        print(\"Right angle\")\n",
    "    else:\n",
    "        print(\"Acute angle\")\n",
    "else:\n",
    "    print(\"Obtuse angle\")"
   ]
  },
  {
   "cell_type": "code",
   "execution_count": 8,
   "id": "8a1d6845-7c7e-4f4f-807c-e452587ce780",
   "metadata": {},
   "outputs": [
    {
     "name": "stdin",
     "output_type": "stream",
     "text": [
      "Enter the coefficient of x^2:  4\n",
      "Enter the coefficient of x:  25\n",
      "Enter the constant term:  9\n"
     ]
    },
    {
     "name": "stdout",
     "output_type": "stream",
     "text": [
      "The roots are real and different\n",
      "Root 1 = -0.3835359750673364\n",
      "Root 2 = -5.866464024932664\n"
     ]
    }
   ],
   "source": [
    "# 17. Write a Python program to calculate the roots of a quadratic equation.\n",
    "import math\n",
    "\n",
    "a = float(input(\"Enter the coefficient of x^2: \"))\n",
    "b = float(input(\"Enter the coefficient of x: \"))\n",
    "c = float(input(\"Enter the constant term: \"))\n",
    "\n",
    "discriminant = b**2 - 4*a*c\n",
    "\n",
    "if discriminant > 0:\n",
    "    if discriminant == 0:\n",
    "        root = -b / (2*a)\n",
    "        print(\"The roots are real and equal\")\n",
    "        print(\"Root =\", root)\n",
    "    else:\n",
    "        root1 = (-b + math.sqrt(discriminant)) / (2*a)\n",
    "        root2 = (-b - math.sqrt(discriminant)) / (2*a)\n",
    "        print(\"The roots are real and different\")\n",
    "        print(\"Root 1 =\", root1)\n",
    "        print(\"Root 2 =\", root2)\n",
    "else:\n",
    "    real_part = -b / (2*a)\n",
    "    imaginary_part = math.sqrt(-discriminant) / (2*a)\n",
    "    print(\"The roots are complex and different\")\n",
    "    print(\"Root 1 =\", real_part, \"+\", imaginary_part, \"i\")\n",
    "    print(\"Root 2 =\", real_part, \"-\", imaginary_part, \"i\")"
   ]
  },
  {
   "cell_type": "code",
   "execution_count": 9,
   "id": "c26e67be-965e-422b-b0f5-99464f8d648f",
   "metadata": {},
   "outputs": [
    {
     "name": "stdin",
     "output_type": "stream",
     "text": [
      "Enter a number from 1 to 7:  6\n"
     ]
    },
    {
     "name": "stdout",
     "output_type": "stream",
     "text": [
      "6 is Friday\n"
     ]
    }
   ],
   "source": [
    "# 18. Implement a program to determine the day of the week based on a user-provided number (1 for Monday, 2 for Tuesday, etc.).\n",
    "day = int(input(\"Enter a number from 1 to 7: \"))\n",
    "\n",
    "if day == 1 or day == 2:\n",
    "    if day == 2:\n",
    "        print(day, \"is Monday\")\n",
    "    else:\n",
    "        print(day, \"is Sunday\")\n",
    "elif day == 3:\n",
    "    print(day, \"is Tuesday\")\n",
    "elif day == 4:\n",
    "    print(day, \"is Wednesday\")\n",
    "elif day == 5:\n",
    "    print(day, \"is Thursday\")\n",
    "elif day == 6:\n",
    "    print(day, \"is Friday\")\n",
    "elif day == 7:\n",
    "    print(day, \"is Saturday\")\n",
    "else:\n",
    "    print(\"Wrong input! Please enter a number from 1 to 7.\")"
   ]
  },
  {
   "cell_type": "code",
   "execution_count": 11,
   "id": "88b81b18-7bb9-4114-a27e-0c2342e59423",
   "metadata": {},
   "outputs": [
    {
     "name": "stdin",
     "output_type": "stream",
     "text": [
      "Enter a year:  2100\n"
     ]
    },
    {
     "name": "stdout",
     "output_type": "stream",
     "text": [
      "2100 is not a leap year and is evenly divisible by 100 but not by 400\n"
     ]
    }
   ],
   "source": [
    "# 19. Create a program that determines if a year is a leap year and also if it is evenly divisible by 400.\n",
    "year = int(input(\"Enter a year: \"))\n",
    "\n",
    "if year % 400 == 0:\n",
    "    print(year, \"is a leap year and is evenly divisible by 400\")\n",
    "else:\n",
    "    if year % 4 == 0:\n",
    "        if year % 100 == 0:\n",
    "            print(year, \"is not a leap year and is evenly divisible by 100 but not by 400\")\n",
    "        else:\n",
    "            print(year, \"is a leap year and is not evenly divisible by 400\")\n",
    "    else:\n",
    "        print(year, \"is not a leap year and is not evenly divisible by 400\")"
   ]
  },
  {
   "cell_type": "code",
   "execution_count": 13,
   "id": "c4d37073-73db-42a9-b494-697646999671",
   "metadata": {},
   "outputs": [
    {
     "name": "stdin",
     "output_type": "stream",
     "text": [
      "Enter a number:  15\n"
     ]
    },
    {
     "name": "stdout",
     "output_type": "stream",
     "text": [
      "15 is not a prime number\n"
     ]
    }
   ],
   "source": [
    "# 20. Develop a program that checks if a given number is prime or not using nested if-else statements.\n",
    "num = int(input(\"Enter a number: \"))\n",
    "\n",
    "if num > 1:\n",
    "    for i in range(2, num):\n",
    "        if (num % i) == 0:\n",
    "            print(num, \"is not a prime number\")\n",
    "            break\n",
    "    else:\n",
    "        print(num, \"is a prime number\")\n",
    "else:\n",
    "    print(num, \"is not a prime number\")"
   ]
  },
  {
   "cell_type": "markdown",
   "id": "08ba14ac-2992-4671-97b5-401460b98e0c",
   "metadata": {},
   "source": [
    "Elif Statements"
   ]
  },
  {
   "cell_type": "code",
   "execution_count": 14,
   "id": "1e50e669-d12a-4fc4-b579-74058c3fc74c",
   "metadata": {},
   "outputs": [
    {
     "name": "stdin",
     "output_type": "stream",
     "text": [
      "Enter your score:  50\n"
     ]
    },
    {
     "name": "stdout",
     "output_type": "stream",
     "text": [
      "Your grade is F\n"
     ]
    }
   ],
   "source": [
    "# 21. Write a Python program to assign grades based on different ranges of scores using elif statements.\n",
    "score = float(input(\"Enter your score: \"))\n",
    "\n",
    "if score >= 90:\n",
    "    grade = \"A\"\n",
    "elif score >= 80:\n",
    "    grade = \"B\"\n",
    "elif score >= 70:\n",
    "    grade = \"C\"\n",
    "elif score >= 60:\n",
    "    grade = \"D\"\n",
    "else:\n",
    "    grade = \"F\"\n",
    "\n",
    "print(\"Your grade is\", grade)"
   ]
  },
  {
   "cell_type": "code",
   "execution_count": 15,
   "id": "6f1cdec8-13be-46e3-9faf-33a34382fa07",
   "metadata": {},
   "outputs": [
    {
     "name": "stdin",
     "output_type": "stream",
     "text": [
      "Enter the measure of angle 1:  40\n",
      "Enter the measure of angle 2:  60\n",
      "Enter the measure of angle 3:  80\n"
     ]
    },
    {
     "name": "stdout",
     "output_type": "stream",
     "text": [
      "The triangle is an acute triangle\n"
     ]
    }
   ],
   "source": [
    "# 22. Implement a program to determine the type of a triangle based on its angles.\n",
    "angle1 = float(input(\"Enter the measure of angle 1: \"))\n",
    "angle2 = float(input(\"Enter the measure of angle 2: \"))\n",
    "angle3 = float(input(\"Enter the measure of angle 3: \"))\n",
    "\n",
    "if angle1 + angle2 + angle3 == 180:\n",
    "    if angle1 == 90 or angle2 == 90 or angle3 == 90:\n",
    "        print(\"The triangle is a right triangle\")\n",
    "    elif angle1 > 90 or angle2 > 90 or angle3 > 90:\n",
    "        print(\"The triangle is an obtuse triangle\")\n",
    "    else:\n",
    "        print(\"The triangle is an acute triangle\")\n",
    "else:\n",
    "    print(\"The angles entered do not form a triangle\")"
   ]
  },
  {
   "cell_type": "code",
   "execution_count": 18,
   "id": "15da1a71-dfa1-4860-ae6b-c64997ce43a6",
   "metadata": {},
   "outputs": [
    {
     "name": "stdin",
     "output_type": "stream",
     "text": [
      "Enter your weight in kg:  65\n",
      "Enter your height in meters:  4.35\n"
     ]
    },
    {
     "name": "stdout",
     "output_type": "stream",
     "text": [
      "Your BMI is 3.4350640771568246 and you are underweight.\n"
     ]
    }
   ],
   "source": [
    "# 23. Develop a program to categorize a given person's BMI into underweight, normal, overweight, or obese using elif statements.\n",
    "weight = float(input(\"Enter your weight in kg: \"))\n",
    "height = float(input(\"Enter your height in meters: \"))\n",
    "\n",
    "bmi = weight / (height ** 2)\n",
    "\n",
    "if bmi < 18.5:\n",
    "    print(\"Your BMI is\", bmi, \"and you are underweight.\")\n",
    "elif bmi < 25:\n",
    "    print(\"Your BMI is\", bmi, \"and you are normal.\")\n",
    "elif bmi < 30:\n",
    "    print(\"Your BMI is\", bmi, \"and you are overweight.\")\n",
    "else:\n",
    "    print(\"Your BMI is\", bmi, \"and you are obese.\")"
   ]
  },
  {
   "cell_type": "code",
   "execution_count": 19,
   "id": "08a439fb-3149-440d-ac4b-79e71c7960b9",
   "metadata": {},
   "outputs": [
    {
     "name": "stdin",
     "output_type": "stream",
     "text": [
      "Enter a number:  -7\n"
     ]
    },
    {
     "name": "stdout",
     "output_type": "stream",
     "text": [
      "The number is negative\n"
     ]
    }
   ],
   "source": [
    "# 24. Create a program that determines whether a given number is positive, negative, or zero using elif statements.\n",
    "num = float(input(\"Enter a number: \"))\n",
    "\n",
    "if num > 0:\n",
    "    print(\"The number is positive\")\n",
    "elif num == 0:\n",
    "    print(\"The number is zero\")\n",
    "else:\n",
    "    print(\"The number is negative\")"
   ]
  },
  {
   "cell_type": "code",
   "execution_count": 20,
   "id": "6ac76cac-a1f7-4272-8694-b436e551cf9a",
   "metadata": {},
   "outputs": [
    {
     "name": "stdin",
     "output_type": "stream",
     "text": [
      "Enter a character:  t\n"
     ]
    },
    {
     "name": "stdout",
     "output_type": "stream",
     "text": [
      "The character is lowercase\n"
     ]
    }
   ],
   "source": [
    "# 25. Write a Python script to determine the type of a character (uppercase, lowercase, or special) using elif statements.\n",
    "char = input(\"Enter a character: \")\n",
    "\n",
    "if char.isupper():\n",
    "    print(\"The character is uppercase\")\n",
    "elif char.islower():\n",
    "    print(\"The character is lowercase\")\n",
    "else:\n",
    "    print(\"The character is special\")"
   ]
  },
  {
   "cell_type": "code",
   "execution_count": 21,
   "id": "a6bc75f7-2697-4ab5-ad20-4ac534e6cc51",
   "metadata": {},
   "outputs": [
    {
     "name": "stdin",
     "output_type": "stream",
     "text": [
      "Enter the purchase amount:  60\n"
     ]
    },
    {
     "name": "stdout",
     "output_type": "stream",
     "text": [
      "Purchase amount: $ 60.0\n",
      "Discount:  0 %\n",
      "Discount amount: $ 0.0\n",
      "Total amount: $ 60.0\n"
     ]
    }
   ],
   "source": [
    "# 26. Implement a program to calculate the discounted price based on different purchase amounts using elif statements.\n",
    "purchase_amount = float(input(\"Enter the purchase amount: \"))\n",
    "\n",
    "if purchase_amount > 50000:\n",
    "    discount = 20\n",
    "elif purchase_amount > 25000:\n",
    "    discount = 15\n",
    "elif purchase_amount > 10000:\n",
    "    discount = 10\n",
    "elif purchase_amount > 5000:\n",
    "    discount = 5\n",
    "else:\n",
    "    discount = 0\n",
    "\n",
    "discount_amount = (discount / 100) * purchase_amount\n",
    "total_amount = purchase_amount - discount_amount\n",
    "\n",
    "print(\"Purchase amount: $\", purchase_amount)\n",
    "print(\"Discount: \", discount, \"%\")\n",
    "print(\"Discount amount: $\", discount_amount)\n",
    "print(\"Total amount: $\", total_amount)"
   ]
  },
  {
   "cell_type": "code",
   "execution_count": 22,
   "id": "ff5ab15b-2a22-4a94-8524-e0e7cb8f583d",
   "metadata": {},
   "outputs": [
    {
     "name": "stdin",
     "output_type": "stream",
     "text": [
      "Enter the number of units consumed:  15\n"
     ]
    },
    {
     "name": "stdout",
     "output_type": "stream",
     "text": [
      "Electricity Bill = 64.00\n"
     ]
    }
   ],
   "source": [
    "# 27. Develop a program to calculate the electricity bill based on different consumption slabs using elif statements.\n",
    "units = int(input(\"Enter the number of units consumed: \"))\n",
    "\n",
    "if units <= 50:\n",
    "    amount = units * 2.60\n",
    "    surcharge = 25\n",
    "elif units <= 100:\n",
    "    amount = 130 + ((units - 50) * 3.25)\n",
    "    surcharge = 35\n",
    "elif units <= 200:\n",
    "    amount = 130 + 162.50 + ((units - 100) * 5.26)\n",
    "    surcharge = 45\n",
    "else:\n",
    "    amount = 130 + 162.50 + 526 + ((units - 200) * 8.45)\n",
    "    surcharge = 75\n",
    "\n",
    "total = amount + surcharge\n",
    "\n",
    "print(\"Electricity Bill = %.2f\" %total)"
   ]
  },
  {
   "cell_type": "code",
   "execution_count": 23,
   "id": "fc186583-6b4d-4fb7-8f9e-8a29718b473f",
   "metadata": {},
   "outputs": [
    {
     "name": "stdin",
     "output_type": "stream",
     "text": [
      "Enter the measure of angle 1:  45\n",
      "Enter the measure of angle 2:  45\n",
      "Enter the measure of angle 3:  90\n",
      "Enter the measure of angle 4:  180\n"
     ]
    },
    {
     "name": "stdout",
     "output_type": "stream",
     "text": [
      "The quadrilateral is a quadrangle\n"
     ]
    }
   ],
   "source": [
    "# 28. Create a program to determine the type of quadrilateral based on its angles and sides using elif statements.\n",
    "angle1 = int(input(\"Enter the measure of angle 1: \"))\n",
    "angle2 = int(input(\"Enter the measure of angle 2: \"))\n",
    "angle3 = int(input(\"Enter the measure of angle 3: \"))\n",
    "angle4 = int(input(\"Enter the measure of angle 4: \"))\n",
    "\n",
    "if angle1 == angle2 == angle3 == angle4:\n",
    "    print(\"The quadrilateral is a square\")\n",
    "elif angle1 == angle3 and angle2 == angle4:\n",
    "    print(\"The quadrilateral is a rectangle\")\n",
    "elif angle1 + angle2 + angle3 + angle4 == 360:\n",
    "    print(\"The quadrilateral is a quadrangle\")\n",
    "else:\n",
    "    print(\"The quadrilateral is a trapezoid\")"
   ]
  },
  {
   "cell_type": "code",
   "execution_count": 26,
   "id": "fb2ee2d9-43ff-419e-93d9-6af926aaadb1",
   "metadata": {},
   "outputs": [
    {
     "name": "stdin",
     "output_type": "stream",
     "text": [
      "Enter the month (e.g. January, February etc.):  May\n",
      "Enter the day:  10\n"
     ]
    },
    {
     "name": "stdout",
     "output_type": "stream",
     "text": [
      "Season is spring\n"
     ]
    }
   ],
   "source": [
    "# 29. Write a Python script to determine the season based on a user-provided month using elif statements.\n",
    "month = input(\"Enter the month (e.g. January, February etc.): \")\n",
    "day = int(input(\"Enter the day: \"))\n",
    "\n",
    "if month in ('January', 'February', 'March'):\n",
    "    season = 'winter'\n",
    "elif month in ('April', 'May', 'June'):\n",
    "    season = 'spring'\n",
    "elif month in ('July', 'August', 'September'):\n",
    "    season = 'summer'\n",
    "else:\n",
    "    season = 'autumn'\n",
    "\n",
    "if (month == 'March') and (day > 19):\n",
    "    season = 'spring'\n",
    "elif (month == 'June') and (day > 20):\n",
    "    season = 'summer'\n",
    "elif (month == 'September') and (day > 21):\n",
    "    season = 'autumn'\n",
    "elif (month == 'December') and (day > 20):\n",
    "    season = 'winter'\n",
    "\n",
    "print(\"Season is\", season)"
   ]
  },
  {
   "cell_type": "code",
   "execution_count": 27,
   "id": "c0cb7ffa-7a77-4503-bca3-85edc885f07e",
   "metadata": {},
   "outputs": [
    {
     "name": "stdin",
     "output_type": "stream",
     "text": [
      "Enter the year:  2024\n",
      "Enter the month (e.g. January, February, etc.):  May\n"
     ]
    },
    {
     "name": "stdout",
     "output_type": "stream",
     "text": [
      "2024 is a leap year\n",
      "May has 31 days\n"
     ]
    }
   ],
   "source": [
    "# 30. Implement a program to determine the type of a year (leap or common) and month (30 or 31 days) using elif statements.\n",
    "year = int(input(\"Enter the year: \"))\n",
    "month = input(\"Enter the month (e.g. January, February, etc.): \")\n",
    "\n",
    "if year % 4 == 0:\n",
    "    if year % 100 == 0:\n",
    "        if year % 400 == 0:\n",
    "            leap_year = True\n",
    "        else:\n",
    "            leap_year = False\n",
    "    else:\n",
    "        leap_year = True\n",
    "else:\n",
    "    leap_year = False\n",
    "\n",
    "if month in ('January', 'March', 'May', 'July', 'August', 'October', 'December'):\n",
    "    days = 31\n",
    "elif month in ('April', 'June', 'September', 'November'):\n",
    "    days = 30\n",
    "else:\n",
    "    if leap_year:\n",
    "        days = 29\n",
    "    else:\n",
    "        days = 28\n",
    "\n",
    "if leap_year:\n",
    "    print(year, \"is a leap year\")\n",
    "else:\n",
    "    print(year, \"is a common year\")\n",
    "\n",
    "print(month, \"has\", days, \"days\")"
   ]
  },
  {
   "cell_type": "markdown",
   "id": "d9d200f2-d82a-4569-b13b-3a55f0613283",
   "metadata": {},
   "source": [
    "Basic Level"
   ]
  },
  {
   "cell_type": "code",
   "execution_count": 1,
   "id": "22d73554-d775-43dc-804e-41dade267341",
   "metadata": {},
   "outputs": [
    {
     "name": "stdin",
     "output_type": "stream",
     "text": [
      "Enter a number:  -9\n"
     ]
    },
    {
     "name": "stdout",
     "output_type": "stream",
     "text": [
      "The number is negative\n"
     ]
    }
   ],
   "source": [
    "# 1. Write a Python program that checks if a given number is positive, negative, or zero.\n",
    "num = float(input(\"Enter a number: \"))\n",
    "\n",
    "if num > 0:\n",
    "    print(\"The number is positive\")\n",
    "elif num == 0:\n",
    "    print(\"The number is zero\")\n",
    "else:\n",
    "    print(\"The number is negative\")"
   ]
  },
  {
   "cell_type": "code",
   "execution_count": 2,
   "id": "4be4beeb-5147-489e-8810-f8dc5f7da3c7",
   "metadata": {},
   "outputs": [
    {
     "name": "stdin",
     "output_type": "stream",
     "text": [
      "Enter age:  18\n"
     ]
    },
    {
     "name": "stdout",
     "output_type": "stream",
     "text": [
      "You are eligible to vote\n"
     ]
    }
   ],
   "source": [
    "# 2. Create a program to determine if a person is eligible to vote based on their age.\n",
    "age = int(input(\"Enter age: \"))\n",
    "\n",
    "if age >= 18:\n",
    "    print(\"You are eligible to vote\")\n",
    "else:\n",
    "    print(\"You are not eligible to vote yet\")"
   ]
  },
  {
   "cell_type": "code",
   "execution_count": 3,
   "id": "d9e02939-b6dc-4992-9767-560bdf912851",
   "metadata": {},
   "outputs": [
    {
     "name": "stdin",
     "output_type": "stream",
     "text": [
      "Enter the first number:  12\n",
      "Enter the second number:  10\n"
     ]
    },
    {
     "name": "stdout",
     "output_type": "stream",
     "text": [
      "The maximum number is 12.0\n"
     ]
    }
   ],
   "source": [
    "# 3. Write a program to find the maximum of two given numbers using conditional statements.\n",
    "num1 = float(input(\"Enter the first number: \"))\n",
    "num2 = float(input(\"Enter the second number: \"))\n",
    "\n",
    "if num1 > num2:\n",
    "    print(\"The maximum number is\", num1)\n",
    "elif num2 > num1:\n",
    "    print(\"The maximum number is\", num2)\n",
    "else:\n",
    "    print(\"Both numbers are equal\")"
   ]
  },
  {
   "cell_type": "code",
   "execution_count": 4,
   "id": "c99677d5-8efe-4a51-a9f4-bdd55745ebff",
   "metadata": {},
   "outputs": [
    {
     "name": "stdin",
     "output_type": "stream",
     "text": [
      "Enter the exam score:  75\n"
     ]
    },
    {
     "name": "stdout",
     "output_type": "stream",
     "text": [
      "The grade for the exam score 75.0 is C\n"
     ]
    }
   ],
   "source": [
    "# 4. Develop a program that calculates the grade of a student based on their exam score.\n",
    "score = float(input(\"Enter the exam score: \"))\n",
    "\n",
    "if score >= 90:\n",
    "    grade = \"A\"\n",
    "elif score >= 80:\n",
    "    grade = \"B\"\n",
    "elif score >= 70:\n",
    "    grade = \"C\"\n",
    "elif score >= 60:\n",
    "    grade = \"D\"\n",
    "else:\n",
    "    grade = \"F\"\n",
    "\n",
    "print(\"The grade for the exam score\", score, \"is\", grade)"
   ]
  },
  {
   "cell_type": "code",
   "execution_count": 5,
   "id": "f470be0c-ab9b-4a14-bf12-9a5eab7ac65b",
   "metadata": {},
   "outputs": [
    {
     "name": "stdin",
     "output_type": "stream",
     "text": [
      "Enter a year:  2020\n"
     ]
    },
    {
     "name": "stdout",
     "output_type": "stream",
     "text": [
      "2020 is a leap year\n"
     ]
    }
   ],
   "source": [
    "# 5. Create a program that checks if a year is a leap year or not.\n",
    "year = int(input(\"Enter a year: \"))\n",
    "\n",
    "if (year % 4 == 0) and (year % 100 != 0) or (year % 400 == 0):\n",
    "    print(year, \"is a leap year\")\n",
    "else:\n",
    "    print(year, \"is not a leap year\")"
   ]
  },
  {
   "cell_type": "code",
   "execution_count": 6,
   "id": "c857c0bd-2abb-4ff6-96d9-683f8d29c88c",
   "metadata": {},
   "outputs": [
    {
     "name": "stdin",
     "output_type": "stream",
     "text": [
      "Enter the length of side a:  4\n",
      "Enter the length of side b:  6\n",
      "Enter the length of side c:  4\n"
     ]
    },
    {
     "name": "stdout",
     "output_type": "stream",
     "text": [
      "The triangle is isosceles\n"
     ]
    }
   ],
   "source": [
    "# 6. Write a program to classify a triangle based on its sides' lengths.\n",
    "a = float(input(\"Enter the length of side a: \"))\n",
    "b = float(input(\"Enter the length of side b: \"))\n",
    "c = float(input(\"Enter the length of side c: \"))\n",
    "\n",
    "if a == b == c:\n",
    "    print(\"The triangle is equilateral\")\n",
    "elif a == b or b == c or c == a:\n",
    "    print(\"The triangle is isosceles\")\n",
    "else:\n",
    "    print(\"The triangle is scalene\")"
   ]
  },
  {
   "cell_type": "code",
   "execution_count": 7,
   "id": "72b6921f-a061-4020-bfd5-20e1bb55e3e6",
   "metadata": {},
   "outputs": [
    {
     "name": "stdin",
     "output_type": "stream",
     "text": [
      "Enter the first number:  6\n",
      "Enter the second number:  4\n",
      "Enter the third number:  3\n"
     ]
    },
    {
     "name": "stdout",
     "output_type": "stream",
     "text": [
      "The largest number is 6.0\n"
     ]
    }
   ],
   "source": [
    "# 7. Build a program that determines the largest of three given numbers.\n",
    "num1 = float(input(\"Enter the first number: \"))\n",
    "num2 = float(input(\"Enter the second number: \"))\n",
    "num3 = float(input(\"Enter the third number: \"))\n",
    "\n",
    "if (num1 >= num2) and (num1 >= num3):\n",
    "    largest = num1\n",
    "elif (num2 >= num1) and (num2 >= num3):\n",
    "    largest = num2\n",
    "else:\n",
    "    largest = num3\n",
    "\n",
    "print(\"The largest number is\", largest)"
   ]
  },
  {
   "cell_type": "code",
   "execution_count": 8,
   "id": "5a235ac2-982c-4159-a352-68199e47c95b",
   "metadata": {},
   "outputs": [
    {
     "name": "stdin",
     "output_type": "stream",
     "text": [
      "Enter a character:  v\n"
     ]
    },
    {
     "name": "stdout",
     "output_type": "stream",
     "text": [
      "v is a consonant\n"
     ]
    }
   ],
   "source": [
    "# 8. Develop a program that checks whether a character is a vowel or a consonant.\n",
    "char = input(\"Enter a character: \")\n",
    "\n",
    "if char in ('a', 'e', 'i', 'o', 'u', 'A', 'E', 'I', 'O', 'U'):\n",
    "    print(char, \"is a vowel\")\n",
    "else:\n",
    "    print(char, \"is a consonant\")"
   ]
  },
  {
   "cell_type": "code",
   "execution_count": 9,
   "id": "96c9a7ee-fe9b-45f6-8952-b58d7adaae2b",
   "metadata": {},
   "outputs": [
    {
     "name": "stdout",
     "output_type": "stream",
     "text": [
      "The total cost of the shopping cart is: -1265.0\n"
     ]
    }
   ],
   "source": [
    "# 9. Create a program to calculate the total cost of a shopping cart based on discounts.\n",
    "cart = [\n",
    "    {\"item\": \"Book xyz\", \"price\": 10, \"discount\": 0.1},\n",
    "    {\"item\": \"Stationary\", \"price\": 20, \"discount\": 0.2},\n",
    "    {\"item\": \"Shirt\", \"price\": 100, \"discount\": 0},\n",
    "    {\"item\": \"Book xyz\", \"price\": 10, \"discount\": 0},\n",
    "    {\"item\": \"Shirt\", \"price\": 100, \"discount\": 15}\n",
    "]\n",
    "\n",
    "total_cost = 0\n",
    "\n",
    "for item in cart:\n",
    "    item_cost = item[\"price\"] * (1 - item[\"discount\"])\n",
    "    total_cost += item_cost\n",
    "\n",
    "print(\"The total cost of the shopping cart is:\", total_cost)"
   ]
  },
  {
   "cell_type": "code",
   "execution_count": 10,
   "id": "770668f5-1757-4f54-8a45-e6e1497c461f",
   "metadata": {},
   "outputs": [
    {
     "name": "stdin",
     "output_type": "stream",
     "text": [
      "Enter a number:  6\n"
     ]
    },
    {
     "name": "stdout",
     "output_type": "stream",
     "text": [
      "6 is even\n"
     ]
    }
   ],
   "source": [
    "# 10. Write a program that checks if a given number is even or odd.\n",
    "num = int(input(\"Enter a number: \"))\n",
    "\n",
    "if num % 2 == 0:\n",
    "    print(num, \"is even\")\n",
    "else:\n",
    "    print(num, \"is odd\")"
   ]
  },
  {
   "cell_type": "markdown",
   "id": "16eaac75-c385-48b4-bd92-e74b739cfe95",
   "metadata": {},
   "source": [
    "Intermediate Level"
   ]
  },
  {
   "cell_type": "code",
   "execution_count": 12,
   "id": "719a0979-2516-4343-987d-705445ae0816",
   "metadata": {},
   "outputs": [
    {
     "name": "stdin",
     "output_type": "stream",
     "text": [
      "Enter the coefficient of x^2:  1\n",
      "Enter the coefficient of x:  6\n",
      "Enter the constant term:  9\n"
     ]
    },
    {
     "name": "stdout",
     "output_type": "stream",
     "text": [
      "The roots are real and equal.\n",
      "Root 1 = Root 2 = -3.0\n"
     ]
    }
   ],
   "source": [
    "# 11. Write a program that calculates the roots of a quadratic equation .\n",
    "import math\n",
    "\n",
    "a = float(input(\"Enter the coefficient of x^2: \"))\n",
    "b = float(input(\"Enter the coefficient of x: \"))\n",
    "c = float(input(\"Enter the constant term: \"))\n",
    "\n",
    "discriminant = b**2 - 4*a*c\n",
    "\n",
    "if discriminant > 0:\n",
    "    root1 = (-b + math.sqrt(discriminant)) / (2*a)\n",
    "    root2 = (-b - math.sqrt(discriminant)) / (2*a)\n",
    "    print(\"The roots are real and different.\")\n",
    "    print(\"Root 1 =\", root1)\n",
    "    print(\"Root 2 =\", root2)\n",
    "elif discriminant == 0:\n",
    "    root = -b / (2*a)\n",
    "    print(\"The roots are real and equal.\")\n",
    "    print(\"Root 1 = Root 2 =\", root)\n",
    "else:\n",
    "    real_part = -b / (2*a)\n",
    "    imag_part = math.sqrt(-discriminant) / (2*a)\n",
    "    print(\"The roots are complex and different.\")\n",
    "    print(\"Root 1 =\", real_part, \"+\", imag_part, \"i\")\n",
    "    print(\"Root 2 =\", real_part, \"-\", imag_part, \"i\")"
   ]
  },
  {
   "cell_type": "code",
   "execution_count": 13,
   "id": "0b140dac-6d40-4e8b-99e9-017b8221b1a3",
   "metadata": {},
   "outputs": [
    {
     "name": "stdin",
     "output_type": "stream",
     "text": [
      "Enter the day number (1-7):  3\n"
     ]
    },
    {
     "name": "stdout",
     "output_type": "stream",
     "text": [
      "The day of the week is Wednesday\n"
     ]
    }
   ],
   "source": [
    "# 12. Create a program that determines the day of the week based on the day number (1-7).\n",
    "import datetime\n",
    "\n",
    "day_number = int(input(\"Enter the day number (1-7): \"))\n",
    "\n",
    "if day_number < 1 or day_number > 7:\n",
    "    print(\"Invalid day number\")\n",
    "else:\n",
    "    weekday_names = [\"Monday\", \"Tuesday\", \"Wednesday\", \"Thursday\", \"Friday\", \"Saturday\", \"Sunday\"]\n",
    "    day_name = weekday_names[day_number - 1]\n",
    "    print(\"The day of the week is\", day_name)"
   ]
  },
  {
   "cell_type": "code",
   "execution_count": 14,
   "id": "8312d526-fa7c-45fa-8b7d-b2f6dae9aab9",
   "metadata": {},
   "outputs": [
    {
     "name": "stdin",
     "output_type": "stream",
     "text": [
      "Enter a number:  6\n"
     ]
    },
    {
     "name": "stdout",
     "output_type": "stream",
     "text": [
      "The factorial of 6 is 720\n"
     ]
    }
   ],
   "source": [
    "# 13. Develop a program that calculates the factorial of a given number using recursion.\n",
    "def factorial(n):\n",
    "    if n == 0:\n",
    "        return 1\n",
    "    else:\n",
    "        return n * factorial(n-1)\n",
    "\n",
    "num = int(input(\"Enter a number: \"))\n",
    "\n",
    "if num < 0:\n",
    "    print(\"Sorry, factorial does not exist for negative numbers\")\n",
    "else:\n",
    "    print(\"The factorial of\", num, \"is\", factorial(num))"
   ]
  },
  {
   "cell_type": "code",
   "execution_count": 15,
   "id": "31ae2370-68e6-4122-8430-0c9825e1790b",
   "metadata": {},
   "outputs": [
    {
     "name": "stdin",
     "output_type": "stream",
     "text": [
      "Enter the first number:  9\n",
      "Enter the second number:  5\n",
      "Enter the third number:  10\n"
     ]
    },
    {
     "name": "stdout",
     "output_type": "stream",
     "text": [
      "The largest number is 10.0\n"
     ]
    }
   ],
   "source": [
    "# 14. Write a program to find the largest among three numbers without using the `max()` function.\n",
    "num1 = float(input(\"Enter the first number: \"))\n",
    "num2 = float(input(\"Enter the second number: \"))\n",
    "num3 = float(input(\"Enter the third number: \"))\n",
    "\n",
    "if num1 >= num2 and num1 >= num3:\n",
    "    largest = num1\n",
    "elif num2 >= num1 and num2 >= num3:\n",
    "    largest = num2\n",
    "else:\n",
    "    largest = num3\n",
    "\n",
    "print(\"The largest number is\", largest)"
   ]
  },
  {
   "cell_type": "code",
   "execution_count": 16,
   "id": "88d038c1-402d-4c50-9dc9-0bf5b15c4c75",
   "metadata": {},
   "outputs": [
    {
     "name": "stdout",
     "output_type": "stream",
     "text": [
      "1. Check balance\n",
      "2. Withdraw money\n",
      "3. Deposit money\n",
      "4. Quit\n"
     ]
    },
    {
     "name": "stdin",
     "output_type": "stream",
     "text": [
      "Enter your choice:  2\n",
      "Enter the amount to withdraw:  500\n"
     ]
    },
    {
     "name": "stdout",
     "output_type": "stream",
     "text": [
      "Withdrawal successful\n",
      "1. Check balance\n",
      "2. Withdraw money\n",
      "3. Deposit money\n",
      "4. Quit\n"
     ]
    },
    {
     "name": "stdin",
     "output_type": "stream",
     "text": [
      "Enter your choice:  1\n"
     ]
    },
    {
     "name": "stdout",
     "output_type": "stream",
     "text": [
      "Your balance is: 500.0\n",
      "1. Check balance\n",
      "2. Withdraw money\n",
      "3. Deposit money\n",
      "4. Quit\n"
     ]
    },
    {
     "name": "stdin",
     "output_type": "stream",
     "text": [
      "Enter your choice:  4\n"
     ]
    },
    {
     "name": "stdout",
     "output_type": "stream",
     "text": [
      "Thank you for using our ATM\n"
     ]
    }
   ],
   "source": [
    "# 15. Create a program that simulates a basic ATM transaction menu.\n",
    "balance = 1000\n",
    "\n",
    "while True:\n",
    "    print(\"1. Check balance\")\n",
    "    print(\"2. Withdraw money\")\n",
    "    print(\"3. Deposit money\")\n",
    "    print(\"4. Quit\")\n",
    "\n",
    "    choice = int(input(\"Enter your choice: \"))\n",
    "\n",
    "    if choice == 1:\n",
    "        print(\"Your balance is:\", balance)\n",
    "    elif choice == 2:\n",
    "        amount = float(input(\"Enter the amount to withdraw: \"))\n",
    "        if amount > balance:\n",
    "            print(\"Insufficient balance\")\n",
    "        else:\n",
    "            balance -= amount\n",
    "            print(\"Withdrawal successful\")\n",
    "    elif choice == 3:\n",
    "        amount = float(input(\"Enter the amount to deposit: \"))\n",
    "        balance += amount\n",
    "        print(\"Deposit successful\")\n",
    "    elif choice == 4:\n",
    "        print(\"Thank you for using our ATM\")\n",
    "        break\n",
    "    else:\n",
    "        print(\"Invalid choice\")"
   ]
  },
  {
   "cell_type": "code",
   "execution_count": 17,
   "id": "6ab841f1-3a53-4e24-a1c5-6f91d2352c01",
   "metadata": {},
   "outputs": [
    {
     "name": "stdin",
     "output_type": "stream",
     "text": [
      "Enter a string:  level\n"
     ]
    },
    {
     "name": "stdout",
     "output_type": "stream",
     "text": [
      "The string is a palindrome\n"
     ]
    }
   ],
   "source": [
    "# 16. Build a program that checks if a given string is a palindrome or not.\n",
    "string = input(\"Enter a string: \")\n",
    "\n",
    "if string == string[::-1]:\n",
    "    print(\"The string is a palindrome\")\n",
    "else:\n",
    "    print(\"The string is not a palindrome\")"
   ]
  },
  {
   "cell_type": "code",
   "execution_count": 18,
   "id": "2027dbae-0cf1-4b30-b919-3dc3d4c331c8",
   "metadata": {},
   "outputs": [
    {
     "name": "stdout",
     "output_type": "stream",
     "text": [
      "The average of the list (excluding the smallest and largest values) is: 15.0\n"
     ]
    }
   ],
   "source": [
    "# 17. Write a program that calculates the average of a list of numbers, excluding the smallest and largest values.\n",
    "numbers = [5, 10, 15, 20, 25]\n",
    "\n",
    "if len(numbers) < 3:\n",
    "    print(\"The list must have at least three numbers\")\n",
    "else:\n",
    "    numbers.sort()\n",
    "    numbers = numbers[1:-1]\n",
    "    average = sum(numbers) / len(numbers)\n",
    "    print(\"The average of the list (excluding the smallest and largest values) is:\", average)"
   ]
  },
  {
   "cell_type": "code",
   "execution_count": 19,
   "id": "2c9f6cbe-40c6-402d-b09d-1a52d5f72c97",
   "metadata": {},
   "outputs": [
    {
     "name": "stdin",
     "output_type": "stream",
     "text": [
      "Enter the temperature in Celsius:  25\n"
     ]
    },
    {
     "name": "stdout",
     "output_type": "stream",
     "text": [
      "The temperature in Fahrenheit is: 77.0\n"
     ]
    }
   ],
   "source": [
    "# 18. Develop a program that converts a given temperature from Celsius to Fahrenheit.\n",
    "celsius = float(input(\"Enter the temperature in Celsius: \"))\n",
    "fahrenheit = (celsius * 1.8) + 32\n",
    "print(\"The temperature in Fahrenheit is:\", fahrenheit)"
   ]
  },
  {
   "cell_type": "code",
   "execution_count": 20,
   "id": "0d0b25e3-dfdf-48e5-8933-9c5c52208b0d",
   "metadata": {},
   "outputs": [
    {
     "name": "stdout",
     "output_type": "stream",
     "text": [
      "Select operation.\n",
      "1. Add\n",
      "2. Subtract\n",
      "3. Multiply\n",
      "4. Divide\n"
     ]
    },
    {
     "name": "stdin",
     "output_type": "stream",
     "text": [
      "Enter choice(1/2/3/4):  4\n",
      "Enter first number:  6\n",
      "Enter second number:  3\n"
     ]
    },
    {
     "name": "stdout",
     "output_type": "stream",
     "text": [
      "6.0 / 3.0 = 2.0\n"
     ]
    },
    {
     "name": "stdin",
     "output_type": "stream",
     "text": [
      "Let's do next calculation? (yes/no):  n\n",
      "Enter choice(1/2/3/4):  1\n",
      "Enter first number:  4\n",
      "Enter second number:  8\n"
     ]
    },
    {
     "name": "stdout",
     "output_type": "stream",
     "text": [
      "4.0 + 8.0 = 12.0\n"
     ]
    },
    {
     "name": "stdin",
     "output_type": "stream",
     "text": [
      "Let's do next calculation? (yes/no):  no\n"
     ]
    },
    {
     "name": "stdout",
     "output_type": "stream",
     "text": [
      "Thank you for using our calculator\n"
     ]
    }
   ],
   "source": [
    "# 19. Create a program that simulates a basic calculator for addition, subtraction, multiplication, and division.\n",
    "def add(x, y):\n",
    "    return x + y\n",
    "\n",
    "def subtract(x, y):\n",
    "    return x - y\n",
    "\n",
    "def multiply(x, y):\n",
    "    return x * y\n",
    "\n",
    "def divide(x, y):\n",
    "    return x / y\n",
    "\n",
    "print(\"Select operation.\")\n",
    "print(\"1. Add\")\n",
    "print(\"2. Subtract\")\n",
    "print(\"3. Multiply\")\n",
    "print(\"4. Divide\")\n",
    "\n",
    "while True:\n",
    "    choice = input(\"Enter choice(1/2/3/4): \")\n",
    "\n",
    "    if choice in ('1', '2', '3', '4'):\n",
    "        try:\n",
    "            num1 = float(input(\"Enter first number: \"))\n",
    "            num2 = float(input(\"Enter second number: \"))\n",
    "        except ValueError:\n",
    "            print(\"Invalid input. Please enter a number.\")\n",
    "            continue\n",
    "\n",
    "        if choice == '1':\n",
    "            print(num1, \"+\", num2, \"=\", add(num1, num2))\n",
    "\n",
    "        elif choice == '2':\n",
    "            print(num1, \"-\", num2, \"=\", subtract(num1, num2))\n",
    "\n",
    "        elif choice == '3':\n",
    "            print(num1, \"*\", num2, \"=\", multiply(num1, num2))\n",
    "\n",
    "        elif choice == '4':\n",
    "            if num2 == 0:\n",
    "                print(\"Cannot divide by zero\")\n",
    "            else:\n",
    "                print(num1, \"/\", num2, \"=\", divide(num1, num2))\n",
    "    else:\n",
    "        print(\"Invalid choice\")\n",
    "\n",
    "    next_calculation = input(\"Let's do next calculation? (yes/no): \")\n",
    "    if next_calculation == \"no\":\n",
    "        break\n",
    "\n",
    "print(\"Thank you for using our calculator\")"
   ]
  },
  {
   "cell_type": "code",
   "execution_count": 21,
   "id": "d4206c9f-d435-4f71-893b-16a473fc8996",
   "metadata": {},
   "outputs": [
    {
     "name": "stdin",
     "output_type": "stream",
     "text": [
      "Enter the coefficient of x^3:  1\n",
      "Enter the coefficient of x^2:  8\n",
      "Enter the coefficient of x:  25\n",
      "Enter the constant term:  32\n"
     ]
    },
    {
     "name": "stdout",
     "output_type": "stream",
     "text": [
      "The roots of the cubic equation are: [(-1.103160407313874+1.3450620689725137j)]\n"
     ]
    }
   ],
   "source": [
    "# 20. Write a program that determines the roots of a cubic equation using the Cardano formula.\n",
    "import math\n",
    "\n",
    "def solve_cubic(a, b, c, d):\n",
    "    p = (3*a*c - b**2) / (3*a**2)\n",
    "    q = (2*b**3 - 9*a*b*c + 27*a**2*d) / (27*a**3)\n",
    "    delta = (q**2 / 4) + (p**3 / 27)\n",
    "\n",
    "    if delta > 0:\n",
    "        u = (-q/2 + math.sqrt(delta))**(1/3)\n",
    "        v = (-q/2 - math.sqrt(delta))**(1/3)\n",
    "        x1 = u + v - b / (3*a)\n",
    "        return [x1]\n",
    "    elif delta == 0:\n",
    "        u = (-q/2)**(1/3)\n",
    "        x1 = 2*u - b / (3*a)\n",
    "        x2 = -u - b / (3*a)\n",
    "        return [x1, x2]\n",
    "    else:\n",
    "        phi = math.acos(-q / (2 * math.sqrt(-p**3 / 27)))\n",
    "        u = 2 * math.sqrt(-p / 3) * math.cos(phi / 3)\n",
    "        v = 2 * math.sqrt(-p / 3) * math.cos((phi + 2*math.pi) / 3)\n",
    "        w = 2 * math.sqrt(-p / 3) * math.cos((phi + 4*math.pi) / 3)\n",
    "        x1 = u + b / (3*a)\n",
    "        x2 = v + b / (3*a)\n",
    "        x3 = w + b / (3*a)\n",
    "        return [x1, x2, x3]\n",
    "\n",
    "a = float(input(\"Enter the coefficient of x^3: \"))\n",
    "b = float(input(\"Enter the coefficient of x^2: \"))\n",
    "c = float(input(\"Enter the coefficient of x: \"))\n",
    "d = float(input(\"Enter the constant term: \"))\n",
    "\n",
    "roots = solve_cubic(a, b, c, d)\n",
    "\n",
    "print(\"The roots of the cubic equation are:\", roots)"
   ]
  },
  {
   "cell_type": "markdown",
   "id": "494e8cb2-1851-47a4-bc67-d02c3b1343ab",
   "metadata": {},
   "source": [
    "Advanced Level"
   ]
  },
  {
   "cell_type": "code",
   "execution_count": 22,
   "id": "b9e1e6d9-56e5-484e-a571-9438768ec4a2",
   "metadata": {},
   "outputs": [
    {
     "name": "stdin",
     "output_type": "stream",
     "text": [
      "Enter your income:  25000\n"
     ]
    },
    {
     "name": "stdout",
     "output_type": "stream",
     "text": [
      "Your income tax is: 1814.8799999999999\n"
     ]
    }
   ],
   "source": [
    "# 21. Create a program that calculates the income tax based on the user's income and tax brackets.\n",
    "# Define the tax brackets and their corresponding tax rates\n",
    "tax_brackets = [\n",
    "    (0, 9875, 0.10),\n",
    "    (9876, 40125, 0.12),\n",
    "    (40126, 85525, 0.22),\n",
    "    (85526, 163300, 0.24),\n",
    "    (163301, 207350, 0.32),\n",
    "    (207351, 518400, 0.35),\n",
    "    (518401, float('inf'), 0.37)\n",
    "]\n",
    "\n",
    "# Prompt the user to enter their income\n",
    "income = float(input(\"Enter your income: \"))\n",
    "\n",
    "# Determine which tax bracket the user's income falls into\n",
    "for bracket in tax_brackets:\n",
    "    if income >= bracket[0] and income <= bracket[1]:\n",
    "        tax_rate = bracket[2]\n",
    "        break\n",
    "\n",
    "# Calculate the income tax based on the user's income and tax bracket\n",
    "taxable_income = income - bracket[0]\n",
    "income_tax = taxable_income * tax_rate\n",
    "\n",
    "# Display the income tax to the user\n",
    "print(\"Your income tax is:\", income_tax)"
   ]
  },
  {
   "cell_type": "code",
   "execution_count": 23,
   "id": "2cc3b1fe-4d72-40fc-855e-0fb8c85ea2da",
   "metadata": {},
   "outputs": [
    {
     "name": "stdout",
     "output_type": "stream",
     "text": [
      "Welcome to Rock-Paper-Scissors!\n"
     ]
    },
    {
     "name": "stdin",
     "output_type": "stream",
     "text": [
      "Enter your choice (rock/paper/scissors):  rock\n"
     ]
    },
    {
     "name": "stdout",
     "output_type": "stream",
     "text": [
      "You lose! Paper covers rock.\n"
     ]
    },
    {
     "name": "stdin",
     "output_type": "stream",
     "text": [
      "Do you want to play again? (y/n):  y\n",
      "Enter your choice (rock/paper/scissors):  paper\n"
     ]
    },
    {
     "name": "stdout",
     "output_type": "stream",
     "text": [
      "You win! Paper covers rock.\n"
     ]
    },
    {
     "name": "stdin",
     "output_type": "stream",
     "text": [
      "Do you want to play again? (y/n):  n\n"
     ]
    },
    {
     "name": "stdout",
     "output_type": "stream",
     "text": [
      "Thanks for playing Rock-Paper-Scissors!\n"
     ]
    }
   ],
   "source": [
    "# 22. Write a program that simulates a rock-paper-scissors game against the computer.\n",
    "import random\n",
    "\n",
    "options = [\"rock\", \"paper\", \"scissors\"]\n",
    "\n",
    "print(\"Welcome to Rock-Paper-Scissors!\")\n",
    "while True:\n",
    "    # Get user's choice\n",
    "    user_choice = input(\"Enter your choice (rock/paper/scissors): \").lower()\n",
    "    while user_choice not in options:\n",
    "        user_choice = input(\"Invalid choice. Enter your choice (rock/paper/scissors): \").lower()\n",
    "\n",
    "    # Get computer's choice\n",
    "    computer_choice = random.choice(options)\n",
    "\n",
    "    # Determine the winner\n",
    "    if user_choice == computer_choice:\n",
    "        print(\"It's a tie!\")\n",
    "    elif user_choice == \"rock\":\n",
    "        if computer_choice == \"paper\":\n",
    "            print(\"You lose! Paper covers rock.\")\n",
    "        else:\n",
    "            print(\"You win! Rock smashes scissors.\")\n",
    "    elif user_choice == \"paper\":\n",
    "        if computer_choice == \"scissors\":\n",
    "            print(\"You lose! Scissors cut paper.\")\n",
    "        else:\n",
    "            print(\"You win! Paper covers rock.\")\n",
    "    elif user_choice == \"scissors\":\n",
    "        if computer_choice == \"rock\":\n",
    "            print(\"You lose! Rock smashes scissors.\")\n",
    "        else:\n",
    "            print(\"You win! Scissors cut paper.\")\n",
    "\n",
    "    # Ask the user if they want to play again\n",
    "    play_again = input(\"Do you want to play again? (y/n): \").lower()\n",
    "    while play_again not in [\"y\", \"n\"]:\n",
    "        play_again = input(\"Invalid choice. Do you want to play again? (y/n): \").lower()\n",
    "    if play_again == \"n\":\n",
    "        break\n",
    "\n",
    "print(\"Thanks for playing Rock-Paper-Scissors!\")"
   ]
  },
  {
   "cell_type": "code",
   "execution_count": 24,
   "id": "7f9cb27f-c6d4-4845-9f09-93222a0aa8ad",
   "metadata": {},
   "outputs": [
    {
     "name": "stdout",
     "output_type": "stream",
     "text": [
      "Welcome to the Random Password Generator!\n"
     ]
    },
    {
     "name": "stdin",
     "output_type": "stream",
     "text": [
      "Enter the length of the password:  6\n",
      "Enter the complexity level (low/medium/high):  high\n"
     ]
    },
    {
     "name": "stdout",
     "output_type": "stream",
     "text": [
      "Your password is: 48\"F?z\n"
     ]
    },
    {
     "name": "stdin",
     "output_type": "stream",
     "text": [
      "Do you want to generate another password? (y/n):  n\n"
     ]
    },
    {
     "name": "stdout",
     "output_type": "stream",
     "text": [
      "Thanks for using the Random Password Generator!\n"
     ]
    }
   ],
   "source": [
    "# 23. Develop a program that generates a random password based on user preferences (length, complexity).\n",
    "import random\n",
    "import string\n",
    "\n",
    "def generate_password(length, complexity):\n",
    "    if complexity == \"low\":\n",
    "        chars = string.ascii_lowercase\n",
    "    elif complexity == \"medium\":\n",
    "        chars = string.ascii_letters + string.digits\n",
    "    elif complexity == \"high\":\n",
    "        chars = string.ascii_letters + string.digits + string.punctuation\n",
    "    else:\n",
    "        print(\"Invalid complexity level\")\n",
    "        return\n",
    "\n",
    "    password = ''.join(random.choice(chars) for _ in range(length))\n",
    "    return password\n",
    "\n",
    "print(\"Welcome to the Random Password Generator!\")\n",
    "while True:\n",
    "    # Get user's preferences\n",
    "    length = int(input(\"Enter the length of the password: \"))\n",
    "    complexity = input(\"Enter the complexity level (low/medium/high): \").lower()\n",
    "\n",
    "    # Generate the password\n",
    "    password = generate_password(length, complexity)\n",
    "\n",
    "    # Display the password to the user\n",
    "    print(\"Your password is:\", password)\n",
    "\n",
    "    # Ask the user if they want to generate another password\n",
    "    generate_again = input(\"Do you want to generate another password? (y/n): \").lower()\n",
    "    if generate_again == \"n\":\n",
    "        break\n",
    "\n",
    "print(\"Thanks for using the Random Password Generator!\")"
   ]
  },
  {
   "cell_type": "code",
   "execution_count": 1,
   "id": "d6262208-c4a1-438d-9a3f-9da1dd427613",
   "metadata": {},
   "outputs": [
    {
     "name": "stdout",
     "output_type": "stream",
     "text": [
      "Welcome to the Adventure Game!\n",
      "You find yourself in a dark forest.\n",
      "You see a path to your left and a path to your right.\n"
     ]
    },
    {
     "name": "stdin",
     "output_type": "stream",
     "text": [
      "Type 'left' to take the left path or 'right' to take the right path or 'quit' to quit the game:  right\n"
     ]
    },
    {
     "name": "stdout",
     "output_type": "stream",
     "text": [
      "You chose the right path.\n",
      "You come across a cave.\n",
      "You can either enter the cave or continue on your journey.\n"
     ]
    },
    {
     "name": "stdin",
     "output_type": "stream",
     "text": [
      "Type 'enter' to enter the cave or 'continue' to continue on your journey:  enter\n"
     ]
    },
    {
     "name": "stdout",
     "output_type": "stream",
     "text": [
      "You enter the cave and find a dragon.\n",
      "The dragon attacks you and you are unable to defend yourself.\n",
      "Game over.\n",
      "Welcome to the Adventure Game!\n",
      "You find yourself in a dark forest.\n",
      "You see a path to your left and a path to your right.\n"
     ]
    },
    {
     "name": "stdin",
     "output_type": "stream",
     "text": [
      "Type 'left' to take the left path or 'right' to take the right path or 'quit' to quit the game:  quit\n"
     ]
    },
    {
     "name": "stdout",
     "output_type": "stream",
     "text": [
      "Thanks for playing...\n"
     ]
    }
   ],
   "source": [
    "# 24. Create a program that implements a simple text-based adventure game with branching scenarios.\n",
    "import time\n",
    "\n",
    "def intro():\n",
    "    print(\"Welcome to the Adventure Game!\")\n",
    "    time.sleep(2)\n",
    "    print(\"You find yourself in a dark forest.\")\n",
    "    time.sleep(2)\n",
    "    print(\"You see a path to your left and a path to your right.\")\n",
    "    time.sleep(2)\n",
    "\n",
    "def left_path():\n",
    "    print(\"You chose the left path.\")\n",
    "    time.sleep(2)\n",
    "    print(\"You come across a river.\")\n",
    "    time.sleep(2)\n",
    "    print(\"You can either swim across or find a bridge.\")\n",
    "    time.sleep(2)\n",
    "    choice = input(\"Type 'swim' to swim across or 'bridge' to find a bridge: \")\n",
    "    if choice == \"swim\":\n",
    "        print(\"You try to swim across but get swept away by the current.\")\n",
    "        time.sleep(2)\n",
    "        print(\"Game over.\")\n",
    "    elif choice == \"bridge\":\n",
    "        print(\"You find a bridge and cross the river safely.\")\n",
    "        time.sleep(2)\n",
    "        print(\"You come across a treasure chest.\")\n",
    "        time.sleep(2)\n",
    "        print(\"You can either open it or leave it alone.\")\n",
    "        time.sleep(2)\n",
    "        choice = input(\"Type 'open' to open the chest or 'leave' to leave it alone: \")\n",
    "        if choice == \"open\":\n",
    "            print(\"You open the chest and find a valuable treasure!\")\n",
    "            time.sleep(2)\n",
    "            print(\"Congratulations, you win!\")\n",
    "        elif choice == \"leave\":\n",
    "            print(\"You leave the chest alone and continue on your journey.\")\n",
    "            time.sleep(2)\n",
    "            print(\"You come across a group of bandits.\")\n",
    "            time.sleep(2)\n",
    "            print(\"They attack you and you are unable to defend yourself.\")\n",
    "            time.sleep(2)\n",
    "            print(\"Game over.\")\n",
    "        else:\n",
    "            print(\"Invalid choice.\")\n",
    "            left_path()\n",
    "\n",
    "def right_path():\n",
    "    print(\"You chose the right path.\")\n",
    "    time.sleep(2)\n",
    "    print(\"You come across a cave.\")\n",
    "    time.sleep(2)\n",
    "    print(\"You can either enter the cave or continue on your journey.\")\n",
    "    time.sleep(2)\n",
    "    choice = input(\"Type 'enter' to enter the cave or 'continue' to continue on your journey: \")\n",
    "    if choice == \"enter\":\n",
    "        print(\"You enter the cave and find a dragon.\")\n",
    "        time.sleep(2)\n",
    "        print(\"The dragon attacks you and you are unable to defend yourself.\")\n",
    "        time.sleep(2)\n",
    "        print(\"Game over.\")\n",
    "    elif choice == \"continue\":\n",
    "        print(\"You continue on your journey and come across a village.\")\n",
    "        time.sleep(2)\n",
    "        print(\"The villagers welcome you and offer you food and shelter.\")\n",
    "        time.sleep(2)\n",
    "        print(\"Congratulations, you win!\")\n",
    "    else:\n",
    "        print(\"Invalid choice.\")\n",
    "        right_path()\n",
    "\n",
    "# Main game loop\n",
    "while True:\n",
    "    intro()\n",
    "    choice = input(\"Type 'left' to take the left path or 'right' to take the right path or 'quit' to quit the game: \")\n",
    "    if choice == \"left\":\n",
    "        left_path()\n",
    "    elif choice == \"right\":\n",
    "        right_path()\n",
    "    elif choice == \"quit\":\n",
    "        print(\"Thanks for playing...\")\n",
    "        break\n",
    "    else:\n",
    "        print(\"Invalid choice.\")"
   ]
  },
  {
   "cell_type": "code",
   "execution_count": 12,
   "id": "6e4ad646-d800-4009-acd1-e270fe8b168f",
   "metadata": {},
   "outputs": [
    {
     "name": "stdin",
     "output_type": "stream",
     "text": [
      "Enter value of x:  3\n",
      "Enter value of y:  5\n"
     ]
    },
    {
     "name": "stdout",
     "output_type": "stream",
     "text": [
      "result = 17\n"
     ]
    }
   ],
   "source": [
    "# 25. Build a program that solves a linear equation for x, considering different cases.\n",
    "eq = \"2*x + 3*y - 4\"\n",
    "\n",
    "x = input(\"Enter value of x: \")\n",
    "y = input(\"Enter value of y: \")\n",
    "\n",
    "sol = eval(eq.replace(\"x\", x).replace(\"y\", y))\n",
    "\n",
    "# Print the solution\n",
    "print(\"result =\", sol)"
   ]
  },
  {
   "cell_type": "code",
   "execution_count": 13,
   "id": "c8433564-d9e1-45e6-af42-4434877e2fa4",
   "metadata": {},
   "outputs": [
    {
     "name": "stdout",
     "output_type": "stream",
     "text": [
      "Question 1 : What is the capital of France?\n",
      "A. Paris\n",
      "B. London\n",
      "C. Berlin\n"
     ]
    },
    {
     "name": "stdin",
     "output_type": "stream",
     "text": [
      "Enter your answer (A, B, or C):  A\n"
     ]
    },
    {
     "name": "stdout",
     "output_type": "stream",
     "text": [
      "Correct!\n",
      "Question 2 : What is the largest planet in our solar system?\n",
      "A. Earth\n",
      "B. Jupiter\n",
      "C. Mars\n"
     ]
    },
    {
     "name": "stdin",
     "output_type": "stream",
     "text": [
      "Enter your answer (A, B, or C):  B\n"
     ]
    },
    {
     "name": "stdout",
     "output_type": "stream",
     "text": [
      "Correct!\n",
      "Question 3 : What is the highest mountain in the world?\n",
      "A. Mount Everest\n",
      "B. Mount Kilimanjaro\n",
      "C. Mount Fuji\n"
     ]
    },
    {
     "name": "stdin",
     "output_type": "stream",
     "text": [
      "Enter your answer (A, B, or C):  A\n"
     ]
    },
    {
     "name": "stdout",
     "output_type": "stream",
     "text": [
      "Correct!\n",
      "Your score is: 3 out of 3\n"
     ]
    }
   ],
   "source": [
    "# 26. Write a program that simulates a basic quiz game with multiple-choice questions and scoring.\n",
    "# Define the questions and their possible answers\n",
    "questions = [\n",
    "    {\n",
    "        \"question\": \"What is the capital of France?\",\n",
    "        \"answers\": [\"A. Paris\", \"B. London\", \"C. Berlin\"],\n",
    "        \"correct_answer\": \"A\"\n",
    "    },\n",
    "    {\n",
    "        \"question\": \"What is the largest planet in our solar system?\",\n",
    "        \"answers\": [\"A. Earth\", \"B. Jupiter\", \"C. Mars\"],\n",
    "        \"correct_answer\": \"B\"\n",
    "    },\n",
    "    {\n",
    "        \"question\": \"What is the highest mountain in the world?\",\n",
    "        \"answers\": [\"A. Mount Everest\", \"B. Mount Kilimanjaro\", \"C. Mount Fuji\"],\n",
    "        \"correct_answer\": \"A\"\n",
    "    }\n",
    "]\n",
    "\n",
    "# Initialize the user's score\n",
    "score = 0\n",
    "\n",
    "# Prompt the user to answer each question\n",
    "for i, q in enumerate(questions):\n",
    "    print(\"Question\", i+1, \":\", q[\"question\"])\n",
    "    for a in q[\"answers\"]:\n",
    "        print(a)\n",
    "    user_answer = input(\"Enter your answer (A, B, or C): \").upper()\n",
    "    while user_answer not in [\"A\", \"B\", \"C\"]:\n",
    "        user_answer = input(\"Invalid answer. Enter your answer (A, B, or C): \").upper()\n",
    "    if user_answer == q[\"correct_answer\"]:\n",
    "        print(\"Correct!\")\n",
    "        score += 1\n",
    "    else:\n",
    "        print(\"Incorrect.\")\n",
    "\n",
    "# Display the user's score\n",
    "print(\"Your score is:\", score, \"out of\", len(questions))"
   ]
  },
  {
   "cell_type": "code",
   "execution_count": 14,
   "id": "53913d00-603b-4ba2-ae31-bc367d66c4d2",
   "metadata": {},
   "outputs": [
    {
     "name": "stdin",
     "output_type": "stream",
     "text": [
      "Enter a year:  2019\n"
     ]
    },
    {
     "name": "stdout",
     "output_type": "stream",
     "text": [
      "2019 is not a prime number.\n"
     ]
    }
   ],
   "source": [
    "# 27. Develop a program that determines whether a given year is a prime number or not.\n",
    "import math\n",
    "\n",
    "# Prompt the user to enter a year\n",
    "year = int(input(\"Enter a year: \"))\n",
    "\n",
    "# Check if the year is greater than 1\n",
    "if year > 1:\n",
    "    # Iterate through all the numbers from 2 to the square root of the year\n",
    "    for i in range(2, int(math.sqrt(year))+1):\n",
    "        # Check if the year is divisible by any of the numbers in the range\n",
    "        if year % i == 0:\n",
    "            print(year, \"is not a prime number.\")\n",
    "            break\n",
    "    else:\n",
    "        print(year, \"is a prime number.\")\n",
    "else:\n",
    "    print(year, \"is not a prime number.\")"
   ]
  },
  {
   "cell_type": "code",
   "execution_count": 15,
   "id": "40083216-c818-41c7-9c09-0bf87f4e26e8",
   "metadata": {},
   "outputs": [
    {
     "name": "stdin",
     "output_type": "stream",
     "text": [
      "Enter the first number:  6\n",
      "Enter the second number:  4\n",
      "Enter the third number:  7\n"
     ]
    },
    {
     "name": "stdout",
     "output_type": "stream",
     "text": [
      "The numbers in ascending order are: 4 6 7\n"
     ]
    }
   ],
   "source": [
    "# 28. Create a program that sorts three numbers in ascending order using conditional statements.\n",
    "# Prompt the user to enter three numbers\n",
    "num1 = int(input(\"Enter the first number: \"))\n",
    "num2 = int(input(\"Enter the second number: \"))\n",
    "num3 = int(input(\"Enter the third number: \"))\n",
    "\n",
    "# Sort the numbers in ascending order\n",
    "if num1 <= num2 and num1 <= num3:\n",
    "    smallest = num1\n",
    "    if num2 <= num3:\n",
    "        middle = num2\n",
    "        biggest = num3\n",
    "    else:\n",
    "        middle = num3\n",
    "        biggest = num2\n",
    "elif num2 <= num1 and num2 <= num3:\n",
    "    smallest = num2\n",
    "    if num1 <= num3:\n",
    "        middle = num1\n",
    "        biggest = num3\n",
    "    else:\n",
    "        middle = num3\n",
    "        biggest = num1\n",
    "else:\n",
    "    smallest = num3\n",
    "    if num1 <= num2:\n",
    "        middle = num1\n",
    "        biggest = num2\n",
    "    else:\n",
    "        middle = num2\n",
    "        biggest = num1\n",
    "\n",
    "# Display the sorted numbers\n",
    "print(\"The numbers in ascending order are:\", smallest, middle, biggest)"
   ]
  },
  {
   "cell_type": "code",
   "execution_count": 16,
   "id": "edea1950-afb0-4d1e-b46b-87dc5169fb6c",
   "metadata": {},
   "outputs": [
    {
     "name": "stdin",
     "output_type": "stream",
     "text": [
      "Enter the coefficient of x^4:  1\n",
      "Enter the coefficient of x^3:  12\n",
      "Enter the coefficient of x^2:  16\n",
      "Enter the coefficient of x:  27\n",
      "Enter the constant term:  36\n"
     ]
    },
    {
     "name": "stdout",
     "output_type": "stream",
     "text": [
      "The roots of the quartic equation are: 2.448068970416535 -9.691263791687588 -1.7568051787289485 -8.448068970416536\n"
     ]
    }
   ],
   "source": [
    "# 29. Build a program that determines the roots of a quartic equation using numerical methods.\n",
    "import math\n",
    "\n",
    "# Prompt the user to enter the coefficients of the quartic equation\n",
    "a = float(input(\"Enter the coefficient of x^4: \"))\n",
    "b = float(input(\"Enter the coefficient of x^3: \"))\n",
    "c = float(input(\"Enter the coefficient of x^2: \"))\n",
    "d = float(input(\"Enter the coefficient of x: \"))\n",
    "e = float(input(\"Enter the constant term: \"))\n",
    "\n",
    "# Reduce the quartic equation to a depressed cubic equation\n",
    "p = (8*a*c - 3*b**2) / (8*a**2)\n",
    "q = (b**3 - 4*a*b*c + 8*a**2*d) / (8*a**3)\n",
    "r = (-3*b**4 + 256*a**3*e - 64*a**2*b*d + 16*a*b**2*c) / (256*a**4)\n",
    "\n",
    "# Solve the depressed cubic equation using the Cardano formula\n",
    "Q = (3*r - p**2) / 3\n",
    "R = (2*p**3 - 9*p*r + 27*q**2) / 27\n",
    "D = Q**3 + R**2 / 4\n",
    "\n",
    "if D > 0:\n",
    "    S = math.pow((-R/2 + math.sqrt(D)), 1/3)\n",
    "    T = math.pow((-R/2 - math.sqrt(D)), 1/3)\n",
    "    x1 = (-b / (4*a)) - (S + T) / 2\n",
    "    x2 = (-b / (4*a)) + (S + T) / 2\n",
    "    x3 = (-b / (4*a)) - (S - T) / 2\n",
    "    x4 = (-b / (4*a)) + (S - T) / 2\n",
    "    print(\"The roots of the quartic equation are:\", x1, x2, x3, x4)\n",
    "elif D == 0:\n",
    "    if Q == 0:\n",
    "        x1 = -b / (4*a)\n",
    "        x2 = -b / (4*a)\n",
    "        x3 = -b / (4*a)\n",
    "        x4 = -b / (4*a)\n",
    "        print(\"The roots of the quartic equation are:\", x1, x2, x3, x4)\n",
    "    else:\n",
    "        K = math.pow((-R/2)**(1/3), 2)\n",
    "        x1 = (-b / (4*a)) + K\n",
    "        x2 = (-b / (4*a)) - K\n",
    "        x3 = (-b / (4*a)) - K\n",
    "        x4 = (-b / (4*a)) + K\n",
    "        print(\"The roots of the quartic equation are:\", x1, x2, x3, x4)\n",
    "else:\n",
    "    theta = math.acos(-R / (2*math.sqrt(-Q**3)))\n",
    "    x1 = (-b / (4*a)) + 2*math.sqrt(-p/3) * math.cos(theta/3)\n",
    "    x2 = (-b / (4*a)) + 2*math.sqrt(-p/3) * math.cos((theta+2*math.pi)/3)\n",
    "    x3 = (-b / (4*a)) + 2*math.sqrt(-p/3) * math.cos((theta+4*math.pi)/3)\n",
    "    x4 = (-b / (4*a)) - 2*math.sqrt(-p/3) * math.cos(theta/3)\n",
    "    print(\"The roots of the quartic equation are:\", x1, x2, x3, x4)"
   ]
  },
  {
   "cell_type": "code",
   "execution_count": 17,
   "id": "ac7e2bdc-c0e5-4e88-bd66-4f42002e9b1a",
   "metadata": {},
   "outputs": [
    {
     "name": "stdin",
     "output_type": "stream",
     "text": [
      "Enter your weight in kilograms:  65\n",
      "Enter your height in meters:  45\n"
     ]
    },
    {
     "name": "stdout",
     "output_type": "stream",
     "text": [
      "Your BMI is 0.03 which is considered underweight.\n",
      "You may need to gain weight. Talk to your healthcare provider about how to achieve a healthy weight.\n"
     ]
    }
   ],
   "source": [
    "# 30. Write a program that calculates the BMI (Body Mass Index) and provides health recommendations based on user's input.\n",
    "# Prompt the user to enter their weight and height\n",
    "weight = float(input(\"Enter your weight in kilograms: \"))\n",
    "height = float(input(\"Enter your height in meters: \"))\n",
    "\n",
    "# Calculate the BMI\n",
    "bmi = weight / (height ** 2)\n",
    "\n",
    "# Determine the BMI category and provide health recommendations\n",
    "if bmi < 18.5:\n",
    "    print(\"Your BMI is\", round(bmi, 2), \"which is considered underweight.\")\n",
    "    print(\"You may need to gain weight. Talk to your healthcare provider about how to achieve a healthy weight.\")\n",
    "elif bmi >= 18.5 and bmi < 25:\n",
    "    print(\"Your BMI is\", round(bmi, 2), \"which is considered normal or healthy weight.\")\n",
    "    print(\"Keep up the good work! Maintain a healthy lifestyle by eating a balanced diet and exercising regularly.\")\n",
    "elif bmi >= 25 and bmi < 30:\n",
    "    print(\"Your BMI is\", round(bmi, 2), \"which is considered overweight.\")\n",
    "    print(\"You may need to lose weight. Talk to your healthcare provider about how to achieve a healthy weight.\")\n",
    "else:\n",
    "    print(\"Your BMI is\", round(bmi, 2), \"which is considered obese.\")\n",
    "    print(\"You may need to lose weight. Talk to your healthcare provider about how to achieve a healthy weight.\")\n"
   ]
  },
  {
   "cell_type": "markdown",
   "id": "ac67a3ba-3fe3-4db4-9817-a530a6c14c9d",
   "metadata": {},
   "source": [
    "Challenge Level"
   ]
  },
  {
   "cell_type": "code",
   "execution_count": 18,
   "id": "26010ebd-00dc-43f1-a112-4c5d872cdaf7",
   "metadata": {},
   "outputs": [
    {
     "name": "stdin",
     "output_type": "stream",
     "text": [
      "Enter a password:  vpwsarkill1\n"
     ]
    },
    {
     "name": "stdout",
     "output_type": "stream",
     "text": [
      "Password must contain at least 1 uppercase letter(s).\n"
     ]
    }
   ],
   "source": [
    "# 31. Create a program that validates a password based on complexity rules (length, characters, etc.).\n",
    "# Define the password complexity rules\n",
    "min_length = 8\n",
    "num_upper = 1\n",
    "num_lower = 1\n",
    "num_numbers = 1\n",
    "num_special = 1\n",
    "\n",
    "# Prompt the user to enter a password\n",
    "password = input(\"Enter a password: \")\n",
    "\n",
    "# Check if the password meets the complexity rules\n",
    "if len(password) < min_length:\n",
    "    print(\"Password is too short. It must be at least\", min_length, \"characters long.\")\n",
    "elif sum(1 for c in password if c.isupper()) < num_upper:\n",
    "    print(\"Password must contain at least\", num_upper, \"uppercase letter(s).\")\n",
    "elif sum(1 for c in password if c.islower()) < num_lower:\n",
    "    print(\"Password must contain at least\", num_lower, \"lowercase letter(s).\")\n",
    "elif sum(1 for c in password if c.isdigit()) < num_numbers:\n",
    "    print(\"Password must contain at least\", num_numbers, \"numeric character(s).\")\n",
    "elif sum(1 for c in password if not c.isalnum()) < num_special:\n",
    "    print(\"Password must contain at least\", num_special, \"special character(s).\")\n",
    "else:\n",
    "    print(\"Password is valid.\")\n"
   ]
  },
  {
   "cell_type": "code",
   "execution_count": 1,
   "id": "deb93d86-190d-4aec-9c2e-8adad4418231",
   "metadata": {},
   "outputs": [
    {
     "name": "stdin",
     "output_type": "stream",
     "text": [
      "Enter the number of rows:  2\n",
      "Enter the number of columns:  2\n"
     ]
    },
    {
     "name": "stdout",
     "output_type": "stream",
     "text": [
      "Enter the elements of the first matrix:\n"
     ]
    },
    {
     "name": "stdin",
     "output_type": "stream",
     "text": [
      " 1\n",
      " 2\n",
      " 3\n",
      " 4\n"
     ]
    },
    {
     "name": "stdout",
     "output_type": "stream",
     "text": [
      "Enter the elements of the second matrix:\n"
     ]
    },
    {
     "name": "stdin",
     "output_type": "stream",
     "text": [
      " 5\n",
      " 6\n",
      " 7\n",
      " 8\n"
     ]
    },
    {
     "name": "stdout",
     "output_type": "stream",
     "text": [
      "Matrix 1:\n",
      "[[1 2]\n",
      " [3 4]]\n",
      "Matrix 2:\n",
      "[[5 6]\n",
      " [7 8]]\n",
      "Addition:\n",
      "[[ 6  8]\n",
      " [10 12]]\n",
      "Subtraction:\n",
      "[[-4 -4]\n",
      " [-4 -4]]\n"
     ]
    }
   ],
   "source": [
    "# 32. Develop a program that performs matrix addition and subtraction based on user input.\n",
    "import numpy as np\n",
    "\n",
    "# Prompt the user to enter the dimensions of the matrices\n",
    "rows = int(input(\"Enter the number of rows: \"))\n",
    "cols = int(input(\"Enter the number of columns: \"))\n",
    "\n",
    "# Prompt the user to enter the elements of the matrices\n",
    "print(\"Enter the elements of the first matrix:\")\n",
    "matrix1 = np.array([[int(input()) for j in range(cols)] for i in range(rows)])\n",
    "print(\"Enter the elements of the second matrix:\")\n",
    "matrix2 = np.array([[int(input()) for j in range(cols)] for i in range(rows)])\n",
    "\n",
    "# Perform matrix addition and subtraction\n",
    "addition = np.add(matrix1, matrix2)\n",
    "subtraction = np.subtract(matrix1, matrix2)\n",
    "\n",
    "# Print the results\n",
    "print(\"Matrix 1:\")\n",
    "print(matrix1)\n",
    "print(\"Matrix 2:\")\n",
    "print(matrix2)\n",
    "print(\"Addition:\")\n",
    "print(addition)\n",
    "print(\"Subtraction:\")\n",
    "print(subtraction)"
   ]
  },
  {
   "cell_type": "code",
   "execution_count": 2,
   "id": "e9969496-e062-4a76-b9a9-246656ffe275",
   "metadata": {},
   "outputs": [
    {
     "name": "stdin",
     "output_type": "stream",
     "text": [
      "Enter the first number:  6\n",
      "Enter the second number:  8\n"
     ]
    },
    {
     "name": "stdout",
     "output_type": "stream",
     "text": [
      "The GCD of 6 and 8 is 2\n"
     ]
    }
   ],
   "source": [
    "# 33. Write a program that calculates the greatest common divisor (GCD) of two numbers using the Euclidean algorithm.\n",
    "# Prompt the user to enter two numbers\n",
    "num1 = int(input(\"Enter the first number: \"))\n",
    "num2 = int(input(\"Enter the second number: \"))\n",
    "\n",
    "# Define the Euclidean algorithm function to calculate the GCD\n",
    "def gcd(a, b):\n",
    "    if b == 0:\n",
    "        return a\n",
    "    else:\n",
    "        return gcd(b, a % b)\n",
    "\n",
    "# Calculate the GCD using the Euclidean algorithm function\n",
    "result = gcd(num1, num2)\n",
    "\n",
    "# Print the result\n",
    "print(\"The GCD of\", num1, \"and\", num2, \"is\", result)"
   ]
  },
  {
   "cell_type": "code",
   "execution_count": 3,
   "id": "afade4a0-863e-4d26-8415-c78902892a54",
   "metadata": {},
   "outputs": [
    {
     "name": "stdin",
     "output_type": "stream",
     "text": [
      "Enter the number of rows of matrix 1:  2\n",
      "Enter the number of columns of matrix 1:  2\n",
      "Enter the number of rows of matrix 2:  2\n",
      "Enter the number of columns of matrix 2:  2\n"
     ]
    },
    {
     "name": "stdout",
     "output_type": "stream",
     "text": [
      "Enter the elements of matrix 1:\n"
     ]
    },
    {
     "name": "stdin",
     "output_type": "stream",
     "text": [
      " 1\n",
      " 2\n",
      " 3\n",
      " 6\n"
     ]
    },
    {
     "name": "stdout",
     "output_type": "stream",
     "text": [
      "Enter the elements of matrix 2:\n"
     ]
    },
    {
     "name": "stdin",
     "output_type": "stream",
     "text": [
      " 3\n",
      " 4\n",
      " 8\n",
      " 5\n"
     ]
    },
    {
     "name": "stdout",
     "output_type": "stream",
     "text": [
      "The result of matrix multiplication is:\n",
      "19 14 \n",
      "57 42 \n"
     ]
    }
   ],
   "source": [
    "# 34. Build a program that performs matrix multiplication using nested loops and conditional statements.\n",
    "# Prompt the user to enter the dimensions of the matrices\n",
    "rows1 = int(input(\"Enter the number of rows of matrix 1: \"))\n",
    "cols1 = int(input(\"Enter the number of columns of matrix 1: \"))\n",
    "rows2 = int(input(\"Enter the number of rows of matrix 2: \"))\n",
    "cols2 = int(input(\"Enter the number of columns of matrix 2: \"))\n",
    "\n",
    "# Check if the matrices can be multiplied\n",
    "if cols1 != rows2:\n",
    "    print(\"Matrices cannot be multiplied.\")\n",
    "else:\n",
    "    # Prompt the user to enter the elements of the matrices\n",
    "    print(\"Enter the elements of matrix 1:\")\n",
    "    matrix1 = [[int(input()) for j in range(cols1)] for i in range(rows1)]\n",
    "    print(\"Enter the elements of matrix 2:\")\n",
    "    matrix2 = [[int(input()) for j in range(cols2)] for i in range(rows2)]\n",
    "\n",
    "    # Initialize the result matrix with zeros\n",
    "    result = [[0 for j in range(cols2)] for i in range(rows1)]\n",
    "\n",
    "    # Perform matrix multiplication using nested loops\n",
    "    for i in range(rows1):\n",
    "        for j in range(cols2):\n",
    "            for k in range(rows2):\n",
    "                result[i][j] += matrix1[i][k] * matrix2[k][j]\n",
    "\n",
    "    # Print the result matrix\n",
    "    print(\"The result of matrix multiplication is:\")\n",
    "    for i in range(rows1):\n",
    "        for j in range(cols2):\n",
    "            print(result[i][j], end=\" \")\n",
    "        print()"
   ]
  },
  {
   "cell_type": "code",
   "execution_count": 4,
   "id": "39fcb518-60f7-441e-8ae6-80e3d5dcc030",
   "metadata": {},
   "outputs": [
    {
     "name": "stdout",
     "output_type": "stream",
     "text": [
      "Welcome to Tic Tac Toe!\n",
      "   |   |   \n",
      "---+---+---\n",
      "   |   |   \n",
      "---+---+---\n",
      "   |   |   \n",
      "Your turn:\n"
     ]
    },
    {
     "name": "stdin",
     "output_type": "stream",
     "text": [
      "Enter a number between 1 and 9:  6\n"
     ]
    },
    {
     "name": "stdout",
     "output_type": "stream",
     "text": [
      "   |   |   \n",
      "---+---+---\n",
      "   |   | X \n",
      "---+---+---\n",
      "   |   |   \n",
      "Computer's turn:\n",
      "   |   |   \n",
      "---+---+---\n",
      "   |   | X \n",
      "---+---+---\n",
      "   |   | O \n",
      "Your turn:\n"
     ]
    },
    {
     "name": "stdin",
     "output_type": "stream",
     "text": [
      "Enter a number between 1 and 9:  5\n"
     ]
    },
    {
     "name": "stdout",
     "output_type": "stream",
     "text": [
      "   |   |   \n",
      "---+---+---\n",
      "   | X | X \n",
      "---+---+---\n",
      "   |   | O \n",
      "Computer's turn:\n",
      "   |   | O \n",
      "---+---+---\n",
      "   | X | X \n",
      "---+---+---\n",
      "   |   | O \n",
      "Your turn:\n"
     ]
    },
    {
     "name": "stdin",
     "output_type": "stream",
     "text": [
      "Enter a number between 1 and 9:  1\n"
     ]
    },
    {
     "name": "stdout",
     "output_type": "stream",
     "text": [
      " X |   | O \n",
      "---+---+---\n",
      "   | X | X \n",
      "---+---+---\n",
      "   |   | O \n",
      "Computer's turn:\n",
      " X |   | O \n",
      "---+---+---\n",
      "   | X | X \n",
      "---+---+---\n",
      "   | O | O \n",
      "Your turn:\n"
     ]
    },
    {
     "name": "stdin",
     "output_type": "stream",
     "text": [
      "Enter a number between 1 and 9:  4\n"
     ]
    },
    {
     "name": "stdout",
     "output_type": "stream",
     "text": [
      " X |   | O \n",
      "---+---+---\n",
      " X | X | X \n",
      "---+---+---\n",
      "   | O | O \n",
      "Congratulations! You win!\n"
     ]
    }
   ],
   "source": [
    "# 35. Create a program that simulates a basic text-based tic-tac-toe game against the computer.\n",
    "import random\n",
    "\n",
    "# Define the board and player symbols\n",
    "board = [\" \", \" \", \" \", \" \", \" \", \" \", \" \", \" \", \" \"]\n",
    "player_symbol = \"X\"\n",
    "computer_symbol = \"O\"\n",
    "\n",
    "# Define the function to print the board\n",
    "def print_board():\n",
    "    print(\" \" + board[0] + \" | \" + board[1] + \" | \" + board[2] + \" \")\n",
    "    print(\"---+---+---\")\n",
    "    print(\" \" + board[3] + \" | \" + board[4] + \" | \" + board[5] + \" \")\n",
    "    print(\"---+---+---\")\n",
    "    print(\" \" + board[6] + \" | \" + board[7] + \" | \" + board[8] + \" \")\n",
    "\n",
    "# Define the function to check if the game is over\n",
    "def game_over():\n",
    "    if board[0] == board[1] == board[2] != \" \":\n",
    "        return True\n",
    "    elif board[3] == board[4] == board[5] != \" \":\n",
    "        return True\n",
    "    elif board[6] == board[7] == board[8] != \" \":\n",
    "        return True\n",
    "    elif board[0] == board[3] == board[6] != \" \":\n",
    "        return True\n",
    "    elif board[1] == board[4] == board[7] != \" \":\n",
    "        return True\n",
    "    elif board[2] == board[5] == board[8] != \" \":\n",
    "        return True\n",
    "    elif board[0] == board[4] == board[8] != \" \":\n",
    "        return True\n",
    "    elif board[2] == board[4] == board[6] != \" \":\n",
    "        return True\n",
    "    elif \" \" not in board:\n",
    "        return True\n",
    "    else:\n",
    "        return False\n",
    "\n",
    "# Define the function for the computer's turn\n",
    "def computer_turn():\n",
    "    print(\"Computer's turn:\")\n",
    "    index = random.randint(0, 8)\n",
    "    while board[index] != \" \":\n",
    "        index = random.randint(0, 8)\n",
    "    board[index] = computer_symbol\n",
    "    print_board()\n",
    "\n",
    "# Define the function for the player's turn\n",
    "def player_turn():\n",
    "    print(\"Your turn:\")\n",
    "    index = int(input(\"Enter a number between 1 and 9: \")) - 1\n",
    "    while index < 0 or index > 8 or board[index] != \" \":\n",
    "        index = int(input(\"Invalid input. Enter a number between 1 and 9: \")) - 1\n",
    "    board[index] = player_symbol\n",
    "    print_board()\n",
    "\n",
    "# Play the game\n",
    "print(\"Welcome to Tic Tac Toe!\")\n",
    "print_board()\n",
    "while not game_over():\n",
    "    player_turn()\n",
    "    if game_over():\n",
    "        break\n",
    "    computer_turn()\n",
    "if \" \" not in board:\n",
    "    print(\"It's a tie!\")\n",
    "elif board[0] == board[1] == board[2] == player_symbol or \\\n",
    "     board[3] == board[4] == board[5] == player_symbol or \\\n",
    "     board[6] == board[7] == board[8] == player_symbol or \\\n",
    "     board[0] == board[3] == board[6] == player_symbol or \\\n",
    "     board[1] == board[4] == board[7] == player_symbol or \\\n",
    "     board[2] == board[5] == board[8] == player_symbol or \\\n",
    "     board[0] == board[4] == board[8] == player_symbol or \\\n",
    "     board[2] == board[4] == board[6] == player_symbol:\n",
    "    print(\"Congratulations! You win!\")\n",
    "else:\n",
    "    print(\"Sorry, you lose.\")"
   ]
  },
  {
   "cell_type": "code",
   "execution_count": 5,
   "id": "dfa0d677-b9b6-4c6c-b360-5420369f6a9b",
   "metadata": {},
   "outputs": [
    {
     "name": "stdin",
     "output_type": "stream",
     "text": [
      "Enter the number of terms:  6\n"
     ]
    },
    {
     "name": "stdout",
     "output_type": "stream",
     "text": [
      "Fibonacci sequence:\n",
      "0 1 1 2 3 5 "
     ]
    }
   ],
   "source": [
    "# 36. Write a program that generates Fibonacci numbers up to a specified term using iterative methods.\n",
    "def fibonacci(n):\n",
    "    if n <= 1:\n",
    "        return n\n",
    "    else:\n",
    "        return fibonacci(n-1) + fibonacci(n-2)\n",
    "\n",
    "# Prompt the user to enter the number of terms\n",
    "n = int(input(\"Enter the number of terms: \"))\n",
    "\n",
    "# Print the first n terms of the sequence\n",
    "print(\"Fibonacci sequence:\")\n",
    "for i in range(n):\n",
    "    print(fibonacci(i), end=\" \")"
   ]
  },
  {
   "cell_type": "code",
   "execution_count": 8,
   "id": "a31c2c16-020d-4e21-9f69-514ea5bf56bf",
   "metadata": {},
   "outputs": [
    {
     "name": "stdin",
     "output_type": "stream",
     "text": [
      "Enter the term of the Fibonacci sequence to calculate:  8\n"
     ]
    },
    {
     "name": "stdout",
     "output_type": "stream",
     "text": [
      "The 8 term of the Fibonacci sequence is 21\n"
     ]
    }
   ],
   "source": [
    "# 37. Develop a program that calculates the nth term of the Fibonacci sequence using memoization.\n",
    "def fibonacci(n, memo={}):\n",
    "    if n in memo:\n",
    "        return memo[n]\n",
    "    if n <= 1:\n",
    "        memo[n] = n\n",
    "    else:\n",
    "        memo[n] = fibonacci(n-1, memo) + fibonacci(n-2, memo)\n",
    "    return memo[n]\n",
    "\n",
    "# Prompt the user to enter the term of the sequence to calculate\n",
    "n = int(input(\"Enter the term of the Fibonacci sequence to calculate: \"))\n",
    "\n",
    "# Calculate the nth term of the sequence using memoization\n",
    "result = fibonacci(n)\n",
    "\n",
    "# Print the result\n",
    "print(\"The\", n, \"term of the Fibonacci sequence is\", result)"
   ]
  },
  {
   "cell_type": "code",
   "execution_count": 9,
   "id": "b237e43d-6679-4504-982a-44bfd4683d72",
   "metadata": {},
   "outputs": [
    {
     "name": "stdin",
     "output_type": "stream",
     "text": [
      "Enter the month (1-12):  6\n",
      "Enter the year:  2000\n"
     ]
    },
    {
     "name": "stdout",
     "output_type": "stream",
     "text": [
      "           2000\n",
      "           ----\n",
      "           1  2 \n",
      " 3  4  5  6  7  8  9 \n",
      "10 11 12 13 14 15 16 \n",
      "17 18 19 20 21 22 23 \n",
      "24 25 26 27 28 29 30 \n",
      "\n",
      "June 2000\n"
     ]
    }
   ],
   "source": [
    "# 38. Create a program that generates a calendar for a given month and year using conditional statements.\n",
    "# Prompt the user to enter the month and year\n",
    "month = int(input(\"Enter the month (1-12): \"))\n",
    "year = int(input(\"Enter the year: \"))\n",
    "\n",
    "# Define the number of days in each month\n",
    "days_in_month = [0, 31, 28, 31, 30, 31, 30, 31, 31, 30, 31, 30, 31]\n",
    "\n",
    "# Check if the year is a leap year\n",
    "if year % 4 == 0 and (year % 100 != 0 or year % 400 == 0):\n",
    "    days_in_month[2] = 29\n",
    "\n",
    "# Print the calendar header\n",
    "print(\" \" * 10 + \" \" + str(year))\n",
    "print(\" \" * 10 + \" \" + \"-\" * 4)\n",
    "\n",
    "# Print the calendar body\n",
    "month_name = [\"\", \"January\", \"February\", \"March\", \"April\", \"May\", \"June\", \"July\", \"August\", \"September\", \"October\", \"November\", \"December\"]\n",
    "month_days = days_in_month[month]\n",
    "start_day = sum(days_in_month[:month]) % 7\n",
    "for i in range(start_day):\n",
    "    print(\" \", end=\" \")\n",
    "for i in range(1, month_days + 1):\n",
    "    print(str(i).rjust(2), end=\" \")\n",
    "    if (i + start_day) % 7 == 0:\n",
    "        print()\n",
    "print(\"\\n\" + month_name[month] + \" \" + str(year))"
   ]
  },
  {
   "cell_type": "code",
   "execution_count": 10,
   "id": "15384c34-2ca7-4157-9947-cde0fe208e33",
   "metadata": {},
   "outputs": [
    {
     "name": "stdout",
     "output_type": "stream",
     "text": [
      "Welcome to Blackjack!\n",
      "Your hand: ['Q', '8']\n",
      "Your hand value: 18\n"
     ]
    },
    {
     "name": "stdin",
     "output_type": "stream",
     "text": [
      "Do you want to hit or stand?  hit\n"
     ]
    },
    {
     "name": "stdout",
     "output_type": "stream",
     "text": [
      "Bust! Your hand value is 28\n",
      "You lose!\n",
      "Your hand: ['5', 'A']\n",
      "Your hand value: 16\n"
     ]
    },
    {
     "name": "stdin",
     "output_type": "stream",
     "text": [
      "Do you want to hit or stand?  stand\n"
     ]
    },
    {
     "name": "stdout",
     "output_type": "stream",
     "text": [
      "Computer's hand: ['2', '3', '10', '5']\n",
      "Computer's hand value: 20\n",
      "You lose!\n"
     ]
    },
    {
     "name": "stdin",
     "output_type": "stream",
     "text": [
      "Do you want to play again?  no\n"
     ]
    }
   ],
   "source": [
    "# 39. Build a program that simulates a basic text-based blackjack game against the computer.\n",
    "import random\n",
    "\n",
    "# Define the deck of cards\n",
    "deck = [\"2\", \"3\", \"4\", \"5\", \"6\", \"7\", \"8\", \"9\", \"10\", \"J\", \"Q\", \"K\", \"A\"] * 4\n",
    "\n",
    "# Define the function to calculate the value of a hand\n",
    "def hand_value(hand):\n",
    "    value = 0\n",
    "    num_aces = 0\n",
    "    for card in hand:\n",
    "        if card == \"A\":\n",
    "            num_aces += 1\n",
    "            value += 11\n",
    "        elif card in [\"K\", \"Q\", \"J\"]:\n",
    "            value += 10\n",
    "        else:\n",
    "            value += int(card)\n",
    "    while value > 21 and num_aces > 0:\n",
    "        value -= 10\n",
    "        num_aces -= 1\n",
    "    return value\n",
    "\n",
    "# Define the function for the computer's turn\n",
    "def computer_turn(computer_hand):\n",
    "    while hand_value(computer_hand) < 17:\n",
    "        computer_hand.append(random.choice(deck))\n",
    "    return computer_hand\n",
    "\n",
    "# Define the function for the player's turn\n",
    "def player_turn(player_hand):\n",
    "    while True:\n",
    "        print(\"Your hand:\", player_hand)\n",
    "        print(\"Your hand value:\", hand_value(player_hand))\n",
    "        choice = input(\"Do you want to hit or stand? \")\n",
    "        if choice.lower() == \"hit\":\n",
    "            player_hand.append(random.choice(deck))\n",
    "            if hand_value(player_hand) > 21:\n",
    "                print(\"Bust! Your hand value is\", hand_value(player_hand))\n",
    "                return player_hand\n",
    "        elif choice.lower() == \"stand\":\n",
    "            return player_hand\n",
    "        else:\n",
    "            print(\"Invalid choice. Please enter 'hit' or 'stand'.\")\n",
    "\n",
    "# Play the game\n",
    "print(\"Welcome to Blackjack!\")\n",
    "while True:\n",
    "    # Initialize the deck and hands\n",
    "    random.shuffle(deck)\n",
    "    computer_hand = [random.choice(deck)]\n",
    "    player_hand = [random.choice(deck), random.choice(deck)]\n",
    "\n",
    "    # Player's turn\n",
    "    player_hand = player_turn(player_hand)\n",
    "    if hand_value(player_hand) > 21:\n",
    "        print(\"You lose!\")\n",
    "        continue\n",
    "\n",
    "    # Computer's turn\n",
    "    computer_hand = computer_turn(computer_hand)\n",
    "    print(\"Computer's hand:\", computer_hand)\n",
    "    print(\"Computer's hand value:\", hand_value(computer_hand))\n",
    "    if hand_value(computer_hand) > 21:\n",
    "        print(\"You win!\")\n",
    "        continue\n",
    "\n",
    "    # Compare hands\n",
    "    if hand_value(player_hand) > hand_value(computer_hand):\n",
    "        print(\"You win!\")\n",
    "    elif hand_value(player_hand) < hand_value(computer_hand):\n",
    "        print(\"You lose!\")\n",
    "    else:\n",
    "        print(\"It's a tie!\")\n",
    "    \n",
    "    # Ask the player if they want to play again\n",
    "    choice = input(\"Do you want to play again? \")\n",
    "    if choice.lower() != \"yes\":\n",
    "        break"
   ]
  },
  {
   "cell_type": "code",
   "execution_count": 14,
   "id": "97121eef-c81a-4310-a33d-c6d921d105b0",
   "metadata": {},
   "outputs": [
    {
     "name": "stdin",
     "output_type": "stream",
     "text": [
      "Enter a number:  42\n"
     ]
    },
    {
     "name": "stdout",
     "output_type": "stream",
     "text": [
      "The prime factors of 42 are: [2, 3, 7]\n"
     ]
    }
   ],
   "source": [
    "# 40. Write a program that generates the prime factors of a given number using trial division.\n",
    "# Prompt the user to enter the number\n",
    "from copy import deepcopy as cp\n",
    "inp = int(input(\"Enter a number: \"))\n",
    "n = cp(inp)\n",
    "\n",
    "# Initialize the list of prime factors\n",
    "prime_factors = []\n",
    "\n",
    "# Divide the number by each integer in turn that is less than the square root of the number\n",
    "i = 2\n",
    "while i * i <= n:\n",
    "    if n % i == 0:\n",
    "        prime_factors.append(i)\n",
    "        n //= i\n",
    "    else:\n",
    "        i += 1\n",
    "if n > 1:\n",
    "    prime_factors.append(n)\n",
    "\n",
    "# Print the prime factors\n",
    "print(\"The prime factors of\", inp, \"are:\", prime_factors)"
   ]
  },
  {
   "cell_type": "code",
   "execution_count": null,
   "id": "dde1ed7d-9cb5-482d-a662-7714b5865b90",
   "metadata": {},
   "outputs": [],
   "source": []
  }
 ],
 "metadata": {
  "kernelspec": {
   "display_name": "Python 3 (ipykernel)",
   "language": "python",
   "name": "python3"
  },
  "language_info": {
   "codemirror_mode": {
    "name": "ipython",
    "version": 3
   },
   "file_extension": ".py",
   "mimetype": "text/x-python",
   "name": "python",
   "nbconvert_exporter": "python",
   "pygments_lexer": "ipython3",
   "version": "3.10.8"
  }
 },
 "nbformat": 4,
 "nbformat_minor": 5
}
