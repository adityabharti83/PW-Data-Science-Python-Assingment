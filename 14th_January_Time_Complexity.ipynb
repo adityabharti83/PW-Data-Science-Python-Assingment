{
 "cells": [
  {
   "cell_type": "markdown",
   "id": "61ba19ba-0fed-425c-a9a8-62ad8b573c95",
   "metadata": {},
   "source": [
    "<h1>Time Complexity</h1>"
   ]
  },
  {
   "cell_type": "markdown",
   "id": "01d7cec9-332e-44f0-92b3-2b2bc1c145fa",
   "metadata": {
    "tags": []
   },
   "source": [
    "<b>Problem 1:</b><br>\n",
    "<pre>def quicksort(arr):\n",
    "    if len(arr) <= 1:\n",
    "        return arr\n",
    "    pivot = arr[len(arr) // 2]\n",
    "    left = [x for x in arr if x < pivot]\n",
    "    middle = [x for x in arr if x == pivot]\n",
    "    right = [x for x in arr if x > pivot]\n",
    "    return quicksort(left) + middle + quicksort(right)</pre>"
   ]
  },
  {
   "cell_type": "markdown",
   "id": "1c487f20-2ced-43f6-ab2d-53e85ef23d53",
   "metadata": {
    "tags": []
   },
   "source": [
    "The time complexity and space complexity of the provided quicksort function can be summarized as follows:\n",
    "\n",
    "<b>Time Complexity:</b>\n",
    "\n",
    "The time complexity of the quicksort algorithm is generally O(n log n) on average, where n is the number of elements in the input array.\n",
    "This average time complexity arises from the partitioning and recursive sorting of subarrays.\n",
    "However, in the worst case, the time complexity can be O(n^2), particularly when the pivot selection consistently results in unbalanced partitions.\n",
    "\n",
    "<b>Space Complexity:</b>\n",
    "\n",
    "The space complexity of the quicksort algorithm is O(log n) on average, as it requires additional space for the recursive function calls and the partitioning process.\n",
    "The space complexity is determined by the depth of the recursion stack, which is typically O(log n) due to the partitioning of subarrays."
   ]
  },
  {
   "cell_type": "markdown",
   "id": "2a551e32-9d72-4bed-aca3-f556c31b131e",
   "metadata": {
    "tags": []
   },
   "source": [
    "<b>Problem 2:</b><br>\n",
    "<pre>def nested_loop_example(matrix):\n",
    "    rows, cols = len(matrix), len(matrix[0])\n",
    "    total = 0\n",
    "    for i in range(rows):\n",
    "        for j in range(cols):\n",
    "            total += matrix[i][j]\n",
    "    return total</pre>"
   ]
  },
  {
   "cell_type": "markdown",
   "id": "78d3f9b0-a8b2-42c7-a39d-375068ee3a02",
   "metadata": {
    "tags": []
   },
   "source": [
    "<b>Time Complexity:</b><br>\n",
    "The time complexity of the nested_loop_example function is O(n*m), where n is the number of rows and m is the number of columns in the input matrix.\n",
    "\n",
    "<b>Space Complexity:</b><br>\n",
    "The space complexity of the function is O(1), as the amount of memory used by the algorithm does not increase with the size of the input matrix."
   ]
  },
  {
   "cell_type": "markdown",
   "id": "7855edfd-a64d-49b9-97a6-5f48941bc5ff",
   "metadata": {
    "tags": []
   },
   "source": [
    "<b>Problem 3:</b><br>\n",
    "<pre>def example_function(arr):\n",
    "    result = 0\n",
    "    for element in arr:\n",
    "        result += element\n",
    "    return result</pre>"
   ]
  },
  {
   "cell_type": "markdown",
   "id": "6b2755b0-afbc-4e86-954d-17356c6ec7fa",
   "metadata": {
    "tags": []
   },
   "source": [
    "The time complexity and space complexity of the provided longest_increasing_subsequence function are as follows:\n",
    "\n",
    "<b>Time Complexity:</b><br>\n",
    "The time complexity of the function is O(n^2), where n is the number of elements in the input list nums.\n",
    "This is because the function utilizes nested loops, resulting in a quadratic time complexity.\n",
    "\n",
    "<b>Space Complexity:</b><br>\n",
    "The space complexity of the function is O(n), where n is the number of elements in the input list nums.\n",
    "This is due to the creation of the list lis of length n, which requires O(n) space."
   ]
  },
  {
   "cell_type": "markdown",
   "id": "0a46553b-c8d1-490f-a801-d08e6e052acf",
   "metadata": {
    "tags": []
   },
   "source": [
    "<b>Problem 4:</b><br>\n",
    "<pre>def longest_increasing_subsequence(nums):\n",
    "    n = len(nums)\n",
    "    lis = [1] * n\n",
    "    for i in range(1, n):\n",
    "        for j in range(0, i):\n",
    "            if nums[i] > nums[j] and lis[i] < lis[j] + 1:\n",
    "                lis[i] = lis[j] + 1\n",
    "    return max(lis)</pre>"
   ]
  },
  {
   "cell_type": "markdown",
   "id": "230db7fe-c38f-4842-8655-9575cd83992e",
   "metadata": {
    "tags": []
   },
   "source": [
    "The time complexity and space complexity of the provided longest_increasing_subsequence function are as follows:\n",
    "\n",
    "<b>Time Complexity:</b><br>\n",
    "The time complexity of the function is O(n^2), where n is the number of elements in the input list nums.\n",
    "This is because the function utilizes nested loops, resulting in a quadratic time complexity.\n",
    "\n",
    "<b>Space Complexity:</b><br>\n",
    "The space complexity of the function is O(n), where n is the number of elements in the input list nums.\n",
    "This is due to the creation of the list lis of length n, which requires O(n) space.\n"
   ]
  },
  {
   "cell_type": "markdown",
   "id": "e73af37c-bdbe-49ff-ab76-3e06f7eab623",
   "metadata": {
    "tags": []
   },
   "source": [
    "<b>Problem 5:</b><br>\n",
    "<pre>def mysterious_function(arr):\n",
    "    n = len(arr)\n",
    "    result = 0\n",
    "    for i in range(n):\n",
    "        for j in range(i, n):\n",
    "            result += arr[i] * arr[j]\n",
    "    return result</pre>"
   ]
  },
  {
   "cell_type": "markdown",
   "id": "af24da09-3f01-4dd2-9fee-e360edcda318",
   "metadata": {
    "tags": []
   },
   "source": [
    "<b>Time Complexity:</b><br>\n",
    "The time complexity of the mysterious_function is O(n^2), where n is the number of elements in the input array arr. This is due to the presence of nested loops, resulting in a quadratic time complexity.\n",
    "\n",
    "<b>Space Complexity:</b><br>\n",
    "The space complexity of the function is O(1), as the amount of memory used by the algorithm does not increase with the size of the input array."
   ]
  },
  {
   "cell_type": "markdown",
   "id": "045567e6-4096-46f5-bc4f-ef1b10610dbd",
   "metadata": {
    "tags": []
   },
   "source": [
    "<h1>Recursion</h1>"
   ]
  },
  {
   "cell_type": "markdown",
   "id": "ed340a4a-6887-48cc-bc62-1b47383c6b84",
   "metadata": {
    "tags": []
   },
   "source": [
    "<b>Problem 6: Sum of Digits<br>\n",
    "Write a recursive function to calculate the sum of digits of a given positive integer.<br>\n",
    "sum_of_digits(123) -> 6</b><br>"
   ]
  },
  {
   "cell_type": "markdown",
   "id": "0b4b6a32-cb42-4a8e-872e-8d8b4fc128bf",
   "metadata": {
    "tags": []
   },
   "source": [
    "<pre>def sum_of_digits(n):\n",
    "    if n == 0:\n",
    "        return 0\n",
    "    return n % 10 + sum_of_digits(n // 10)\n",
    "</pre>\n",
    "In this recursive function:\n",
    "\n",
    "The base case is when the number becomes 0, in which case the function returns 0.\n",
    "Otherwise, the function returns the last digit of the number (n % 10) added to the result of the recursive call with the number divided by 10 (n // 10).\n",
    "\n",
    "This approach uses the principle of recursion to break down the number into its digits and calculate the sum. It follows the divide and conquer strategy where a larger problem is broken down into smaller sub-problems until a base case is reached.\n",
    "<br>\n",
    "Analysis:\n",
    "\n",
    "<b>Time Complexity:</b><br> The time complexity of this recursive function is O(log n), where n is the value of the input integer. This is because the function divides the integer by 10 in each recursive call, resulting in a logarithmic time complexity.\n",
    "\n",
    "<b>Space Complexity:</b><br> The space complexity is O(log n) as well, due to the recursive nature of the function and the space required for the call stack. The space complexity is determined by the depth of the recursion, which is also logarithmic.<br>"
   ]
  },
  {
   "cell_type": "markdown",
   "id": "f35429cc-5a7d-4797-9f76-16e8b72d394b",
   "metadata": {
    "tags": []
   },
   "source": [
    "<b>Problem 7: Fibonacci Series<br>\n",
    "Write a recursive function to generate the first n numbers of the Fibonacci series.<br>\n",
    "fibonacci_series(6) -> [0, 1, 1, 2, 3, 5]</b><br>"
   ]
  },
  {
   "cell_type": "markdown",
   "id": "fd8b0447-24da-4d0a-9661-208952d79d36",
   "metadata": {
    "tags": []
   },
   "source": [
    "\n",
    "Recursive function to generate the first n numbers of the Fibonacci series in Python without using built-in functions as follows:<br>\n",
    "<pre>def fibonacci_series(n):\n",
    "    if n <= 0:\n",
    "        return []\n",
    "    elif n == 1:\n",
    "        return [0]\n",
    "    elif n == 2:\n",
    "        return [0, 1]\n",
    "    else:\n",
    "        fib_list = [0, 1]\n",
    "\n",
    "        def generate_fibonacci(m, a, b):\n",
    "            if m == 0:\n",
    "                return\n",
    "            next_fib = a + b\n",
    "            fib_list.append(next_fib)\n",
    "            generate_fibonacci(m - 1, b, next_fib)\n",
    "\n",
    "        generate_fibonacci(n - 2, 0, 1)\n",
    "        return fib_list\n",
    "</pre>\n",
    "\n",
    "In this recursive function:\n",
    "\n",
    "The base cases cover scenarios where n is less than or equal to 0, 1, or 2, returning empty list, [0], and [0, 1] respectively.\n",
    "For n greater than 2, the function initializes the list with the first two numbers of the Fibonacci series (0 and 1), and then calls a helper recursive function to generate the subsequent Fibonacci numbers and add them to the list.\n",
    "<br>\n",
    "\n",
    "<b>Analysis:</b>\n",
    "\n",
    "<b>Time Complexity:</b><br> The time complexity of this recursive function is O(2^n), where n is the input to the function. This is because the function generates each Fibonacci number by making two recursive calls for the previous two numbers. The time complexity grows exponentially with the input.\n",
    "\n",
    "<b>Space Complexity:</b><br> The space complexity of the function is O(n), as the space required for the list to store the Fibonacci series grows linearly with the input. Additionally, the space required for the call stack contributes to the space complexity.<br>"
   ]
  },
  {
   "cell_type": "markdown",
   "id": "e34297db-6e4d-417a-91c3-020d7752d40d",
   "metadata": {
    "tags": []
   },
   "source": [
    "<b>Problem 8: Subset Sum<br>\n",
    "Given a set of positive integers and a target sum, write a recursive function to determine if there exists a subset of the integers that adds up to the target sum.<br>\n",
    "subset_sum([3, 34, 4, 12, 5, 2], 9) -> True</b><br>"
   ]
  },
  {
   "cell_type": "markdown",
   "id": "146b47d2-bcc2-49fb-a551-4cf869345872",
   "metadata": {
    "tags": []
   },
   "source": [
    "\n",
    "Recursive function to determine if there exists a subset of positive integers that adds up to the target sum in Python without using built-in functions as follows:<br>\n",
    "<pre>def subset_sum(nums, target):\n",
    "    def has_subset_with_sum(nums, target, index):\n",
    "        if target == 0:\n",
    "            return True\n",
    "        if index < 0:\n",
    "            return False\n",
    "        if nums[index] > target:\n",
    "            return has_subset_with_sum(nums, target, index - 1)\n",
    "        return has_subset_with_sum(nums, target - nums[index], index - 1) or has_subset_with_sum(nums, target, index - 1)\n",
    "\n",
    "    return has_subset_with_sum(nums, target, len(nums) - 1)\n",
    "</pre>\n",
    "In this recursive function:\n",
    "\n",
    "The has_subset_with_sum function recursively checks whether there exists a subset of the integers that adds up to the target sum.\n",
    "If the target sum becomes 0, the function returns True, indicating the subset with the given sum exists.\n",
    "If the index goes below 0 or the current number is greater than the target, the function returns False.\n",
    "Otherwise, it makes two recursive calls: one including the current number in the subset and one excluding the current number.<br>\n",
    "\n",
    "<b>Analysis:</b>\n",
    "\n",
    "<b>Time Complexity:</b><br> The time complexity of this recursive function is O(2^n), where n is the number of elements in the input list. This is because the function explores all possible subsets by making two recursive calls for each element, resulting in exponential time complexity.\n",
    "\n",
    "<b>Space Complexity:</b><br> The space complexity of the function is O(n), as the space required for the call stack grows linearly with the number of elements in the input list. Additionally, the space complexity is determined by the depth of recursion.<br>"
   ]
  },
  {
   "cell_type": "markdown",
   "id": "9200075d-336b-426b-b6b1-f2232b3beb64",
   "metadata": {
    "tags": []
   },
   "source": [
    "<b>Problem 9: Word Break<br>\n",
    "Given a non-empty string and a dictionary of words, write a recursive function to determine if the string can be segmented into a space-separated sequence of dictionary words.<br>\n",
    "word_break( leetcode , [ leet , code ]) -> True</b><br>"
   ]
  },
  {
   "cell_type": "markdown",
   "id": "c2f5d635-62e8-4e0c-a422-9e1c7cde8e18",
   "metadata": {
    "tags": []
   },
   "source": [
    "\n",
    "The recursive function to determine if a non-empty string can be segmented into a space-separated sequence of dictionary words can be implemented in Python as follows:<br>\n",
    "<pre>def word_break(s, wordDict):\n",
    "    def can_segment(s, wordDict, start, memo):\n",
    "        if start == len(s):\n",
    "            return True\n",
    "        if start in memo:\n",
    "            return memo[start]\n",
    "        for end in range(start + 1, len(s) + 1):\n",
    "            if s[start:end] in wordDict and can_segment(s, wordDict, end, memo):\n",
    "                memo[start] = True\n",
    "                return True\n",
    "        memo[start] = False\n",
    "        return False\n",
    "\n",
    "    return can_segment(s, set(wordDict), 0, {})\n",
    "</pre>\n",
    "In this recursive function:\n",
    "\n",
    "The can_segment function recursively checks if the string can be segmented into words from the dictionary, starting from a given index.\n",
    "It uses memoization to store the results of subproblems, avoiding redundant computations.<br>\n",
    "\n",
    "<b>Analysis:</b>\n",
    "\n",
    "<b>Time Complexity:</b><br> The time complexity of this recursive function with memoization is O(n^2), where n is the length of the input string. This is because the function explores all possible substrings and memoizes the results, resulting in quadratic time complexity.\n",
    "\n",
    "<b>Space Complexity:</b><br> The space complexity of the function is O(n), as the space required for the memoization dictionary grows linearly with the length of the input string. Additionally, the space complexity is determined by the depth of recursion.<br>"
   ]
  },
  {
   "cell_type": "markdown",
   "id": "5aa93e84-d194-4337-8f7f-940adc488393",
   "metadata": {
    "tags": []
   },
   "source": [
    "<b>Problem 10: N-Queens<br>\n",
    "Implement a recursive function to solve the N Queens problem, where you have to place N queens on an N×N chessboard in such a way that no two queens threaten each other.</b><br>\n",
    "<pre>n_queens(4)\n",
    "[\n",
    "[\".Q..\",\n",
    "\"...Q\",\n",
    "\"Q...\",\n",
    "\"..Q.\"],\n",
    "[\"..Q.\",\n",
    "\"Q...\",\n",
    "\"...Q\",\n",
    "\".Q..\"]\n",
    "]</pre>"
   ]
  },
  {
   "cell_type": "markdown",
   "id": "c97e8466-17ef-4dc7-94a7-113c1d2a8316",
   "metadata": {
    "tags": []
   },
   "source": [
    "\n",
    "<pre>def n_queens(n):\n",
    "    def is_safe(board, row, col):\n",
    "        for i in range(row):\n",
    "            if board[i][col] == 'Q':\n",
    "                return False\n",
    "            if 0 <= row - i < n and 0 <= col - i < n and board[row - i][col - i] == 'Q':\n",
    "                return False\n",
    "            if 0 <= row - i < n and 0 <= col + i < n and board[row - i][col + i] == 'Q':\n",
    "                return False\n",
    "        return True\n",
    "\n",
    "    def solve_n_queens(row, board, result):\n",
    "        if row == n:\n",
    "            result.append([\"\".join(row) for row in board])\n",
    "            return\n",
    "        for col in range(n):\n",
    "            if is_safe(board, row, col):\n",
    "                board[row][col] = 'Q'\n",
    "                solve_n_queens(row + 1, board, result)\n",
    "                board[row][col] = '.'\n",
    "\n",
    "    result = []\n",
    "    board = [['.' for _ in range(n)] for _ in range(n)]\n",
    "    solve_n_queens(0, board, result)\n",
    "    return result\n",
    "</pre>\n",
    "In this recursive function:\n",
    "\n",
    "The is_safe function checks if it's safe to place a queen in a given position on the board.\n",
    "The solve_n_queens function recursively explores all possible placements of queens on the board, backtracking if a placement leads to a conflict.\n",
    "<br>\n",
    "\n",
    "<b>Analysis:</b>\n",
    "\n",
    "<b>Time Complexity:</b><br> The time complexity of this recursive function is O(n!), where n is the size of the board. This is because the function explores all possible permutations of queen placements, resulting in factorial time complexity.\n",
    "\n",
    "<b>Space Complexity:</b><br> The space complexity of the function is O(n^2), as the space required for the board and the result list grows quadratically with the size of the board. Additionally, the space complexity is determined by the depth of recursion.<br>"
   ]
  },
  {
   "cell_type": "code",
   "execution_count": null,
   "id": "2d711235-4859-400a-9329-ec4231db05ec",
   "metadata": {},
   "outputs": [],
   "source": []
  }
 ],
 "metadata": {
  "kernelspec": {
   "display_name": "Python 3 (ipykernel)",
   "language": "python",
   "name": "python3"
  },
  "language_info": {
   "codemirror_mode": {
    "name": "ipython",
    "version": 3
   },
   "file_extension": ".py",
   "mimetype": "text/x-python",
   "name": "python",
   "nbconvert_exporter": "python",
   "pygments_lexer": "ipython3",
   "version": "3.10.8"
  }
 },
 "nbformat": 4,
 "nbformat_minor": 5
}
