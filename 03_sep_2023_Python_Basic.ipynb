{
 "cells": [
  {
   "cell_type": "code",
   "execution_count": 1,
   "metadata": {},
   "outputs": [
    {
     "name": "stdout",
     "output_type": "stream",
     "text": [
      "1\n",
      "2\n",
      "3\n",
      "4\n",
      "5\n",
      "6\n",
      "7\n",
      "8\n",
      "9\n",
      "10\n"
     ]
    }
   ],
   "source": [
    "# 1. Print numbers from 1 to 10 using a for loop\n",
    "for i in range(1, 11):\n",
    "    print(i)\n"
   ]
  },
  {
   "cell_type": "code",
   "execution_count": 2,
   "metadata": {},
   "outputs": [
    {
     "name": "stdout",
     "output_type": "stream",
     "text": [
      "Sum: 15\n"
     ]
    }
   ],
   "source": [
    "# 2. Calculate the sum of all numbers in a list\n",
    "numbers = [1, 2, 3, 4, 5]\n",
    "total = 0\n",
    "for num in numbers:\n",
    "    total += num\n",
    "print(\"Sum:\", total)\n"
   ]
  },
  {
   "cell_type": "code",
   "execution_count": 11,
   "metadata": {},
   "outputs": [
    {
     "name": "stdout",
     "output_type": "stream",
     "text": [
      "nohtyP "
     ]
    }
   ],
   "source": [
    "# 3. Print characters of a string in reverse order\n",
    "string = \"Python\"\n",
    "for char in reversed(string):\n",
    "    print(char, end=' ')\n",
    "print()\n"
   ]
  },
  {
   "cell_type": "code",
   "execution_count": 4,
   "metadata": {},
   "outputs": [
    {
     "name": "stdout",
     "output_type": "stream",
     "text": [
      "Factorial: 120\n"
     ]
    }
   ],
   "source": [
    "\n",
    "# 4. Find factorial of a given number\n",
    "num = 5\n",
    "factorial = 1\n",
    "for i in range(1, num + 1):\n",
    "    factorial *= i\n",
    "print(\"Factorial:\", factorial)\n"
   ]
  },
  {
   "cell_type": "code",
   "execution_count": 5,
   "metadata": {},
   "outputs": [
    {
     "name": "stdout",
     "output_type": "stream",
     "text": [
      "3 x 1 = 3\n",
      "3 x 2 = 6\n",
      "3 x 3 = 9\n",
      "3 x 4 = 12\n",
      "3 x 5 = 15\n",
      "3 x 6 = 18\n",
      "3 x 7 = 21\n",
      "3 x 8 = 24\n",
      "3 x 9 = 27\n",
      "3 x 10 = 30\n"
     ]
    }
   ],
   "source": [
    "\n",
    "# 5. Multiplication table of a given number\n",
    "n = 3\n",
    "for i in range(1, 11):\n",
    "    print(f\"{n} x {i} = {n * i}\")\n",
    "\n"
   ]
  },
  {
   "cell_type": "code",
   "execution_count": 6,
   "metadata": {},
   "outputs": [
    {
     "name": "stdout",
     "output_type": "stream",
     "text": [
      "Even count: 3 Odd count: 3\n"
     ]
    }
   ],
   "source": [
    "# 6. Count even and odd numbers in a list\n",
    "numbers = [1, 2, 3, 4, 5, 6]\n",
    "even_count = odd_count = 0\n",
    "for num in numbers:\n",
    "    if num % 2 == 0:\n",
    "        even_count += 1\n",
    "    else:\n",
    "        odd_count += 1\n",
    "print(\"Even count:\", even_count, \"Odd count:\", odd_count)\n"
   ]
  },
  {
   "cell_type": "code",
   "execution_count": 7,
   "metadata": {},
   "outputs": [
    {
     "name": "stdout",
     "output_type": "stream",
     "text": [
      "Square of 1: 1\n",
      "Square of 2: 4\n",
      "Square of 3: 9\n",
      "Square of 4: 16\n",
      "Square of 5: 25\n"
     ]
    }
   ],
   "source": [
    "\n",
    "# 7. Print squares of numbers from 1 to 5\n",
    "for i in range(1, 6):\n",
    "    print(f\"Square of {i}:\", i * i)\n"
   ]
  },
  {
   "cell_type": "code",
   "execution_count": 8,
   "metadata": {},
   "outputs": [
    {
     "name": "stdout",
     "output_type": "stream",
     "text": [
      "Length: 5\n"
     ]
    }
   ],
   "source": [
    "\n",
    "# 8. Find the length of a string without len() function\n",
    "string = \"Hello\"\n",
    "count = 0\n",
    "for char in string:\n",
    "    count += 1\n",
    "print(\"Length:\", count)\n"
   ]
  },
  {
   "cell_type": "code",
   "execution_count": 9,
   "metadata": {},
   "outputs": [
    {
     "name": "stdout",
     "output_type": "stream",
     "text": [
      "Average: 3.0\n"
     ]
    }
   ],
   "source": [
    "\n",
    "# 9. Calculate the average of a list of numbers\n",
    "numbers = [1, 2, 3, 4, 5]\n",
    "total = 0\n",
    "for num in numbers:\n",
    "    total += num\n",
    "average = total / len(numbers)\n",
    "print(\"Average:\", average)\n"
   ]
  },
  {
   "cell_type": "code",
   "execution_count": 10,
   "metadata": {},
   "outputs": [
    {
     "name": "stdout",
     "output_type": "stream",
     "text": [
      "0 1 1 2 3 5 8 13 21 34 \n"
     ]
    }
   ],
   "source": [
    "\n",
    "# 10. Print first n Fibonacci numbers\n",
    "n = 10\n",
    "a, b = 0, 1\n",
    "for _ in range(n):\n",
    "    print(a, end=' ')\n",
    "    a, b = b, a + b\n",
    "print()\n"
   ]
  },
  {
   "cell_type": "markdown",
   "metadata": {},
   "source": [
    "Intermediate "
   ]
  },
  {
   "cell_type": "code",
   "execution_count": 14,
   "metadata": {},
   "outputs": [
    {
     "name": "stdout",
     "output_type": "stream",
     "text": [
      "Contains duplicates: True\n"
     ]
    }
   ],
   "source": [
    "# 11. Check for duplicates in a list\n",
    "lst = [1, 2, 3, 4, 5, 1]\n",
    "has_duplicates = False\n",
    "for i in range(len(lst)):\n",
    "    if lst[i] in lst[i+1:]:\n",
    "        has_duplicates = True\n",
    "        break\n",
    "print(\"Contains duplicates:\", has_duplicates)\n",
    "\n"
   ]
  },
  {
   "cell_type": "code",
   "execution_count": 15,
   "metadata": {},
   "outputs": [
    {
     "name": "stdout",
     "output_type": "stream",
     "text": [
      "11 13 17 19 23 29 31 37 41 43 47 \n"
     ]
    }
   ],
   "source": [
    "# 12. Print prime numbers in a given range\n",
    "start, end = 10, 50\n",
    "for num in range(start, end + 1):\n",
    "    if num > 1:\n",
    "        is_prime = True\n",
    "        for i in range(2, num):\n",
    "            if num % i == 0:\n",
    "                is_prime = False\n",
    "                break\n",
    "        if is_prime:\n",
    "            print(num, end=' ')\n",
    "print()\n"
   ]
  },
  {
   "cell_type": "code",
   "execution_count": 16,
   "metadata": {},
   "outputs": [
    {
     "name": "stdout",
     "output_type": "stream",
     "text": [
      "Vowel count: 3\n"
     ]
    }
   ],
   "source": [
    "\n",
    "# 13. Count vowels in a string\n",
    "string = \"Hello World\"\n",
    "vowels = \"aeiouAEIOU\"\n",
    "count = 0\n",
    "for char in string:\n",
    "    if char in vowels:\n",
    "        count += 1\n",
    "print(\"Vowel count:\", count)\n"
   ]
  },
  {
   "cell_type": "code",
   "execution_count": 17,
   "metadata": {},
   "outputs": [
    {
     "name": "stdout",
     "output_type": "stream",
     "text": [
      "Maximum element: 9\n"
     ]
    }
   ],
   "source": [
    "\n",
    "# 14. Find maximum element in a 2D list\n",
    "matrix = [[1, 2, 3], [4, 5, 6], [7, 8, 9]]\n",
    "max_element = matrix[0][0]\n",
    "for row in matrix:\n",
    "    for num in row:\n",
    "        if num > max_element:\n",
    "            max_element = num\n",
    "print(\"Maximum element:\", max_element)\n"
   ]
  },
  {
   "cell_type": "code",
   "execution_count": 18,
   "metadata": {},
   "outputs": [
    {
     "name": "stdout",
     "output_type": "stream",
     "text": [
      "Updated list: [1, 3, 4, 5]\n"
     ]
    }
   ],
   "source": [
    "\n",
    "# 15. Remove all occurrences of an element from a list\n",
    "lst = [1, 2, 3, 2, 4, 2, 5]\n",
    "target = 2\n",
    "result = []\n",
    "for num in lst:\n",
    "    if num != target:\n",
    "        result.append(num)\n",
    "print(\"Updated list:\", result)\n"
   ]
  },
  {
   "cell_type": "code",
   "execution_count": 19,
   "metadata": {},
   "outputs": [
    {
     "name": "stdout",
     "output_type": "stream",
     "text": [
      "1 x 1 = 1\n",
      "1 x 2 = 2\n",
      "1 x 3 = 3\n",
      "1 x 4 = 4\n",
      "1 x 5 = 5\n",
      "1 x 6 = 6\n",
      "1 x 7 = 7\n",
      "1 x 8 = 8\n",
      "1 x 9 = 9\n",
      "1 x 10 = 10\n",
      "\n",
      "2 x 1 = 2\n",
      "2 x 2 = 4\n",
      "2 x 3 = 6\n",
      "2 x 4 = 8\n",
      "2 x 5 = 10\n",
      "2 x 6 = 12\n",
      "2 x 7 = 14\n",
      "2 x 8 = 16\n",
      "2 x 9 = 18\n",
      "2 x 10 = 20\n",
      "\n",
      "3 x 1 = 3\n",
      "3 x 2 = 6\n",
      "3 x 3 = 9\n",
      "3 x 4 = 12\n",
      "3 x 5 = 15\n",
      "3 x 6 = 18\n",
      "3 x 7 = 21\n",
      "3 x 8 = 24\n",
      "3 x 9 = 27\n",
      "3 x 10 = 30\n",
      "\n",
      "4 x 1 = 4\n",
      "4 x 2 = 8\n",
      "4 x 3 = 12\n",
      "4 x 4 = 16\n",
      "4 x 5 = 20\n",
      "4 x 6 = 24\n",
      "4 x 7 = 28\n",
      "4 x 8 = 32\n",
      "4 x 9 = 36\n",
      "4 x 10 = 40\n",
      "\n",
      "5 x 1 = 5\n",
      "5 x 2 = 10\n",
      "5 x 3 = 15\n",
      "5 x 4 = 20\n",
      "5 x 5 = 25\n",
      "5 x 6 = 30\n",
      "5 x 7 = 35\n",
      "5 x 8 = 40\n",
      "5 x 9 = 45\n",
      "5 x 10 = 50\n",
      "\n"
     ]
    }
   ],
   "source": [
    "\n",
    "# 16. Generate multiplication table for numbers from 1 to 5\n",
    "for i in range(1, 6):\n",
    "    for j in range(1, 11):\n",
    "        print(f\"{i} x {j} = {i * j}\")\n",
    "    print()\n"
   ]
  },
  {
   "cell_type": "code",
   "execution_count": 20,
   "metadata": {},
   "outputs": [
    {
     "name": "stdout",
     "output_type": "stream",
     "text": [
      "Celsius temperatures: [0.0, 20.0, 40.0]\n"
     ]
    }
   ],
   "source": [
    "\n",
    "# 17. Convert Fahrenheit temperatures to Celsius\n",
    "fahrenheit = [32, 68, 104]\n",
    "celsius = []\n",
    "for temp in fahrenheit:\n",
    "    celsius.append((temp - 32) * 5 / 9)\n",
    "print(\"Celsius temperatures:\", celsius)\n"
   ]
  },
  {
   "cell_type": "code",
   "execution_count": 21,
   "metadata": {},
   "outputs": [
    {
     "name": "stdout",
     "output_type": "stream",
     "text": [
      "Common elements: [3, 4]\n"
     ]
    }
   ],
   "source": [
    "\n",
    "# 18. Print common elements from two lists\n",
    "list1 = [1, 2, 3, 4]\n",
    "list2 = [3, 4, 5, 6]\n",
    "common = []\n",
    "for element in list1:\n",
    "    if element in list2:\n",
    "        common.append(element)\n",
    "print(\"Common elements:\", common)\n"
   ]
  },
  {
   "cell_type": "code",
   "execution_count": 22,
   "metadata": {},
   "outputs": [
    {
     "name": "stdout",
     "output_type": "stream",
     "text": [
      "*\n",
      "**\n",
      "***\n",
      "****\n",
      "*****\n"
     ]
    }
   ],
   "source": [
    "\n",
    "# 19. Print a right-angled triangle pattern\n",
    "n = 5\n",
    "for i in range(1, n + 1):\n",
    "    print('*' * i)\n"
   ]
  },
  {
   "cell_type": "code",
   "execution_count": 23,
   "metadata": {},
   "outputs": [
    {
     "name": "stdout",
     "output_type": "stream",
     "text": [
      "GCD: 12\n"
     ]
    }
   ],
   "source": [
    "\n",
    "# 20. Find GCD of two numbers\n",
    "a, b = 60, 48\n",
    "gcd = 1\n",
    "for i in range(1, min(a, b) + 1):\n",
    "    if a % i == 0 and b % i == 0:\n",
    "        gcd = i\n",
    "print(\"GCD:\", gcd)\n"
   ]
  },
  {
   "cell_type": "markdown",
   "metadata": {},
   "source": [
    "Advanced"
   ]
  },
  {
   "cell_type": "code",
   "execution_count": 24,
   "metadata": {},
   "outputs": [
    {
     "name": "stdout",
     "output_type": "stream",
     "text": [
      "Sum of digits: [6, 15, 24]\n"
     ]
    }
   ],
   "source": [
    "# 21. Calculate the sum of the digits of numbers in a list using list comprehension\n",
    "numbers = [123, 456, 789]\n",
    "sum_of_digits = [sum(int(digit) for digit in str(num)) for num in numbers]\n",
    "print(\"Sum of digits:\", sum_of_digits)\n"
   ]
  },
  {
   "cell_type": "code",
   "execution_count": 25,
   "metadata": {},
   "outputs": [
    {
     "name": "stdout",
     "output_type": "stream",
     "text": [
      "Prime factors: [2, 2, 2, 7]\n"
     ]
    }
   ],
   "source": [
    "\n",
    "# 22. Find prime factors of a given number\n",
    "num = 56\n",
    "prime_factors = []\n",
    "for i in range(2, num + 1):\n",
    "    while num % i == 0:\n",
    "        prime_factors.append(i)\n",
    "        num //= i\n",
    "print(\"Prime factors:\", prime_factors)\n",
    "\n"
   ]
  },
  {
   "cell_type": "code",
   "execution_count": 26,
   "metadata": {},
   "outputs": [
    {
     "name": "stdout",
     "output_type": "stream",
     "text": [
      "Unique elements: [1, 3, 5]\n"
     ]
    }
   ],
   "source": [
    "# 23. Extract unique elements from a list\n",
    "lst = [1, 2, 2, 3, 4, 4, 5]\n",
    "unique_elements = [num for num in lst if lst.count(num) == 1]\n",
    "print(\"Unique elements:\", unique_elements)\n"
   ]
  },
  {
   "cell_type": "code",
   "execution_count": 27,
   "metadata": {},
   "outputs": [
    {
     "name": "stdout",
     "output_type": "stream",
     "text": [
      "Palindromic numbers: [0, 1, 2, 3, 4, 5, 6, 7, 8, 9, 11, 22, 33, 44, 55, 66, 77, 88, 99, 101, 111, 121, 131, 141, 151, 161, 171, 181, 191]\n"
     ]
    }
   ],
   "source": [
    "\n",
    "# 24. Generate palindromic numbers up to a specified limit\n",
    "limit = 200\n",
    "palindromes = [num for num in range(limit) if str(num) == str(num)[::-1]]\n",
    "print(\"Palindromic numbers:\", palindromes)\n"
   ]
  },
  {
   "cell_type": "code",
   "execution_count": 28,
   "metadata": {},
   "outputs": [
    {
     "name": "stdout",
     "output_type": "stream",
     "text": [
      "Flattened list: [1, 2, 3, 4, 5, 6]\n"
     ]
    }
   ],
   "source": [
    "\n",
    "# 25. Flatten a nested list using list comprehension\n",
    "nested_list = [[1, 2], [3, 4], [5, 6]]\n",
    "flattened = [num for sublist in nested_list for num in sublist]\n",
    "print(\"Flattened list:\", flattened)\n"
   ]
  },
  {
   "cell_type": "code",
   "execution_count": 29,
   "metadata": {},
   "outputs": [
    {
     "name": "stdout",
     "output_type": "stream",
     "text": [
      "Sum of even numbers: 12 Sum of odd numbers: 9\n"
     ]
    }
   ],
   "source": [
    "\n",
    "# 26. Sum of even and odd numbers in a list separately\n",
    "numbers = [1, 2, 3, 4, 5, 6]\n",
    "sum_even = sum([num for num in numbers if num % 2 == 0])\n",
    "sum_odd = sum([num for num in numbers if num % 2 != 0])\n",
    "print(\"Sum of even numbers:\", sum_even, \"Sum of odd numbers:\", sum_odd)\n",
    "\n"
   ]
  },
  {
   "cell_type": "code",
   "execution_count": 30,
   "metadata": {},
   "outputs": [
    {
     "name": "stdout",
     "output_type": "stream",
     "text": [
      "Squares of odd numbers: [1, 9, 25, 49, 81]\n"
     ]
    }
   ],
   "source": [
    "# 27. Squares of odd numbers between 1 and 10\n",
    "squares_odd = [num ** 2 for num in range(1, 11) if num % 2 != 0]\n",
    "print(\"Squares of odd numbers:\", squares_odd)\n"
   ]
  },
  {
   "cell_type": "code",
   "execution_count": 31,
   "metadata": {},
   "outputs": [
    {
     "name": "stdout",
     "output_type": "stream",
     "text": [
      "Combined dictionary: {'a': 1, 'b': 2, 'c': 3}\n"
     ]
    }
   ],
   "source": [
    "\n",
    "# 28. Combine two lists into a dictionary\n",
    "keys = [\"a\", \"b\", \"c\"]\n",
    "values = [1, 2, 3]\n",
    "combined_dict = {keys[i]: values[i] for i in range(len(keys))}\n",
    "print(\"Combined dictionary:\", combined_dict)\n"
   ]
  },
  {
   "cell_type": "code",
   "execution_count": 32,
   "metadata": {},
   "outputs": [
    {
     "name": "stdout",
     "output_type": "stream",
     "text": [
      "Vowels in the string: ['e', 'o', 'o']\n"
     ]
    }
   ],
   "source": [
    "\n",
    "# 29. Extract vowels from a string\n",
    "string = \"Hello World\"\n",
    "vowels = [char for char in string if char.lower() in 'aeiou']\n",
    "print(\"Vowels in the string:\", vowels)\n"
   ]
  },
  {
   "cell_type": "code",
   "execution_count": 33,
   "metadata": {},
   "outputs": [
    {
     "name": "stdout",
     "output_type": "stream",
     "text": [
      "Numeric-only strings: ['123', '456', '789']\n"
     ]
    }
   ],
   "source": [
    "\n",
    "# 30. Remove all non-numeric characters from a list of strings\n",
    "strings = [\"abc123\", \"456def\", \"78gh9\"]\n",
    "numeric_only = [''.join([char for char in s if char.isdigit()]) for s in strings]\n",
    "print(\"Numeric-only strings:\", numeric_only)\n"
   ]
  },
  {
   "cell_type": "markdown",
   "metadata": {},
   "source": [
    "Challenge Level"
   ]
  },
  {
   "cell_type": "code",
   "execution_count": 35,
   "metadata": {},
   "outputs": [
    {
     "name": "stdout",
     "output_type": "stream",
     "text": [
      "Prime numbers: [2, 3, 5, 7, 11, 13, 17, 19, 23, 29, 31, 37, 41, 43, 47]\n"
     ]
    }
   ],
   "source": [
    "# 31. Generate a list of prime numbers using the Sieve of Eratosthenes\n",
    "limit = 50\n",
    "sieve = [True] * (limit + 1)\n",
    "sieve[0] = sieve[1] = False\n",
    "for i in range(2, int(limit ** 0.5) + 1):\n",
    "    if sieve[i]:\n",
    "        for j in range(i * i, limit + 1, i):\n",
    "            sieve[j] = False\n",
    "prime_numbers = [i for i in range(limit + 1) if sieve[i]]\n",
    "print(\"Prime numbers:\", prime_numbers)\n",
    "\n"
   ]
  },
  {
   "cell_type": "code",
   "execution_count": 36,
   "metadata": {},
   "outputs": [
    {
     "name": "stdout",
     "output_type": "stream",
     "text": [
      "Pythagorean triplets: [(3, 4, 5), (5, 12, 13), (6, 8, 10), (8, 15, 17), (9, 12, 15)]\n"
     ]
    }
   ],
   "source": [
    "# 32. Generate a list of all Pythagorean triplets up to a specified limit\n",
    "limit = 20\n",
    "pythagorean_triplets = [(a, b, c) for a in range(1, limit) for b in range(a, limit) for c in range(b, limit)\n",
    "                        if a ** 2 + b ** 2 == c ** 2]\n",
    "print(\"Pythagorean triplets:\", pythagorean_triplets)\n"
   ]
  },
  {
   "cell_type": "code",
   "execution_count": 37,
   "metadata": {},
   "outputs": [
    {
     "name": "stdout",
     "output_type": "stream",
     "text": [
      "Combinations: [(1, 'a'), (1, 'b'), (2, 'a'), (2, 'b')]\n"
     ]
    }
   ],
   "source": [
    "# 33. Generate all possible combinations of two lists\n",
    "list1 = [1, 2]\n",
    "list2 = ['a', 'b']\n",
    "combinations = [(x, y) for x in list1 for y in list2]\n",
    "print(\"Combinations:\", combinations)\n",
    "\n"
   ]
  },
  {
   "cell_type": "code",
   "execution_count": 38,
   "metadata": {},
   "outputs": [
    {
     "name": "stdout",
     "output_type": "stream",
     "text": [
      "Mean: 3.5714285714285716 Median: 4 Mode: 4\n"
     ]
    }
   ],
   "source": [
    "# 34. Calculate the mean, median, and mode of a list of numbers\n",
    "from statistics import mean, median, mode\n",
    "\n",
    "numbers = [1, 2, 3, 4, 4, 5, 6]\n",
    "mean_value = mean(numbers)\n",
    "median_value = median(numbers)\n",
    "mode_value = mode(numbers)\n",
    "print(\"Mean:\", mean_value, \"Median:\", median_value, \"Mode:\", mode_value)\n",
    "\n"
   ]
  },
  {
   "cell_type": "code",
   "execution_count": 46,
   "metadata": {},
   "outputs": [
    {
     "name": "stdout",
     "output_type": "stream",
     "text": [
      "Pascal's Triangle:\n",
      "[1]\n",
      "[1, 1]\n",
      "[1, 2, 1]\n",
      "[1, 3, 3, 1]\n",
      "[1, 4, 6, 4, 1]\n"
     ]
    }
   ],
   "source": [
    "# 35. Generate Pascal's triangle up to a specified number of rows\n",
    "rows = 5\n",
    "pascals_triangle = []\n",
    "\n",
    "for i in range(rows):\n",
    "    row = [1] * (i + 1)\n",
    "    for j in range(1, i):\n",
    "        row[j] = pascals_triangle[i - 1][j - 1] + pascals_triangle[i - 1][j]\n",
    "    pascals_triangle.append(row)\n",
    "\n",
    "print(\"Pascal's Triangle:\")\n",
    "for row in pascals_triangle:\n",
    "    print(row)\n"
   ]
  },
  {
   "cell_type": "code",
   "execution_count": 40,
   "metadata": {},
   "outputs": [
    {
     "name": "stdout",
     "output_type": "stream",
     "text": [
      "Sum of digits of factorials: [1, 2, 6, 6, 3]\n"
     ]
    }
   ],
   "source": [
    "\n",
    "# 36. Calculate the sum of the digits of a factorial of numbers from 1 to 5\n",
    "from math import factorial\n",
    "\n",
    "sum_digits_factorial = [sum(int(digit) for digit in str(factorial(i))) for i in range(1, 6)]\n",
    "print(\"Sum of digits of factorials:\", sum_digits_factorial)\n"
   ]
  },
  {
   "cell_type": "code",
   "execution_count": 41,
   "metadata": {},
   "outputs": [
    {
     "name": "stdout",
     "output_type": "stream",
     "text": [
      "Longest word: example\n"
     ]
    }
   ],
   "source": [
    "\n",
    "# 37. Find the longest word in a sentence\n",
    "sentence = \"This is an example of finding the longest word\"\n",
    "longest_word = max(sentence.split(), key=len)\n",
    "print(\"Longest word:\", longest_word)\n"
   ]
  },
  {
   "cell_type": "code",
   "execution_count": 42,
   "metadata": {},
   "outputs": [
    {
     "name": "stdout",
     "output_type": "stream",
     "text": [
      "Strings with more than three vowels: ['education']\n"
     ]
    }
   ],
   "source": [
    "\n",
    "# 38. Filter a list of strings to include only those with more than three vowels\n",
    "strings = [\"hello\", \"education\", \"apple\", \"banana\", \"elephant\"]\n",
    "filtered_strings = [s for s in strings if sum([1 for char in s if char.lower() in 'aeiou']) > 3]\n",
    "print(\"Strings with more than three vowels:\", filtered_strings)\n"
   ]
  },
  {
   "cell_type": "code",
   "execution_count": 43,
   "metadata": {},
   "outputs": [
    {
     "name": "stdout",
     "output_type": "stream",
     "text": [
      "Sum of digits from 1 to 1000: 13501\n"
     ]
    }
   ],
   "source": [
    "\n",
    "# 39. Calculate the sum of the digits of numbers from 1 to 1000\n",
    "sum_digits_1_to_1000 = sum([sum(int(digit) for digit in str(num)) for num in range(1, 1001)])\n",
    "print(\"Sum of digits from 1 to 1000:\", sum_digits_1_to_1000)\n"
   ]
  },
  {
   "cell_type": "code",
   "execution_count": 44,
   "metadata": {},
   "outputs": [
    {
     "name": "stdout",
     "output_type": "stream",
     "text": [
      "Prime palindromic numbers: [2, 3, 5, 7, 11, 101, 131, 151, 181, 191]\n"
     ]
    }
   ],
   "source": [
    "\n",
    "# 40. Generate a list of prime palindromic numbers\n",
    "limit = 200\n",
    "prime_palindromes = [num for num in range(2, limit) if str(num) == str(num)[::-1] and all(num % i != 0 for i in range(2, int(num ** 0.5) + 1))]\n",
    "print(\"Prime palindromic numbers:\", prime_palindromes)\n"
   ]
  },
  {
   "cell_type": "code",
   "execution_count": null,
   "metadata": {},
   "outputs": [],
   "source": []
  }
 ],
 "metadata": {
  "kernelspec": {
   "display_name": "Python 3",
   "language": "python",
   "name": "python3"
  },
  "language_info": {
   "codemirror_mode": {
    "name": "ipython",
    "version": 3
   },
   "file_extension": ".py",
   "mimetype": "text/x-python",
   "name": "python",
   "nbconvert_exporter": "python",
   "pygments_lexer": "ipython3",
   "version": "3.10.11"
  }
 },
 "nbformat": 4,
 "nbformat_minor": 2
}
