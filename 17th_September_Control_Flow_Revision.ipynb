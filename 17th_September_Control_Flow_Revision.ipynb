{
 "cells": [
  {
   "cell_type": "markdown",
   "id": "f9ac30b3-47e4-41b1-8b60-90aea8081485",
   "metadata": {},
   "source": [
    "<h1>Control Flow Revision</h1>"
   ]
  },
  {
   "cell_type": "markdown",
   "id": "14fbff46-0c2b-4ceb-aed8-b4421317994b",
   "metadata": {},
   "source": [
    "For Loop"
   ]
  },
  {
   "cell_type": "code",
   "execution_count": 1,
   "id": "932c50c5-32d1-4a53-81fb-88f3a51cc71a",
   "metadata": {},
   "outputs": [
    {
     "name": "stdout",
     "output_type": "stream",
     "text": [
      "1\n",
      "2\n",
      "3\n",
      "4\n",
      "5\n",
      "6\n",
      "7\n",
      "8\n",
      "9\n",
      "10\n"
     ]
    }
   ],
   "source": [
    "# 1. Write a Python program to print numbers from 1 to 10 using a for loop.\n",
    "# Use a for loop to print numbers from 1 to 10\n",
    "for i in range(1, 11):\n",
    "    print(i)"
   ]
  },
  {
   "cell_type": "markdown",
   "id": "0b3a671e-cfb8-42aa-bfdd-79dca0527636",
   "metadata": {},
   "source": [
    "<b>2. Explain the difference between a for loop and a while loop in Python.</b><br>\n",
    "For loop is used to iterate over a sequence of items.<br>\n",
    "While loop is used to repeatedly execute a block of statements while a condition is true."
   ]
  },
  {
   "cell_type": "code",
   "execution_count": 2,
   "id": "535968ba-3359-4b00-bd65-433b974c148f",
   "metadata": {},
   "outputs": [
    {
     "name": "stdout",
     "output_type": "stream",
     "text": [
      "The sum of all numbers from 1 to 100 is: 5050\n"
     ]
    }
   ],
   "source": [
    "# 3. Write a Python program to calculate the sum of all numbers from 1 to 100 using a for loop.\n",
    "# Use a for loop to calculate the sum of all numbers from 1 to 100\n",
    "total_sum = 0\n",
    "for i in range(1, 101):\n",
    "    total_sum += i\n",
    "print(\"The sum of all numbers from 1 to 100 is:\", total_sum)"
   ]
  },
  {
   "cell_type": "markdown",
   "id": "2f1d7545-4803-4c13-8556-b4ecbf1767a0",
   "metadata": {},
   "source": [
    "<b>4. How do you iterate through a list using a for loop in Python?</b><br>\n",
    "Here's how you iterate through a list using a for loop in Python:<br>\n",
    "<pre>list1 = [1, 2, 3, 4]\n",
    "for item in list1:\n",
    "    print(item)\n",
    "<br>\n",
    "Output:\n",
    "1\n",
    "2\n",
    "3\n",
    "4</pre><br>\n",
    "This for loop will print each item in the list1 list, one at a time."
   ]
  },
  {
   "cell_type": "code",
   "execution_count": 6,
   "id": "9877b13a-fae4-44ef-8122-abf09135556c",
   "metadata": {},
   "outputs": [
    {
     "name": "stdout",
     "output_type": "stream",
     "text": [
      "The product of all elements in the list is: 120\n"
     ]
    }
   ],
   "source": [
    "# 5. Write a Python program to find the product of all elements in a list using a for loop.\n",
    "# Use a for loop to find the product of all elements in a list\n",
    "my_list = [2, 3, 4, 5]\n",
    "product = 1\n",
    "for num in my_list:\n",
    "    product *= num\n",
    "print(\"The product of all elements in the list is:\", product)"
   ]
  },
  {
   "cell_type": "code",
   "execution_count": 7,
   "id": "2fbba097-4ad2-4657-bc1c-cccdba1e7aaa",
   "metadata": {},
   "outputs": [
    {
     "name": "stdout",
     "output_type": "stream",
     "text": [
      "2\n",
      "4\n",
      "6\n",
      "8\n",
      "10\n",
      "12\n",
      "14\n",
      "16\n",
      "18\n",
      "20\n"
     ]
    }
   ],
   "source": [
    "# 6. Create a Python program that prints all even numbers from 1 to 20 using a for loop.\n",
    "# Use a for loop to print all even numbers from 1 to 20\n",
    "for i in range(2, 21, 2):\n",
    "    print(i)"
   ]
  },
  {
   "cell_type": "code",
   "execution_count": 8,
   "id": "39b2a8f3-c97e-4ad7-a699-856a9045071b",
   "metadata": {},
   "outputs": [
    {
     "name": "stdout",
     "output_type": "stream",
     "text": [
      "The factorial of 5 is 120\n"
     ]
    }
   ],
   "source": [
    "# 7. Write a Python program that calculates the factorial of a number using a for loop.\n",
    "# Use a for loop to calculate the factorial of a number\n",
    "num = 5\n",
    "factorial = 1\n",
    "for i in range(1, num + 1):\n",
    "    factorial *= i\n",
    "print(\"The factorial of\", num, \"is\", factorial)"
   ]
  },
  {
   "cell_type": "markdown",
   "id": "066e6d4b-f3a7-47dc-b573-85a164d8d25c",
   "metadata": {},
   "source": [
    "<b>8. How can you iterate through the characters of a string using a for loop in Python?</b><br>\n",
    "Here's how you iterate through the characters of a string using a for loop in Python:<br>\n",
    "<pre>txt = \"var\"\n",
    "for item in txt:\n",
    "    print(item)\n",
    "<br>\n",
    "Output:\n",
    "v\n",
    "a\n",
    "r</pre><br>\n",
    "This for loop will print each character in the string, one at a time."
   ]
  },
  {
   "cell_type": "code",
   "execution_count": 1,
   "id": "220e4c42-cd96-4318-b737-addc3e7b3a6e",
   "metadata": {},
   "outputs": [
    {
     "name": "stdout",
     "output_type": "stream",
     "text": [
      "The largest number in the list is: 100\n"
     ]
    }
   ],
   "source": [
    "# 9. Write a Python program to find the largest number in a list using a for loop.\n",
    "# Using simple iteration\n",
    "my_list = [3, 10, 90, 5, -2, 4, 18, 45, 100, 1, 6]\n",
    "largest = my_list[0]\n",
    "for num in my_list:\n",
    "    if num > largest:\n",
    "        largest = num\n",
    "print(\"The largest number in the list is:\", largest)"
   ]
  },
  {
   "cell_type": "code",
   "execution_count": 2,
   "id": "f7591ea6-dcb9-47d2-94fb-ae4f1f537404",
   "metadata": {},
   "outputs": [
    {
     "name": "stdout",
     "output_type": "stream",
     "text": [
      "The Fibonacci sequence up to 20 is: [0, 1, 1, 2, 3, 5, 8, 13, 21, 34, 55, 89, 144, 233, 377, 610, 987, 1597, 2584, 4181]\n"
     ]
    }
   ],
   "source": [
    "# 10. Create a Python program that prints the Fibonacci sequence up to a specified limit using a for loop.\n",
    "# Use a for loop to print the Fibonacci sequence up to a specified limit\n",
    "limit = 20\n",
    "fibonacci = [0, 1]\n",
    "for i in range(2, limit):\n",
    "    next_fibonacci = fibonacci[i-1] + fibonacci[i-2]\n",
    "    fibonacci.append(next_fibonacci)\n",
    "print(\"The Fibonacci sequence up to\", limit, \"is:\", fibonacci)"
   ]
  },
  {
   "cell_type": "code",
   "execution_count": 3,
   "id": "f176619c-27bc-489a-8e7b-ea1efe61214a",
   "metadata": {},
   "outputs": [
    {
     "name": "stdout",
     "output_type": "stream",
     "text": [
      "The number of vowels in the string is: 3\n"
     ]
    }
   ],
   "source": [
    "# 11. Write a Python program to count the number of vowels in a given string using a for loop.\n",
    "# Use a for loop to count the number of vowels in a given string\n",
    "string = \"Hello, World!\"\n",
    "vowels = \"aeiouAEIOU\"\n",
    "count = 0\n",
    "for char in string:\n",
    "    if char in vowels:\n",
    "        count += 1\n",
    "print(\"The number of vowels in the string is:\", count)"
   ]
  },
  {
   "cell_type": "code",
   "execution_count": 4,
   "id": "13bf8d0d-1f38-45ac-9e81-464e49a0ef79",
   "metadata": {},
   "outputs": [
    {
     "name": "stdout",
     "output_type": "stream",
     "text": [
      "Multiplication table for 5\n",
      "5 x 1 = 5\n",
      "5 x 2 = 10\n",
      "5 x 3 = 15\n",
      "5 x 4 = 20\n",
      "5 x 5 = 25\n",
      "5 x 6 = 30\n",
      "5 x 7 = 35\n",
      "5 x 8 = 40\n",
      "5 x 9 = 45\n",
      "5 x 10 = 50\n"
     ]
    }
   ],
   "source": [
    "# 12. Create a Python program that generates a multiplication table for a given number using a for loop.\n",
    "# Use a for loop to generate a multiplication table for a given number\n",
    "num = 5\n",
    "print(\"Multiplication table for\", num)\n",
    "for i in range(1, 11):\n",
    "    print(num, \"x\", i, \"=\", num*i)"
   ]
  },
  {
   "cell_type": "code",
   "execution_count": 5,
   "id": "018aa8bd-0353-474c-a96f-505fb7907c5a",
   "metadata": {},
   "outputs": [
    {
     "name": "stdout",
     "output_type": "stream",
     "text": [
      "The reversed list is: [5, 4, 3, 2, 1]\n"
     ]
    }
   ],
   "source": [
    "# 13. Write a Python program to reverse a list using a for loop.\n",
    "# Use a for loop to reverse a list\n",
    "my_list = [1, 2, 3, 4, 5]\n",
    "for i in range(len(my_list) // 2):\n",
    "    temp = my_list[i]\n",
    "    my_list[i] = my_list[-i-1]\n",
    "    my_list[-i-1] = temp\n",
    "print(\"The reversed list is:\", my_list)"
   ]
  },
  {
   "cell_type": "code",
   "execution_count": 6,
   "id": "01d9e2fc-53d5-40db-8427-71447b0e0935",
   "metadata": {},
   "outputs": [
    {
     "name": "stdout",
     "output_type": "stream",
     "text": [
      "The common elements between the two lists are: [3, 4, 5]\n"
     ]
    }
   ],
   "source": [
    "# 14. Write a Python program to find the common elements between two lists using a for loop.\n",
    "# Using simple iteration\n",
    "list1 = [1, 2, 3, 4, 5]\n",
    "list2 = [3, 4, 5, 6, 7]\n",
    "common = []\n",
    "for num in list1:\n",
    "    if num in list2:\n",
    "        common.append(num)\n",
    "print(\"The common elements between the two lists are:\", common)"
   ]
  },
  {
   "cell_type": "code",
   "execution_count": 7,
   "id": "0fac839a-3e43-46d7-8592-7448f2e835b6",
   "metadata": {},
   "outputs": [
    {
     "name": "stdout",
     "output_type": "stream",
     "text": [
      "apple : 2\n",
      "banana : 3\n",
      "orange : 4\n"
     ]
    }
   ],
   "source": [
    "# 15. Explain how to use a for loop to iterate through the keys and values of a dictionary in Python.\n",
    "# Use a for loop to iterate through the keys and values of a dictionary\n",
    "my_dict = {\"apple\": 2, \"banana\": 3, \"orange\": 4}\n",
    "for key, value in my_dict.items():\n",
    "    print(key, \":\", value)"
   ]
  },
  {
   "cell_type": "code",
   "execution_count": 8,
   "id": "713c3bf7-6764-436a-877c-21af4fe76487",
   "metadata": {},
   "outputs": [
    {
     "name": "stdout",
     "output_type": "stream",
     "text": [
      "The GCD of 50 and 100 is 50\n"
     ]
    }
   ],
   "source": [
    "# 16. Write a Python program to find the GCD (Greatest Common Divisor) of two numbers using a for loop.\n",
    "# Use a for loop to find the GCD of two numbers\n",
    "num1 = 50\n",
    "num2 = 100\n",
    "if num1 > num2:\n",
    "    num1, num2 = num2, num1\n",
    "gcd = 1\n",
    "for i in range(1, num1+1):\n",
    "    if num1 % i == 0 and num2 % i == 0:\n",
    "        gcd = i\n",
    "print(\"The GCD of\", num1, \"and\", num2, \"is\", gcd)"
   ]
  },
  {
   "cell_type": "code",
   "execution_count": 9,
   "id": "f3de9da3-d4a0-4acb-9937-7ae9a2e6ce39",
   "metadata": {},
   "outputs": [
    {
     "name": "stdout",
     "output_type": "stream",
     "text": [
      "racecar is a palindrome.\n"
     ]
    }
   ],
   "source": [
    "# 17. Create a Python program that checks if a string is a palindrome using a for loop.\n",
    "# Use a for loop to check if a string is a palindrome\n",
    "string = \"racecar\"\n",
    "is_palindrome = True\n",
    "for i in range(len(string) // 2):\n",
    "    if string[i] != string[-i-1]:\n",
    "        is_palindrome = False\n",
    "        break\n",
    "if is_palindrome:\n",
    "    print(string, \"is a palindrome.\")\n",
    "else:\n",
    "    print(string, \"is not a palindrome.\")"
   ]
  },
  {
   "cell_type": "code",
   "execution_count": 10,
   "id": "f7741c1a-ec2c-4263-abea-8da0a3886099",
   "metadata": {},
   "outputs": [
    {
     "name": "stdout",
     "output_type": "stream",
     "text": [
      "The list with duplicates removed is: [1, 2, 3, 4, 5]\n"
     ]
    }
   ],
   "source": [
    "# 18. Write a Python program to remove duplicates from a list using a for loop.\n",
    "# Use a for loop to remove duplicates from a list\n",
    "my_list = [1, 2, 3, 4, 5, 2, 3, 4]\n",
    "new_list = []\n",
    "for item in my_list:\n",
    "    if item not in new_list:\n",
    "        new_list.append(item)\n",
    "print(\"The list with duplicates removed is:\", new_list)"
   ]
  },
  {
   "cell_type": "code",
   "execution_count": 11,
   "id": "3bd9e9b9-03bc-41d0-99c9-7c2edc49d565",
   "metadata": {},
   "outputs": [
    {
     "name": "stdout",
     "output_type": "stream",
     "text": [
      "The number of words in the sentence is: 5\n"
     ]
    }
   ],
   "source": [
    "# 19. Create a Python program that counts the number of words in a sentence using a for loop.\n",
    "# Use a for loop to count the number of words in a sentence\n",
    "sentence = \"This is a sample sentence.\"\n",
    "count = 1\n",
    "for char in sentence:\n",
    "    if char == \" \":\n",
    "        count += 1\n",
    "print(\"The number of words in the sentence is:\", count)"
   ]
  },
  {
   "cell_type": "code",
   "execution_count": 12,
   "id": "269bee58-59ba-4698-8cc9-0213050ed3dc",
   "metadata": {},
   "outputs": [
    {
     "name": "stdout",
     "output_type": "stream",
     "text": [
      "The sum of all odd numbers from 1 to 50 is: 625\n"
     ]
    }
   ],
   "source": [
    "# 20. Write a Python program to find the sum of all odd numbers from 1 to 50 using a for loop.\n",
    "# Use a for loop to find the sum of all odd numbers from 1 to 50\n",
    "sum = 0\n",
    "for i in range(1, 51, 2):\n",
    "    sum += i\n",
    "print(\"The sum of all odd numbers from 1 to 50 is:\", sum)"
   ]
  },
  {
   "cell_type": "code",
   "execution_count": 15,
   "id": "a29a239c-dd75-4de2-8375-8241409b09f3",
   "metadata": {},
   "outputs": [
    {
     "name": "stdout",
     "output_type": "stream",
     "text": [
      "2000 is a leap year.\n"
     ]
    }
   ],
   "source": [
    "# 21. Write a Python program that checks if a given year is a leap year using a for loop.\n",
    "# Use a for loop to check if a given year is a leap year\n",
    "year = 2000\n",
    "is_leap_year = False\n",
    "# if year % 4 == 0:\n",
    "#     if year % 100 == 0:\n",
    "#         if year % 400 == 0:\n",
    "#             is_leap_year = True\n",
    "#     else:\n",
    "#         is_leap_year = True\n",
    "for i in range(1,10000,4):\n",
    "    if year >= i:\n",
    "        continue\n",
    "    else:\n",
    "        if year % 4 == 0:\n",
    "            if year % 100 == 0:\n",
    "                is_leap_year = True\n",
    "            else:\n",
    "                is_leap_year = True\n",
    "if is_leap_year:\n",
    "    print(year, \"is a leap year.\")\n",
    "else:\n",
    "    print(year, \"is not a leap year.\")"
   ]
  },
  {
   "cell_type": "code",
   "execution_count": 16,
   "id": "2b5d7629-2249-4159-b5c9-9c768e84d6df",
   "metadata": {},
   "outputs": [
    {
     "name": "stdout",
     "output_type": "stream",
     "text": [
      "The square root of 25 is 5\n"
     ]
    }
   ],
   "source": [
    "# 22. Create a Python program that calculates the square root of a number using a for loop.\n",
    "# Using simple iteration\n",
    "num = 25\n",
    "sqrt = 0\n",
    "for i in range(num+1):\n",
    "    if i*i == num:\n",
    "        sqrt = i\n",
    "        break\n",
    "print(\"The square root of\", num, \"is\", sqrt)"
   ]
  },
  {
   "cell_type": "code",
   "execution_count": 17,
   "id": "0ffd4f68-075e-4f4d-9f7e-c980cfb4653d",
   "metadata": {},
   "outputs": [
    {
     "name": "stdout",
     "output_type": "stream",
     "text": [
      "The LCM of 12 and 14 is 84\n"
     ]
    }
   ],
   "source": [
    "# 23. Write a Python program to find the LCM (Least Common Multiple) of two numbers using a for loop.\n",
    "# Use a for loop to find the LCM of two numbers\n",
    "num1 = 12\n",
    "num2 = 14\n",
    "max_num = max(num1, num2)\n",
    "for i in range(max_num, num1*num2+1, max_num):\n",
    "    if i % num1 == 0 and i % num2 == 0:\n",
    "        lcm = i\n",
    "        break\n",
    "print(\"The LCM of\", num1, \"and\", num2, \"is\", lcm)"
   ]
  },
  {
   "cell_type": "markdown",
   "id": "d70e3688-f6b4-4f95-8d41-6a82757bda3a",
   "metadata": {},
   "source": [
    "If else"
   ]
  },
  {
   "cell_type": "code",
   "execution_count": 18,
   "id": "7a45c98b-f1b0-4b4f-8661-15eb9aacdc09",
   "metadata": {},
   "outputs": [
    {
     "name": "stdout",
     "output_type": "stream",
     "text": [
      "5 is a positive number.\n"
     ]
    }
   ],
   "source": [
    "# 1. Write a Python program to check if a number is positive, negative, or zero using an if-else statement.\n",
    "# Using simple if-else statement\n",
    "num = 5\n",
    "if num > 0:\n",
    "    print(num, \"is a positive number.\")\n",
    "elif num == 0:\n",
    "    print(num, \"is zero.\")\n",
    "else:\n",
    "    print(num, \"is a negative number.\")"
   ]
  },
  {
   "cell_type": "code",
   "execution_count": 19,
   "id": "3315f026-e2b1-4def-bdf5-f645be465dc5",
   "metadata": {},
   "outputs": [
    {
     "name": "stdout",
     "output_type": "stream",
     "text": [
      "5 is odd.\n"
     ]
    }
   ],
   "source": [
    "# 2. Create a Python program that checks if a given number is even or odd using an if-else statement.\n",
    "# Using simple if-else statement\n",
    "num = 5\n",
    "if num % 2 == 0:\n",
    "    print(num, \"is even.\")\n",
    "else:\n",
    "    print(num, \"is odd.\")"
   ]
  },
  {
   "cell_type": "code",
   "execution_count": 20,
   "id": "f8817daf-d094-4ff0-b95a-59753db12b2b",
   "metadata": {},
   "outputs": [
    {
     "name": "stdout",
     "output_type": "stream",
     "text": [
      "5 is a positive odd number.\n"
     ]
    }
   ],
   "source": [
    "# 3. How can you use nested if-else statements in Python, and provide an example?\n",
    "# Example of a nested if-else statement\n",
    "num = 5\n",
    "if num > 0:\n",
    "    if num % 2 == 0:\n",
    "        print(num, \"is a positive even number.\")\n",
    "    else:\n",
    "        print(num, \"is a positive odd number.\")\n",
    "elif num == 0:\n",
    "    print(num, \"is zero.\")\n",
    "else:\n",
    "    if num % 2 == 0:\n",
    "        print(num, \"is a negative even number.\")\n",
    "    else:\n",
    "        print(num, \"is a negative odd number.\")"
   ]
  },
  {
   "cell_type": "code",
   "execution_count": 21,
   "id": "cd0eefe4-e2c4-488e-bc8d-593147374b6e",
   "metadata": {},
   "outputs": [
    {
     "name": "stdout",
     "output_type": "stream",
     "text": [
      "The largest number among 10 , 14 and 12 is 14\n"
     ]
    }
   ],
   "source": [
    "# 4. Write a Python program to determine the largest of three numbers using if-else.\n",
    "# Determine the largest of three numbers using if-else statements\n",
    "num1 = 10\n",
    "num2 = 14\n",
    "num3 = 12\n",
    "if num1 >= num2 and num1 >= num3:\n",
    "    largest = num1\n",
    "elif num2 >= num1 and num2 >= num3:\n",
    "    largest = num2\n",
    "else:\n",
    "    largest = num3\n",
    "print(\"The largest number among\", num1, \",\", num2, \"and\", num3, \"is\", largest)"
   ]
  },
  {
   "cell_type": "code",
   "execution_count": 22,
   "id": "30d3ecdb-57c0-4ffc-a59b-93602ccc0a4c",
   "metadata": {},
   "outputs": [
    {
     "name": "stdout",
     "output_type": "stream",
     "text": [
      "The absolute value of -5 is 5\n"
     ]
    }
   ],
   "source": [
    "# 5. Write a Python program that calculates the absolute value of a number using if-else.\n",
    "# Using simple if-else statement\n",
    "num = -5\n",
    "if num < 0:\n",
    "    abs_num = -num\n",
    "else:\n",
    "    abs_num = num\n",
    "print(\"The absolute value of\", num, \"is\", abs_num)"
   ]
  },
  {
   "cell_type": "code",
   "execution_count": 23,
   "id": "0e99c0a6-aba7-453b-8126-4a3f98f12256",
   "metadata": {},
   "outputs": [
    {
     "name": "stdout",
     "output_type": "stream",
     "text": [
      "a is a vowel.\n"
     ]
    }
   ],
   "source": [
    "# 6. Create a Python program that checks if a given character is a vowel or consonant using if-else.\n",
    "# Using simple if-else statement\n",
    "char = 'a'\n",
    "if char == 'a' or char == 'e' or char == 'i' or char == 'o' or char == 'u':\n",
    "    print(char, \"is a vowel.\")\n",
    "else:\n",
    "    print(char, \"is a consonant.\")"
   ]
  },
  {
   "cell_type": "code",
   "execution_count": 24,
   "id": "422d743d-610c-4adf-9be4-5b4b8b88df6d",
   "metadata": {},
   "outputs": [
    {
     "name": "stdin",
     "output_type": "stream",
     "text": [
      "Enter your age:  22\n"
     ]
    },
    {
     "name": "stdout",
     "output_type": "stream",
     "text": [
      "You are eligible to vote.\n"
     ]
    }
   ],
   "source": [
    "# 7. Write a Python program to determine if a user is eligible to vote based on their age using if-else.\n",
    "# Check if a user is eligible to vote based on their age using if-else statements\n",
    "age = int(input(\"Enter your age: \"))\n",
    "if age >= 18:\n",
    "    print(\"You are eligible to vote.\")\n",
    "else:\n",
    "    print(\"You are not eligible to vote yet.\")"
   ]
  },
  {
   "cell_type": "code",
   "execution_count": 25,
   "id": "4bcfcb0e-83a4-4ed2-b4e6-3720b474a04f",
   "metadata": {},
   "outputs": [
    {
     "name": "stdin",
     "output_type": "stream",
     "text": [
      "Enter the purchase amount:  50\n"
     ]
    },
    {
     "name": "stdout",
     "output_type": "stream",
     "text": [
      "Discount:  2.5\n",
      "Net Pay:  47.5\n"
     ]
    }
   ],
   "source": [
    "# 8. Create a Python program that calculates the discount amount based on the purchase amount using if-else.\n",
    "# Calculate the discount amount based on the purchase amount using if-else statements\n",
    "amt = float(input(\"Enter the purchase amount: \"))\n",
    "if amt > 0:\n",
    "    if amt <= 5000:\n",
    "        disc = amt * 0.05\n",
    "    elif amt <= 15000:\n",
    "        disc = amt * 0.12\n",
    "    elif amt <= 25000:\n",
    "        disc = amt * 0.2\n",
    "    else:\n",
    "        disc = amt * 0.3\n",
    "    print(\"Discount: \", disc)\n",
    "    print(\"Net Pay: \", amt - disc)\n",
    "else:\n",
    "    print(\"Invalid Amount\")"
   ]
  },
  {
   "cell_type": "code",
   "execution_count": 26,
   "id": "71331514-0c91-45db-94a8-78d0ae414bff",
   "metadata": {},
   "outputs": [
    {
     "name": "stdout",
     "output_type": "stream",
     "text": [
      "5 is within the range of 1 to 10.\n"
     ]
    }
   ],
   "source": [
    "# 9. Write a Python program to check if a number is within a specified range using if-else.\n",
    "# Using the in range() function\n",
    "num = 5\n",
    "if num in range(1, 11):\n",
    "    print(num, \"is within the range of 1 to 10.\")\n",
    "else:\n",
    "    print(num, \"is outside the range of 1 to 10.\")"
   ]
  },
  {
   "cell_type": "code",
   "execution_count": 27,
   "id": "42c6f509-9dbb-4b2b-96cb-409e39f118bd",
   "metadata": {},
   "outputs": [
    {
     "name": "stdin",
     "output_type": "stream",
     "text": [
      "Enter marks of the first subject:  25\n",
      "Enter marks of the second subject:  90\n",
      "Enter marks of the third subject:  75\n",
      "Enter marks of the fourth subject:  80\n",
      "Enter marks of the fifth subject:  66\n"
     ]
    },
    {
     "name": "stdout",
     "output_type": "stream",
     "text": [
      "Your grade is D\n"
     ]
    }
   ],
   "source": [
    "# 10. Create a Python program that determines the grade of a student based on their score using if-else.\n",
    "# Determine the grade of a student based on their score using if-else statements\n",
    "sub1 = int(input(\"Enter marks of the first subject: \"))\n",
    "sub2 = int(input(\"Enter marks of the second subject: \"))\n",
    "sub3 = int(input(\"Enter marks of the third subject: \"))\n",
    "sub4 = int(input(\"Enter marks of the fourth subject: \"))\n",
    "sub5 = int(input(\"Enter marks of the fifth subject: \"))\n",
    "avg = (sub1 + sub2 + sub3 + sub4 + sub5) / 5\n",
    "if avg >= 90:\n",
    "    grade = \"A\"\n",
    "elif avg >= 80:\n",
    "    grade = \"B\"\n",
    "elif avg >= 70:\n",
    "    grade = \"C\"\n",
    "elif avg >= 60:\n",
    "    grade = \"D\"\n",
    "else:\n",
    "    grade = \"F\"\n",
    "print(\"Your grade is\", grade)"
   ]
  },
  {
   "cell_type": "code",
   "execution_count": 28,
   "id": "0521b261-d415-4d3f-8858-96a48f0a3423",
   "metadata": {},
   "outputs": [
    {
     "name": "stdout",
     "output_type": "stream",
     "text": [
      "The string is empty.\n"
     ]
    }
   ],
   "source": [
    "# 11. Write a Python program to check if a string is empty or not using if-else.\n",
    "# Using the not operator\n",
    "string = \"\"\n",
    "if not string:\n",
    "    print(\"The string is empty.\")\n",
    "else:\n",
    "    print(\"The string is not empty.\")"
   ]
  },
  {
   "cell_type": "code",
   "execution_count": 29,
   "id": "5d754af0-bc66-44d5-8181-8e9cd4f0717e",
   "metadata": {},
   "outputs": [
    {
     "name": "stdout",
     "output_type": "stream",
     "text": [
      "Enter the lengths of the sides of the triangle: \n"
     ]
    },
    {
     "name": "stdin",
     "output_type": "stream",
     "text": [
      "a:  6\n",
      "b:  8\n",
      "c:  5\n"
     ]
    },
    {
     "name": "stdout",
     "output_type": "stream",
     "text": [
      "The triangle is a scalene triangle.\n"
     ]
    }
   ],
   "source": [
    "# 12. Create a Python program that identifies the type of a triangle (e.g., equilateral, isosceles, or scalene) based on input values using if-else.\n",
    "# Identify the type of a triangle based on input values using if-else statements\n",
    "print(\"Enter the lengths of the sides of the triangle: \")\n",
    "a = int(input(\"a: \"))\n",
    "b = int(input(\"b: \"))\n",
    "c = int(input(\"c: \"))\n",
    "if a == b == c:\n",
    "    print(\"The triangle is an equilateral triangle.\")\n",
    "elif a == b or b == c or c == a:\n",
    "    print(\"The triangle is an isosceles triangle.\")\n",
    "else:\n",
    "    print(\"The triangle is a scalene triangle.\")"
   ]
  },
  {
   "cell_type": "code",
   "execution_count": 30,
   "id": "f1cef14d-69d6-4df8-811f-9577a9933f26",
   "metadata": {},
   "outputs": [
    {
     "name": "stdin",
     "output_type": "stream",
     "text": [
      "Enter a number from 1 to 7:  6\n"
     ]
    },
    {
     "name": "stdout",
     "output_type": "stream",
     "text": [
      "6 is Friday\n"
     ]
    }
   ],
   "source": [
    "# 13. Write a Python program to determine the day of the week based on a user-provided number using if-else.\n",
    "# Determine the day of the week based on a user-provided number using if-else statements\n",
    "day = int(input(\"Enter a number from 1 to 7: \"))\n",
    "if day == 1:\n",
    "    print(day, \"is Sunday\")\n",
    "elif day == 2:\n",
    "    print(day, \"is Monday\")\n",
    "elif day == 3:\n",
    "    print(day, \"is Tuesday\")\n",
    "elif day == 4:\n",
    "    print(day, \"is Wednesday\")\n",
    "elif day == 5:\n",
    "    print(day, \"is Thursday\")\n",
    "elif day == 6:\n",
    "    print(day, \"is Friday\")\n",
    "elif day == 7:\n",
    "    print(day, \"is Saturday\")\n",
    "else:\n",
    "    print(\"Wrong input! Please enter a number from 1 to 7.\")"
   ]
  },
  {
   "cell_type": "code",
   "execution_count": 31,
   "id": "ef819de7-554d-4b55-a01c-f236e92dfe3d",
   "metadata": {},
   "outputs": [
    {
     "name": "stdin",
     "output_type": "stream",
     "text": [
      "Enter a year:  2100\n"
     ]
    },
    {
     "name": "stdout",
     "output_type": "stream",
     "text": [
      "2100 is not a leap year.\n"
     ]
    },
    {
     "name": "stdin",
     "output_type": "stream",
     "text": [
      "Enter a year:  2000\n"
     ]
    },
    {
     "name": "stdout",
     "output_type": "stream",
     "text": [
      "2000 is a leap year.\n"
     ]
    }
   ],
   "source": [
    "# 14. Create a Python program that checks if a given year is a leap year using both if-else and a function.\n",
    "# Check if a given year is a leap year using if-else statements\n",
    "year = int(input(\"Enter a year: \"))\n",
    "if year % 4 == 0:\n",
    "    if year % 100 == 0:\n",
    "        if year % 400 == 0:\n",
    "            print(year, \"is a leap year.\")\n",
    "        else:\n",
    "            print(year, \"is not a leap year.\")\n",
    "    else:\n",
    "        print(year, \"is a leap year.\")\n",
    "else:\n",
    "    print(year, \"is not a leap year.\")\n",
    "\n",
    "# Check if a given year is a leap year using a function\n",
    "def is_leap_year(year):\n",
    "    if year % 4 == 0:\n",
    "        if year % 100 == 0:\n",
    "            if year % 400 == 0:\n",
    "                return True\n",
    "            else:\n",
    "                return False\n",
    "        else:\n",
    "            return True\n",
    "    else:\n",
    "        return False\n",
    "\n",
    "year = int(input(\"Enter a year: \"))\n",
    "if is_leap_year(year):\n",
    "    print(year, \"is a leap year.\")\n",
    "else:\n",
    "    print(year, \"is not a leap year.\")"
   ]
  },
  {
   "cell_type": "code",
   "execution_count": 32,
   "id": "14a81353-0a25-430f-94f8-783e34cfea58",
   "metadata": {},
   "outputs": [
    {
     "name": "stdin",
     "output_type": "stream",
     "text": [
      "Enter a number:  68\n"
     ]
    },
    {
     "name": "stdout",
     "output_type": "stream",
     "text": [
      "68 is even and positive\n"
     ]
    }
   ],
   "source": [
    "# 15. How do you use the \"assert\" statement in Python to add debugging checks within if-else blocks?\n",
    "# Using assert statement within an if-else block\n",
    "num = int(input(\"Enter a number: \"))\n",
    "if num % 2 == 0:\n",
    "    assert num > 0, \"Number must be positive\"\n",
    "    print(num, \"is even and positive\")\n",
    "else:\n",
    "    assert num < 0, \"Number must be negative\"\n",
    "    print(num, \"is odd and negative\")"
   ]
  },
  {
   "cell_type": "code",
   "execution_count": 33,
   "id": "5eaa713e-a825-48f2-a2f4-735bd12b18f7",
   "metadata": {},
   "outputs": [
    {
     "name": "stdin",
     "output_type": "stream",
     "text": [
      "Enter your age:  5\n"
     ]
    },
    {
     "name": "stdout",
     "output_type": "stream",
     "text": [
      "You are not eligible for a senior citizen discount.\n"
     ]
    }
   ],
   "source": [
    "# 16. Create a Python program that determines the eligibility of a person for a senior citizen discount based on age using if-else.\n",
    "# Determine eligibility for senior citizen discount based on age using if-else statements\n",
    "age = int(input(\"Enter your age: \"))\n",
    "if age >= 60:\n",
    "    print(\"You are eligible for a senior citizen discount.\")\n",
    "else:\n",
    "    print(\"You are not eligible for a senior citizen discount.\")"
   ]
  },
  {
   "cell_type": "code",
   "execution_count": 34,
   "id": "bda51859-36a0-4b92-bdc2-a054912ce84c",
   "metadata": {},
   "outputs": [
    {
     "name": "stdin",
     "output_type": "stream",
     "text": [
      "Enter a character:  r\n"
     ]
    },
    {
     "name": "stdout",
     "output_type": "stream",
     "text": [
      "r is a lowercase character.\n"
     ]
    }
   ],
   "source": [
    "# 17. Write a Python program to categorize a given character as uppercase, lowercase, or neither using if-else.\n",
    "# Categorize a given character as uppercase, lowercase, or neither using if-else statements\n",
    "char = input(\"Enter a character: \")\n",
    "if char.isupper():\n",
    "    print(char, \"is an uppercase character.\")\n",
    "elif char.islower():\n",
    "    print(char, \"is a lowercase character.\")\n",
    "else:\n",
    "    print(char, \"is neither an uppercase nor a lowercase character.\")"
   ]
  },
  {
   "cell_type": "code",
   "execution_count": 35,
   "id": "e41ce187-52bc-440b-8a48-d574894c1927",
   "metadata": {},
   "outputs": [
    {
     "name": "stdin",
     "output_type": "stream",
     "text": [
      "Enter the coefficient of x^2:  1\n",
      "Enter the coefficient of x:  -4\n",
      "Enter the constant term:  4\n"
     ]
    },
    {
     "name": "stdout",
     "output_type": "stream",
     "text": [
      "The roots are real and equal.\n",
      "Root 1 is: 2.0\n"
     ]
    }
   ],
   "source": [
    "# 18. Write a Python program to determine the roots of a quadratic equation using if-else.\n",
    "# Determine the roots of a quadratic equation using if-else statements\n",
    "import math\n",
    "\n",
    "a = float(input(\"Enter the coefficient of x^2: \"))\n",
    "b = float(input(\"Enter the coefficient of x: \"))\n",
    "c = float(input(\"Enter the constant term: \"))\n",
    "\n",
    "discriminant = b**2 - 4*a*c\n",
    "\n",
    "if discriminant > 0:\n",
    "    root1 = (-b + math.sqrt(discriminant)) / (2*a)\n",
    "    root2 = (-b - math.sqrt(discriminant)) / (2*a)\n",
    "    print(\"The roots are real and different.\")\n",
    "    print(\"Root 1 is:\", root1)\n",
    "    print(\"Root 2 is:\", root2)\n",
    "elif discriminant == 0:\n",
    "    root = -b / (2*a)\n",
    "    print(\"The roots are real and equal.\")\n",
    "    print(\"Root 1 is:\", root)\n",
    "else:\n",
    "    real_part = -b / (2*a)\n",
    "    imaginary_part = math.sqrt(-discriminant) / (2*a)\n",
    "    print(\"The roots are complex and different.\")\n",
    "    print(\"Root 1 is:\", real_part, \"+\", imaginary_part, \"i\")\n",
    "    print(\"Root 2 is:\", real_part, \"-\", imaginary_part, \"i\")"
   ]
  },
  {
   "cell_type": "code",
   "execution_count": 36,
   "id": "58cd3455-48cb-47a6-984b-7e4df4690a17",
   "metadata": {},
   "outputs": [
    {
     "name": "stdin",
     "output_type": "stream",
     "text": [
      "Enter a year:  500\n"
     ]
    },
    {
     "name": "stdout",
     "output_type": "stream",
     "text": [
      "500 is a century year.\n"
     ]
    }
   ],
   "source": [
    "# 19. Create a Python program that checks if a given year is a century year or not using if-else.\n",
    "# Check if a given year is a century year or not using if-else statements\n",
    "year = int(input(\"Enter a year: \"))\n",
    "if year % 100 == 0:\n",
    "    print(year, \"is a century year.\")\n",
    "else:\n",
    "    print(year, \"is not a century year.\")"
   ]
  },
  {
   "cell_type": "code",
   "execution_count": 37,
   "id": "adfc0860-09b5-4d4d-8bf0-a50aaab3e4a6",
   "metadata": {},
   "outputs": [
    {
     "name": "stdin",
     "output_type": "stream",
     "text": [
      "Enter a number:  5\n"
     ]
    },
    {
     "name": "stdout",
     "output_type": "stream",
     "text": [
      "5 is not a perfect square.\n"
     ]
    }
   ],
   "source": [
    "# 20. Write a Python program to determine if a given number is a perfect square using if-else.\n",
    "# Determine if a given number is a perfect square using if-else statements\n",
    "import math\n",
    "\n",
    "num = int(input(\"Enter a number: \"))\n",
    "sqrt = math.sqrt(num)\n",
    "\n",
    "if sqrt.is_integer():\n",
    "    print(num, \"is a perfect square.\")\n",
    "else:\n",
    "    print(num, \"is not a perfect square.\")"
   ]
  },
  {
   "cell_type": "markdown",
   "id": "6f7e1ccc-0f05-467c-8ef7-611f78a16e37",
   "metadata": {},
   "source": [
    "<b>21. Explain the purpose of the \"continue\" and \"break\" statements within if-else loops.</b><br>\n",
    "<b>break:</b> The \"break\" statement is used to terminate the loop immediately when it is encountered. It is used to exit out of a loop when an external condition is triggered. When the \"break\" statement is executed, the control of the program goes to the next statement after the loop. The \"break\" statement is commonly used to terminate a loop when a certain condition is met.<br>\n",
    "<pre>for i in range(10):\n",
    "    if i == 5:\n",
    "        break\n",
    "    print(i)</pre><br>\n",
    "<b>continue:</b> The \"continue\" statement is used to skip the current iteration of the loop and move on to the next iteration. It is used to reject all the remaining statements in the current iteration of the loop and move the control back to the top of the loop. When the \"continue\" statement is executed, the code inside the loop following the \"continue\" statement will be skipped for the current iteration and the next iteration of the loop will begin.<br>\n",
    "<pre>for i in range(10):\n",
    "    if i % 2 == 0:\n",
    "        continue\n",
    "    print(i)</pre>"
   ]
  },
  {
   "cell_type": "code",
   "execution_count": 39,
   "id": "03886ca7-dc70-4bb0-8ddc-8599fa52dd4b",
   "metadata": {},
   "outputs": [
    {
     "name": "stdin",
     "output_type": "stream",
     "text": [
      "Enter your weight in kg:  66\n",
      "Enter your height in meters:  3.1\n"
     ]
    },
    {
     "name": "stdout",
     "output_type": "stream",
     "text": [
      "Your BMI is 6.867845993756503 which means you are underweight.\n"
     ]
    }
   ],
   "source": [
    "# 22. Create a Python program that calculates the BMI (Body Mass Index) of a person based on their weight and height using if-else.\n",
    "# Calculate the BMI of a person based on their weight and height using if-else statements\n",
    "weight = float(input(\"Enter your weight in kg: \"))\n",
    "height = float(input(\"Enter your height in meters: \"))\n",
    "\n",
    "bmi = weight / (height ** 2)\n",
    "\n",
    "if bmi < 18.5:\n",
    "    print(\"Your BMI is\", bmi, \"which means you are underweight.\")\n",
    "elif bmi >= 18.5 and bmi < 25:\n",
    "    print(\"Your BMI is\", bmi, \"which means you are normal.\")\n",
    "elif bmi >= 25 and bmi < 30:\n",
    "    print(\"Your BMI is\", bmi, \"which means you are overweight.\")\n",
    "else:\n",
    "    print(\"Your BMI is\", bmi, \"which means you are obese.\")"
   ]
  },
  {
   "cell_type": "code",
   "execution_count": 40,
   "id": "ae2d5200-60a1-4b54-b13a-af76025806bc",
   "metadata": {
    "collapsed": true,
    "jupyter": {
     "outputs_hidden": true
    },
    "tags": []
   },
   "outputs": [
    {
     "name": "stdout",
     "output_type": "stream",
     "text": [
      "Even numbers in the list are:\n",
      "2\n",
      "4\n",
      "6\n",
      "8\n",
      "10\n"
     ]
    }
   ],
   "source": [
    "# 23. How can you use the \"filter()\" function with if-else statements to filter elements from a list?\n",
    "# Filter elements from a list based on a condition using if-else statements\n",
    "my_list = [1, 2, 3, 4, 5, 6, 7, 8, 9, 10]\n",
    "\n",
    "filtered_list = filter(lambda x: x % 2 == 0, my_list)\n",
    "\n",
    "if filtered_list:\n",
    "    print(\"Even numbers in the list are:\")\n",
    "    for num in filtered_list:\n",
    "        print(num)\n",
    "else:\n",
    "    print(\"No even numbers found in the list.\")"
   ]
  },
  {
   "cell_type": "code",
   "execution_count": 42,
   "id": "f2528da0-f888-43d6-bb84-2288b3ea2570",
   "metadata": {},
   "outputs": [
    {
     "name": "stdin",
     "output_type": "stream",
     "text": [
      "Enter a number:  74\n"
     ]
    },
    {
     "name": "stdout",
     "output_type": "stream",
     "text": [
      "74 is not a prime number\n"
     ]
    }
   ],
   "source": [
    "# 24. Write a Python program to determine if a given number is prime or not using if-else.\n",
    "# Determine if a given number is prime or not using if-else statements\n",
    "num = int(input(\"Enter a number: \"))\n",
    "\n",
    "if num > 1:\n",
    "    for i in range(2, num):\n",
    "        if (num % i) == 0:\n",
    "            print(num, \"is not a prime number\")\n",
    "            break\n",
    "    else:\n",
    "        print(num, \"is a prime number\")\n",
    "else:\n",
    "    print(num, \"is not a prime number\")"
   ]
  },
  {
   "cell_type": "markdown",
   "id": "27398fce-b886-4219-b8de-e8805bcda97d",
   "metadata": {},
   "source": [
    "Map"
   ]
  },
  {
   "cell_type": "markdown",
   "id": "cabd1f3e-1cd3-4fe8-9768-7110c4d3c118",
   "metadata": {},
   "source": [
    "<b>1. Explain the purpose of the `map()` function in Python and provide an example of how it can be used to apply a function to each element of an iterable.</b><br>\n",
    "The map() function in Python is a built-in function that allows you to apply a specified function to each item in an iterable (such as a list, tuple, or string) and returns a new iterable with the results. The map() function takes two arguments: the function to be applied and the iterable to be mapped.<br>\n",
    "The map() function returns a map object , which is an iterator that can be converted to other data types like a list, set, or tuple using functions like list(), set(), or tuple().<br><br>\n",
    "Here's an example of how to use the map() function to apply a function to each element of a list:<br>\n",
    "<pre>my_list = [1, 2, 3, 4, 5]\n",
    "def square(x):\n",
    "    return x ** 2\n",
    "squared_list = list(map(square, my_list))\n",
    "print(squared_list)</pre>\n",
    "In this program, we have a list of numbers called my_list. We define a function called square() that takes a number as input and returns its square. We use the map() function to apply the square() function to each element of the my_list and store the results in a new list called squared_list. Finally, we print the squared_list."
   ]
  },
  {
   "cell_type": "code",
   "execution_count": 5,
   "id": "aab43993-0960-48ae-b9cb-84b9da40f5d3",
   "metadata": {},
   "outputs": [
    {
     "name": "stdout",
     "output_type": "stream",
     "text": [
      "[1, 4, 9, 16, 25]\n"
     ]
    }
   ],
   "source": [
    "# 2. Write a Python program that uses the `map()` function to square each element of a list of numbers.\n",
    "def square(x):\n",
    "    return x ** 2\n",
    "\n",
    "numbers = [1, 2, 3, 4, 5]\n",
    "squared_numbers = list(map(square, numbers))\n",
    "\n",
    "print(squared_numbers)"
   ]
  },
  {
   "cell_type": "markdown",
   "id": "beb79e94-5e2b-4bae-a6cb-8cbe048459d3",
   "metadata": {},
   "source": [
    "<b>3. How does the `map()` function differ from a list comprehension in Python, and when would you choose one over the other?</b><br>\n",
    "The map() function and list comprehension are both used to transform elements of an iterable. The map() function applies a given function to each element of an iterable and returns an iterator containing the results. List comprehension, on the other hand, is a concise way to create a new list based on the values of an existing list.<br><br>\n",
    "The main difference between the two is that map() returns an iterator, while list comprehension returns a list. Additionally, list comprehension allows filtering, while map() does not.<br><br>\n",
    "When to use one over the other depends on the specific use case. List comprehension is generally considered more Pythonic and is often more concise and easier to read than map(). However, map() can be more memory-efficient than list comprehension when working with large datasets, as it returns an iterator that yields items on demand, while list comprehension creates a new list in memory.<br><br>\n",
    "In general, if you need to create a new list based on the values of an existing list and/or apply a function to each element of an iterable, list comprehension is a good choice. If you need to apply a function to each element of an iterable and return an iterator, map() is a good choice."
   ]
  },
  {
   "cell_type": "code",
   "execution_count": 6,
   "id": "032f12ba-40d2-4284-b59e-555d1fb468ea",
   "metadata": {},
   "outputs": [
    {
     "name": "stdout",
     "output_type": "stream",
     "text": [
      "['ALICE', 'BOB', 'CHARLIE', 'DAVE']\n"
     ]
    }
   ],
   "source": [
    "# 4. Create a Python program that uses the `map()` function to convert a list of names to uppercase.\n",
    "names = [\"alice\", \"bob\", \"charlie\", \"dave\"]\n",
    "uppercase_names = list(map(str.upper, names))\n",
    "\n",
    "print(uppercase_names)"
   ]
  },
  {
   "cell_type": "code",
   "execution_count": 7,
   "id": "fcacfecf-97bd-45b6-a1d5-1bb79a3335cd",
   "metadata": {},
   "outputs": [
    {
     "name": "stdout",
     "output_type": "stream",
     "text": [
      "[5, 5, 6, 11]\n"
     ]
    }
   ],
   "source": [
    "# 5. Write a Python program that uses the `map()` function to calculate the length of each word in a list of strings.\n",
    "strings = [\"Hello\", \"World\", \"Python\", \"Programming\"]\n",
    "word_lengths = list(map(len, strings))\n",
    "\n",
    "print(word_lengths)"
   ]
  },
  {
   "cell_type": "markdown",
   "id": "30e159d9-4e82-4afb-9bd9-2b9d1611344f",
   "metadata": {},
   "source": [
    "<b>6. How can you use the `map()` function to apply a custom function to elements of multiple lists simultaneously in Python?</b><br>\n",
    "To apply a custom function to elements of multiple lists simultaneously using the map() function in Python, you can pass multiple iterable objects to the map() function. The function you pass as the first argument to map() should have a number of parameters equal to the number of iterables you pass to map(). The function will be applied to the elements of the iterables in parallel. When the shortest iterable is exhausted, the map() iterator stops. Here's an example of how to use the map() function to add elements of two lists:<br>\n",
    "<pre>list1 = [1, 2, 3]\n",
    "list2 = [4, 5, 6]\n",
    "def add(x, y):\n",
    "    return x + y\n",
    "result = list(map(add, list1, list2))\n",
    "print(result)</pre>\n",
    "In this program, we have two lists called list1 and list2. We define a function called add() that takes two numbers as input and returns their sum. We use the map() function to apply the add() function to the elements of list1 and list2 in parallel and store the results in a new list called result. Finally, we print the result."
   ]
  },
  {
   "cell_type": "code",
   "execution_count": 8,
   "id": "fb03d88c-653a-480f-a9c9-25347d6bdf12",
   "metadata": {},
   "outputs": [
    {
     "name": "stdout",
     "output_type": "stream",
     "text": [
      "[77.0, 86.0, 59.0, 50.0, 68.0]\n"
     ]
    }
   ],
   "source": [
    "# 7. Create a Python program that uses `map()` to convert a list of temperatures from Celsius to Fahrenheit.\n",
    "def celsius_to_fahrenheit(celsius):\n",
    "    return (celsius * 9/5) + 32\n",
    "\n",
    "temperatures_celsius = [25, 30, 15, 10, 20]\n",
    "\n",
    "temperatures_fahrenheit = list(map(celsius_to_fahrenheit, temperatures_celsius))\n",
    "\n",
    "print(temperatures_fahrenheit)"
   ]
  },
  {
   "cell_type": "code",
   "execution_count": 10,
   "id": "b3951ee3-0732-4feb-952d-bd5e05cd8e10",
   "metadata": {},
   "outputs": [
    {
     "name": "stdout",
     "output_type": "stream",
     "text": [
      "[3, 3, 1, 1, 5]\n"
     ]
    }
   ],
   "source": [
    "# 8. Write a Python program that uses the `map()` function to round each element of a list of floating-point numbers to the nearest integer.\n",
    "numbers = [3.14, 2.718, 1.414, 0.577, 4.669]\n",
    "\n",
    "rounded_numbers = list(map(round, numbers))\n",
    "\n",
    "print(rounded_numbers)"
   ]
  },
  {
   "cell_type": "markdown",
   "id": "a596e44b-3f3f-4bd7-b056-c368a2906128",
   "metadata": {},
   "source": [
    "Reduce"
   ]
  },
  {
   "cell_type": "markdown",
   "id": "340ca574-b3f0-4742-83e3-9950f2d7eade",
   "metadata": {},
   "source": [
    "<b>1. What is the `reduce()` function in Python, and what module should you import to use it? Provide an example of its basic usage.</b><br>\n",
    "The reduce() function in Python is a built-in function that applies a given function to the elements of an iterable and returns a single value. To use it, you need to import the functools module. Here's an example of its basic usage:<br>\n",
    "<pre>from functools import reduce\n",
    "my_list = [1, 2, 3, 4, 5]\n",
    "def add(x, y):\n",
    "    return x + y\n",
    "result = reduce(add, my_list)\n",
    "print(result)</pre>\n",
    "In this program, we have a list of numbers called my_list. We define a function called add() that takes two numbers as input and returns their sum. We use the reduce() function to apply the add() function to the elements of my_list and reduce it to a single value. Finally, we print the result."
   ]
  },
  {
   "cell_type": "code",
   "execution_count": 11,
   "id": "4c039555-81bf-456f-a064-c85396542c10",
   "metadata": {},
   "outputs": [
    {
     "name": "stdout",
     "output_type": "stream",
     "text": [
      "120\n"
     ]
    }
   ],
   "source": [
    "# 2. Write a Python program that uses the `reduce()` function to find the product of all elements in a list.\n",
    "from functools import reduce\n",
    "\n",
    "numbers = [2, 3, 4, 5]\n",
    "\n",
    "def multiply(a, b):\n",
    "    return a * b\n",
    "\n",
    "product = reduce(multiply, numbers)\n",
    "print(product)"
   ]
  },
  {
   "cell_type": "code",
   "execution_count": 12,
   "id": "4a623b43-0d32-426b-a89c-d666a16a8906",
   "metadata": {},
   "outputs": [
    {
     "name": "stdout",
     "output_type": "stream",
     "text": [
      "14\n"
     ]
    }
   ],
   "source": [
    "# 3. Create a Python program that uses `reduce()` to find the maximum element in a list of numbers.\n",
    "from functools import reduce\n",
    "\n",
    "numbers = [10, 2, 8, 5, 14]\n",
    "\n",
    "def find_max(a, b):\n",
    "    return a if a > b else b\n",
    "\n",
    "max_number = reduce(find_max, numbers)\n",
    "print(max_number)"
   ]
  },
  {
   "cell_type": "markdown",
   "id": "0a9b93d0-0acf-4cce-aa7e-0eb1a5b41274",
   "metadata": {},
   "source": [
    "<b>4. How can you use the `reduce()` function to concatenate a list of strings into a single string?</b><br>\n",
    "To concatenate a list of strings into a single string using the reduce() function in Python, you can use the reduce() function from the functools module. The reduce() function applies a given function to the elements of an iterable and returns a single value. Here's an example of how to use the reduce() function to concatenate a list of strings:<br>\n",
    "<pre>from functools import reduce\n",
    "my_list = ['hello', 'world', 'how', 'are', 'you']\n",
    "def concatenate_strings(x, y):\n",
    "    return x + ' ' + y\n",
    "result = reduce(concatenate_strings, my_list)\n",
    "print(result)</pre>\n",
    "In this program, we have a list of strings called my_list. We define a function called concatenate_strings() that takes two strings as input and returns their concatenation with a space in between. We use the reduce() function to apply the concatenate_strings() function to the elements of my_list and reduce it to a single string. Finally, we print the result."
   ]
  },
  {
   "cell_type": "code",
   "execution_count": 13,
   "id": "c4ec6e40-08ff-4ffa-aa36-8de4f7cba167",
   "metadata": {},
   "outputs": [
    {
     "name": "stdout",
     "output_type": "stream",
     "text": [
      "120\n"
     ]
    }
   ],
   "source": [
    "# 5. Write a Python program that calculates the factorial of a number using the `reduce()` function.\n",
    "from functools import reduce\n",
    "\n",
    "def factorial(n):\n",
    "    return reduce(lambda x, y: x * y, range(1, n + 1))\n",
    "\n",
    "number = 5\n",
    "result = factorial(number)\n",
    "print(result)"
   ]
  },
  {
   "cell_type": "code",
   "execution_count": 14,
   "id": "adee7d9b-862b-43f5-96f6-caebe7714e27",
   "metadata": {},
   "outputs": [
    {
     "name": "stdout",
     "output_type": "stream",
     "text": [
      "12\n"
     ]
    }
   ],
   "source": [
    "# 6. Create a Python program that uses `reduce()` to find the GCD (Greatest Common Divisor) of a list of numbers.\n",
    "from functools import reduce\n",
    "from math import gcd\n",
    "\n",
    "numbers = [24, 36, 48, 60]\n",
    "\n",
    "greatest_common_divisor = reduce(gcd, numbers)\n",
    "print(greatest_common_divisor)"
   ]
  },
  {
   "cell_type": "code",
   "execution_count": 15,
   "id": "0e8cab08-b150-4739-807b-3b6a47177147",
   "metadata": {},
   "outputs": [
    {
     "name": "stdout",
     "output_type": "stream",
     "text": [
      "15\n"
     ]
    }
   ],
   "source": [
    "# 7. Write a Python program that uses the `reduce()` function to find the sum of the digits of a given number.\n",
    "from functools import reduce\n",
    "\n",
    "def sum_of_digits(number):\n",
    "    return reduce(lambda x, y: int(x) + int(y), str(number), 0)\n",
    "\n",
    "number = 12345\n",
    "result = sum_of_digits(number)\n",
    "print(result)"
   ]
  },
  {
   "cell_type": "markdown",
   "id": "ea82dd8c-bc76-4012-af43-bee6b3097b7c",
   "metadata": {},
   "source": [
    "Filter"
   ]
  },
  {
   "cell_type": "markdown",
   "id": "5f833a1a-abb6-4d04-88e9-b74a064bf345",
   "metadata": {},
   "source": [
    "<b>1. Explain the purpose of the `filter()` function in Python and provide an example of how it can be used to filter elements from an iterable.</b><br>\n",
    "The filter() function in Python is a built-in function that allows you to process an iterable and extract those items that satisfy a given condition. This process is commonly known as a filtering operation. With filter(), you can apply a filtering function to an iterable and produce a new iterable with the items that satisfy the condition at hand.<br>\n",
    "The syntax for the filter() function is filter(function, iterable). The function argument is a mandatory function that tests each element of the iterable to be true or false. The iterable argument is a compulsory object. It can be a list, a tuple, etc.<br>\n",
    "Here's an example of how to use the filter() function to filter elements from a list:<br>\n",
    "<pre>my_list = [1, 2, 3, 4, 5]\n",
    "def is_even(x):\n",
    "    if x % 2 == 0:\n",
    "        return True\n",
    "    else:\n",
    "        return False\n",
    "filtered_list = list(filter(is_even, my_list))\n",
    "print(filtered_list)</pre>\n",
    "In this program, we have a list of numbers called my_list. We define a function called is_even() that takes a number as input and returns True if it is even, and False otherwise. We use the filter() function to apply the is_even() function to the elements of my_list and filter out the even numbers. Finally, we store the filtered elements in a new list called filtered_list and print it."
   ]
  },
  {
   "cell_type": "code",
   "execution_count": 16,
   "id": "0974d4ad-acf5-411c-8b6b-aecdcaae70d3",
   "metadata": {},
   "outputs": [
    {
     "name": "stdout",
     "output_type": "stream",
     "text": [
      "[2, 4, 6, 8, 10]\n"
     ]
    }
   ],
   "source": [
    "# 2. Write a Python program that uses the `filter()` function to select even numbers from a list of integers.\n",
    "numbers = [1, 2, 3, 4, 5, 6, 7, 8, 9, 10]\n",
    "\n",
    "even_numbers = list(filter(lambda x: x % 2 == 0, numbers))\n",
    "print(even_numbers)"
   ]
  },
  {
   "cell_type": "code",
   "execution_count": 17,
   "id": "f3d04ad9-2092-41b4-b73c-4d52654ea784",
   "metadata": {},
   "outputs": [
    {
     "name": "stdout",
     "output_type": "stream",
     "text": [
      "['Charlie']\n"
     ]
    }
   ],
   "source": [
    "# 3. Create a Python program that uses the `filter()` function to select names that start with a specific letter from a list of strings.\n",
    "names = [\"Alice\", \"Bob\", \"Charlie\", \"David\", \"Eve\"]\n",
    "\n",
    "letter = \"C\"\n",
    "\n",
    "filtered_names = list(filter(lambda x: x.startswith(letter), names))\n",
    "print(filtered_names)"
   ]
  },
  {
   "cell_type": "code",
   "execution_count": 18,
   "id": "43e050de-1fae-4704-af7c-02c01e8db979",
   "metadata": {},
   "outputs": [
    {
     "name": "stdout",
     "output_type": "stream",
     "text": [
      "[2, 3, 5, 7]\n"
     ]
    }
   ],
   "source": [
    "# 4. Write a Python program that uses the `filter()` function to select prime numbers from a list of integers.\n",
    "def is_prime(n):\n",
    "    if n < 2:\n",
    "        return False\n",
    "    for i in range(2, int(n ** 0.5) + 1):\n",
    "        if n % i == 0:\n",
    "            return False\n",
    "    return True\n",
    "\n",
    "numbers = [1, 2, 3, 4, 5, 6, 7, 8, 9, 10]\n",
    "\n",
    "prime_numbers = list(filter(is_prime, numbers))\n",
    "print(prime_numbers)"
   ]
  },
  {
   "cell_type": "code",
   "execution_count": 19,
   "id": "2b9814f5-110e-4e0a-a8d2-f55397d544de",
   "metadata": {},
   "outputs": [
    {
     "name": "stdout",
     "output_type": "stream",
     "text": [
      "[1, 3, 8]\n"
     ]
    }
   ],
   "source": [
    "# 5. How can you use the `filter()` function to remove None values from a list in Python?\n",
    "my_list = [1, None, 3, None, 8, None, None, None]\n",
    "\n",
    "filtered_list = list(filter(lambda x: x is not None, my_list))\n",
    "print(filtered_list)"
   ]
  },
  {
   "cell_type": "code",
   "execution_count": 20,
   "id": "7c711643-38c4-4886-bc97-71c56d99629c",
   "metadata": {},
   "outputs": [
    {
     "name": "stdout",
     "output_type": "stream",
     "text": [
      "['banana', 'cherry', 'elderberry']\n"
     ]
    }
   ],
   "source": [
    "# 6. Create a Python program that uses `filter()` to select words longer than a certain length from a list of strings.\n",
    "def filter_words_by_length(words, length):\n",
    "    return list(filter(lambda word: len(word) > length, words))\n",
    "\n",
    "word_list = [\"apple\", \"banana\", \"cherry\", \"date\", \"elderberry\", \"fig\"]\n",
    "min_length = 5\n",
    "\n",
    "filtered_words = filter_words_by_length(word_list, min_length)\n",
    "print(filtered_words)"
   ]
  },
  {
   "cell_type": "code",
   "execution_count": 21,
   "id": "5b418587-5817-4be7-8346-9ffaa358c7d4",
   "metadata": {},
   "outputs": [
    {
     "name": "stdout",
     "output_type": "stream",
     "text": [
      "[25, 30, 20]\n"
     ]
    }
   ],
   "source": [
    "# 7. Write a Python program that uses the `filter()` function to select elements greater than a specified threshold from a list of values.\n",
    "def filter_elements_greater_than_threshold(values, threshold):\n",
    "    return list(filter(lambda x: x > threshold, values))\n",
    "\n",
    "value_list = [10, 25, 5, 30, 15, 20]\n",
    "threshold = 15\n",
    "\n",
    "filtered_values = filter_elements_greater_than_threshold(value_list, threshold)\n",
    "print(filtered_values)"
   ]
  },
  {
   "cell_type": "markdown",
   "id": "583f8a50-5a40-462b-8684-cffb2cc07627",
   "metadata": {},
   "source": [
    "Recursion"
   ]
  },
  {
   "cell_type": "markdown",
   "id": "52ce4619-a3e4-47f3-9430-354e72a76d47",
   "metadata": {},
   "source": [
    "<b>1. Explain the concept of recursion in Python. How does it differ from iteration?</b><br>\n",
    "Recursion and iteration are two ways to repeatedly execute a set of instructions in Python. Recursion is a process in which a function calls itself repeatedly until a base condition is met. On the other hand, iteration is a process in which a loop repeatedly executes until a condition is met.<br><br>\n",
    "The main difference between recursion and iteration is that recursion involves calling the same function again and again, while iteration involves using loops like \"for\" and \"while\" to execute the same set of instructions repeatedly. Recursion is generally used when the solution to a bigger problem can be expressed in terms of smaller problems. It is an amazing technique that makes it easier to read and write the code. However, recursion can be slower and use more memory than iteration, especially when there are a considerable number of recursive calls.<br><br>\n",
    "Iteration, on the other hand, is generally faster and more space-efficient than recursion. It is used when we need to execute a set of instructions repeatedly until a condition is met. Iteration is also more suitable when the number of iterations is known in advance."
   ]
  },
  {
   "cell_type": "code",
   "execution_count": 23,
   "id": "c97b8eb1-8657-41dd-8ad5-b7d2b4f696e1",
   "metadata": {},
   "outputs": [
    {
     "name": "stdout",
     "output_type": "stream",
     "text": [
      "The factorial of 5 is: 120\n"
     ]
    }
   ],
   "source": [
    "# 2. Write a Python program to calculate the factorial of a number using recursion.\n",
    "def factorial(n):\n",
    "    if n == 0:\n",
    "        return 1\n",
    "    else:\n",
    "        return n * factorial(n - 1)\n",
    "\n",
    "# Test the function\n",
    "number = 5\n",
    "result = factorial(number)\n",
    "print(f\"The factorial of {number} is: {result}\")"
   ]
  },
  {
   "cell_type": "code",
   "execution_count": 24,
   "id": "13a40fa7-db77-43e2-a90f-ba7ea0bbfc95",
   "metadata": {},
   "outputs": [
    {
     "name": "stdout",
     "output_type": "stream",
     "text": [
      "The 8th Fibonacci number is: 13\n"
     ]
    }
   ],
   "source": [
    "# 3. Create a recursive Python function to find the nth Fibonacci number.\n",
    "def fibonacci(n):\n",
    "    if n <= 0:\n",
    "        return \"Invalid input. n should be a positive integer.\"\n",
    "    elif n == 1:\n",
    "        return 0\n",
    "    elif n == 2:\n",
    "        return 1\n",
    "    else:\n",
    "        return fibonacci(n - 1) + fibonacci(n - 2)\n",
    "\n",
    "# Test the function\n",
    "n = 8\n",
    "result = fibonacci(n)\n",
    "print(f\"The {n}th Fibonacci number is: {result}\")"
   ]
  },
  {
   "cell_type": "code",
   "execution_count": 25,
   "id": "ca5983cb-4c2b-43cf-b68c-76c9f44cd984",
   "metadata": {},
   "outputs": [
    {
     "name": "stdout",
     "output_type": "stream",
     "text": [
      "The sum of the list [1, 2, 3, 4, 5] is: 15\n"
     ]
    }
   ],
   "source": [
    "# 4. Write a recursive Python function to calculate the sum of all elements in a list.\n",
    "def sum_of_list(lst):\n",
    "    if not lst:\n",
    "        return 0\n",
    "    else:\n",
    "        return lst[0] + sum_of_list(lst[1:])\n",
    "\n",
    "# Test the function\n",
    "my_list = [1, 2, 3, 4, 5]\n",
    "result = sum_of_list(my_list)\n",
    "print(f\"The sum of the list {my_list} is: {result}\")"
   ]
  },
  {
   "cell_type": "markdown",
   "id": "a3a4fce3-ca6a-4bef-8224-a554888e911b",
   "metadata": {},
   "source": [
    "<b>5. How can you prevent a recursive function from running indefinitely, causing a stack overflow error?</b><br>\n",
    "Recursion is a technique in Python where a function calls itself repeatedly until a base condition is met. However, if the base condition is not met, the function can run indefinitely, causing a stack overflow error. A stack overflow error occurs when the call stack exceeds its maximum size, which can happen when a function calls itself too many times.\n",
    "To prevent a recursive function from running indefinitely and causing a stack overflow error, you can use the following techniques:<br>\n",
    "<b>Define a base case:</b> A base case is a condition that stops the recursion. It is the condition that is checked at the beginning of each recursive call. If the base case is met, the function returns a value and the recursion stops. If the base case is not met, the function calls itself again with a modified input. By defining a base case, you can ensure that the recursion stops at some point.<br>\n",
    "<b>Use tail recursion:</b> Tail recursion is a technique where the recursive call is the last operation performed by the function. In tail recursion, the function does not need to keep track of the previous state, so the call stack does not grow with each recursive call. This can help prevent a stack overflow error.<br>\n",
    "<b>Increase the stack size:</b> If you need to use recursion and the base case cannot be easily defined, you can increase the size of the call stack. In Python, you can increase the size of the call stack using the sys.setrecursionlimit() function. However, increasing the stack size can be dangerous, as it can cause the program to consume too much memory and crash."
   ]
  },
  {
   "cell_type": "code",
   "execution_count": 26,
   "id": "94e92bc3-258e-4e20-bbdf-33315cc260cb",
   "metadata": {},
   "outputs": [
    {
     "name": "stdout",
     "output_type": "stream",
     "text": [
      "The GCD of 24 and 18 is: 6\n"
     ]
    }
   ],
   "source": [
    "# 6. Create a recursive Python function to find the greatest common divisor (GCD) of two numbers using the Euclidean algorithm.\n",
    "def gcd(a, b):\n",
    "    if b == 0:\n",
    "        return a\n",
    "    else:\n",
    "        return gcd(b, a % b)\n",
    "a = 24\n",
    "b = 18\n",
    "result = gcd(a, b)\n",
    "print(\"The GCD of\", a, \"and\", b, \"is:\", result)"
   ]
  },
  {
   "cell_type": "code",
   "execution_count": 27,
   "id": "350ab8b3-a25f-4c1c-a026-5259e6d15bce",
   "metadata": {},
   "outputs": [
    {
     "name": "stdout",
     "output_type": "stream",
     "text": [
      "Original string: Hello, World!\n",
      "Reversed string: !dlroW ,olleH\n"
     ]
    }
   ],
   "source": [
    "# 7. Write a recursive Python function to reverse a string.\n",
    "def reverse_string(s):\n",
    "    if len(s) == 0:\n",
    "        return s\n",
    "    else:\n",
    "        return reverse_string(s[1:]) + s[0]\n",
    "s = \"Hello, World!\"\n",
    "result = reverse_string(s)\n",
    "print(\"Original string:\", s)\n",
    "print(\"Reversed string:\", result)"
   ]
  },
  {
   "cell_type": "code",
   "execution_count": 28,
   "id": "722f7aac-319c-4f19-a834-1a951fe5ade4",
   "metadata": {},
   "outputs": [
    {
     "name": "stdout",
     "output_type": "stream",
     "text": [
      "2 raised to the power of 3 is: 8\n"
     ]
    }
   ],
   "source": [
    "# 8. Create a recursive Python function to calculate the power of a number (x^n).\n",
    "def power(x, n):\n",
    "    if n == 0:\n",
    "        return 1\n",
    "    elif n > 0:\n",
    "        return x * power(x, n - 1)\n",
    "    else:\n",
    "        return 1 / power(x, -n)\n",
    "x = 2\n",
    "n = 3\n",
    "result = power(x, n)\n",
    "print(x, \"raised to the power of\", n, \"is:\", result)"
   ]
  },
  {
   "cell_type": "code",
   "execution_count": 29,
   "id": "07d09c03-bf17-42c6-8f91-55d8fe93f45d",
   "metadata": {},
   "outputs": [
    {
     "name": "stdout",
     "output_type": "stream",
     "text": [
      "['abc', 'acb', 'bac', 'bca', 'cab', 'cba']\n"
     ]
    }
   ],
   "source": [
    "# 9. Write a recursive Python function to find all permutations of a given string.\n",
    "def find_permutations(string):\n",
    "    # Base case: If the string is empty, return an empty list\n",
    "    if len(string) == 0:\n",
    "        return []\n",
    "\n",
    "    # Base case: If the string has only one character, return a list containing that character\n",
    "    if len(string) == 1:\n",
    "        return [string]\n",
    "\n",
    "    # Recursive case: For each character in the string, find permutations of the remaining characters\n",
    "    permutations = []\n",
    "    for i in range(len(string)):\n",
    "        char = string[i]\n",
    "        remaining = string[:i] + string[i+1:]\n",
    "        for perm in find_permutations(remaining):\n",
    "            permutations.append(char + perm)\n",
    "\n",
    "    return permutations\n",
    "string = \"abc\"\n",
    "permutations = find_permutations(string)\n",
    "print(permutations)"
   ]
  },
  {
   "cell_type": "code",
   "execution_count": 30,
   "id": "a4d1d3b4-c9e9-4ba9-a742-e465671bccac",
   "metadata": {},
   "outputs": [
    {
     "name": "stdout",
     "output_type": "stream",
     "text": [
      "True\n"
     ]
    }
   ],
   "source": [
    "# 10. Write a recursive Python function to check if a string is a palindrome.\n",
    "def is_palindrome(string):\n",
    "    if len(string) <= 1:\n",
    "        return True\n",
    "\n",
    "    if string[0] == string[-1]:\n",
    "        # Remove the first and last characters and check if the remaining string is a palindrome\n",
    "        return is_palindrome(string[1:-1])\n",
    "\n",
    "    return False\n",
    "string = \"racecar\"\n",
    "is_palindrome = is_palindrome(string)\n",
    "print(is_palindrome)"
   ]
  },
  {
   "cell_type": "code",
   "execution_count": 31,
   "id": "c9d86688-b87e-4c6f-bfd2-ecdc0c1cd750",
   "metadata": {},
   "outputs": [
    {
     "name": "stdout",
     "output_type": "stream",
     "text": [
      "[[], [3], [2], [2, 3], [1], [1, 3], [1, 2], [1, 2, 3]]\n"
     ]
    }
   ],
   "source": [
    "# 11. Create a recursive Python function to generate all possible combinations of a list of elements.\n",
    "def generate_combinations(elements):\n",
    "    if len(elements) == 0:\n",
    "        return [[]]  # Return an empty combination\n",
    "\n",
    "    first_element = elements[0]\n",
    "    remaining_elements = elements[1:]\n",
    "\n",
    "    # Recursive step: Generate combinations without the first element\n",
    "    combinations_without_first = generate_combinations(remaining_elements)\n",
    "\n",
    "    # Recursive step: Generate combinations with the first element\n",
    "    combinations_with_first = []\n",
    "    for combination in combinations_without_first:\n",
    "        combinations_with_first.append([first_element] + combination)\n",
    "\n",
    "    # Combine the combinations without the first element and the combinations with the first element\n",
    "    all_combinations = combinations_without_first + combinations_with_first\n",
    "\n",
    "    return all_combinations\n",
    "elements = [1, 2, 3]\n",
    "combinations = generate_combinations(elements)\n",
    "print(combinations)"
   ]
  },
  {
   "cell_type": "markdown",
   "id": "5d3a1c4d-4624-40aa-82f9-d42a91bc81a8",
   "metadata": {},
   "source": [
    "Basics of Functions"
   ]
  },
  {
   "cell_type": "markdown",
   "id": "8f926867-a8cb-4f94-817a-2fbea3629096",
   "metadata": {},
   "source": [
    "<b>1. What is a function in Python, and why is it used?</b><br>\n",
    "A function in Python is a block of code that performs a specific task. It is a way to bundle a set of instructions that you want to use repeatedly or that are better self-contained in a sub-program and called when needed. Functions are an essential part of the Python programming language, and there are three types of functions in Python:<br>\n",
    "<ul>\n",
    "<b>Built-in functions:</b> These are functions that are built into the Python language, such as print(), len(), and max().<br>\n",
    "<b>User-defined functions:</b> These are functions that users create to help them out. Users can define their own functions to perform specific tasks.<br>\n",
    "<b>Anonymous functions:</b> These are also called lambda functions because they are not declared with the standard def keyword. They are used for simple tasks and are defined in a single line.<br>\n",
    "</ul>\n",
    "Functions are used in programming to make code more modular, reusable, and easier to read and maintain. By dividing a complex problem into smaller chunks, functions make programs easy to understand and reuse.<br>\n",
    "To define a function in Python, you use the def keyword followed by the function name and any parameters the function takes. The function body is indented and contains the instructions that the function performs."
   ]
  },
  {
   "cell_type": "markdown",
   "id": "aa52d071-00eb-4dc8-9135-c2f6826d91b5",
   "metadata": {},
   "source": [
    "<b>2. How do you define a function in Python? Provide an example.</b><br>\n",
    "A function in Python is a block of code that performs a specific task. It is a way to bundle a set of instructions that you want to use repeatedly or that are better self-contained in a sub-program and called when needed. Functions are an essential part of the Python programming language, and there are three types of functions in Python: built-in functions, user-defined functions, and anonymous functions.<br>\n",
    "To define a function in Python, you use the def keyword followed by the function name and any parameters the function takes. The function body is indented and contains the instructions that the function performs.<br>\n",
    "Here's an example of a simple function that prints \"Hello, World!\":<br>\n",
    "<pre>def hello_world():\n",
    "    print(\"Hello, World!\")</pre>\n",
    "To call a function in Python, you simply use the function name followed by parentheses. Here's an example of how to call the hello_world() function:<br>\n",
    "<pre>hello_world()</pre>"
   ]
  },
  {
   "cell_type": "markdown",
   "id": "bdbb2d42-bc9e-471c-9635-00d291012bf0",
   "metadata": {},
   "source": [
    "<b>3. Explain the difference between a function definition and a function call.</b><br>\n",
    "<b>Function Definition:</b><ul>\n",
    "    <li>A function definition is a block of code that defines a function in Python.</li>\n",
    "    <li>It starts with the def keyword, followed by the function name and any parameters the function takes.</li>\n",
    "    <li>The function body is indented and contains the instructions that the function performs.</li>\n",
    "    <li>A function definition does not execute the code inside the function body.</li>\n",
    "    <li>It is used to create a function that can be called later in the program.</li>\n",
    "</ul><br>\n",
    "<b>Function Call:</b><ul>\n",
    "    <li>A function call is a statement that executes a function in Python.</li>\n",
    "    <li>It uses the function name followed by parentheses, and any arguments that the function takes.</li>\n",
    "    <li>A function call executes the code inside the function body and returns the result.</li>\n",
    "    <li>It is used to execute a function that has been defined earlier in the program.</li>\n",
    "</ul>"
   ]
  },
  {
   "cell_type": "code",
   "execution_count": 32,
   "id": "60d23a20-be41-4113-a25a-90637726a3d9",
   "metadata": {},
   "outputs": [
    {
     "name": "stdout",
     "output_type": "stream",
     "text": [
      "The sum of 3 and 5 is 8\n"
     ]
    }
   ],
   "source": [
    "# 4. Write a Python program that defines a function to calculate the sum of two numbers and then calls the function.\n",
    "# Define a function to calculate the sum of two numbers\n",
    "def add_numbers(x, y):\n",
    "    result = x + y\n",
    "    return result\n",
    "\n",
    "# Call the function with two numbers and print the result\n",
    "num1 = 3\n",
    "num2 = 5\n",
    "result = add_numbers(num1, num2)\n",
    "print(\"The sum of\", num1, \"and\", num2, \"is\", result)"
   ]
  },
  {
   "cell_type": "markdown",
   "id": "b3784bf4-6f49-49b4-a074-bcbe285be187",
   "metadata": {},
   "source": [
    "<b>5. What is a function signature, and what information does it typically include?</b><br>\n",
    "A function signature in Python provides crucial information about the types of parameters that a function can accept and the type of data it returns. The signature indicates the names and types of the input arguments, and (with type annotations) the type of the returned result(s) of a function. It is defined by the number and type of input arguments the function takes and the type of the result the function returns.<br>\n",
    "In Python, you can use the signature() function from the inspect module to determine the function signature. This function takes a callable as a parameter and returns the annotation. It raises a ValueError if no signature is provided. If the invalid type object is given, then it throws a TypeError.<br><br>\n",
    "The function signature typically includes the following information:<br>\n",
    "<ul>\n",
    "<li>The name of the function</li>\n",
    "<li>The number and type of input arguments the function takes</li>\n",
    "<li>The type of the result the function returns</li>\n",
    "</ul>"
   ]
  },
  {
   "cell_type": "code",
   "execution_count": 33,
   "id": "e114ab94-c476-4ca0-b991-8a4b7f555746",
   "metadata": {},
   "outputs": [
    {
     "name": "stdout",
     "output_type": "stream",
     "text": [
      "15\n"
     ]
    }
   ],
   "source": [
    "# 6. Create a Python function that takes two arguments and returns their product.\n",
    "def multiply_numbers(x, y):\n",
    "    product = x * y\n",
    "    return product\n",
    "result = multiply_numbers(3, 5)\n",
    "print(result)"
   ]
  },
  {
   "cell_type": "markdown",
   "id": "0beef3cf-f111-4c73-bc0e-7eb83f1f6db8",
   "metadata": {},
   "source": [
    "Function Parameters and Arguments"
   ]
  },
  {
   "cell_type": "markdown",
   "id": "b351f953-7eba-4be4-9d7a-8511cb96b281",
   "metadata": {},
   "source": [
    "<b>1. Explain the concepts of formal parameters and actual arguments in Python functions.</b><br>\n",
    "Formal parameters and actual arguments are important concepts in Python functions. Formal parameters are the parameters that are specified during the definition of the function. They are also known as function arguments. Actual parameters, on the other hand, are the parameters that are specified during the function call. They are also known as function arguments.<br>\n",
    "There are four types of actual parameters in Python:<br>\n",
    "<ul>\n",
    "<li><b>Positional parameters:</b> These are the parameters that are passed to the function in the correct positional order.</li>\n",
    "<li><b>Keyword parameters:</b> These are the parameters that are identified by their parameter names.</li>\n",
    "<li><b>Default parameters:</b> These are the parameters that have default values specified in the function definition.</li>\n",
    "<li><b>Variable-length parameters:</b> These are the parameters that can accept a variable number of arguments.</li>\n",
    "</ul>\n",
    "In summary, formal parameters are the parameters that are specified during the definition of the function, while actual parameters are the parameters that are specified during the function call. There are four types of actual parameters in Python: positional parameters, keyword parameters, default parameters, and variable-length parameters."
   ]
  },
  {
   "cell_type": "code",
   "execution_count": 2,
   "id": "0ff5c7ef-a6ae-49ab-8d4a-fe669f70f5e5",
   "metadata": {},
   "outputs": [
    {
     "name": "stdout",
     "output_type": "stream",
     "text": [
      "Hello, Alice!\n",
      "Hi, Bob!\n"
     ]
    }
   ],
   "source": [
    "# 2. Write a Python program that defines a function with default argument values.\n",
    "def greet(name, message=\"Hello\"):\n",
    "    print(f\"{message}, {name}!\")\n",
    "\n",
    "# Calling the function without specifying the message argument\n",
    "greet(\"Alice\")  # Output: Hello, Alice!\n",
    "\n",
    "# Calling the function with a custom message argument\n",
    "greet(\"Bob\", \"Hi\")  # Output: Hi, Bob!"
   ]
  },
  {
   "cell_type": "markdown",
   "id": "a3655b37-12ba-4335-8a86-724e2384b6bb",
   "metadata": {},
   "source": [
    "<b>3. How do you use keyword arguments in Python function calls? Provide an example.</b><br>\n",
    "To use keyword arguments in Python function calls, you can pass arguments with the key=value syntax. This way, the order of the arguments does not matter.<br>\n",
    "Here's an example:<br>\n",
    "<pre>def greet(name, age):\n",
    "    print(\"Hello, my name is\", name, \"and I am\", age, \"years old.\")\n",
    "\n",
    "greet(name=\"Alice\", age=25)</pre>\n",
    "In this program, we define a function called greet() that takes two arguments, name and age. We call the function using keyword arguments, where we specify the argument name followed by the value we want to pass. This way, we can pass the arguments in any order we want."
   ]
  },
  {
   "cell_type": "code",
   "execution_count": 4,
   "id": "dbbdcc7a-a148-45ba-8747-412de4d2f788",
   "metadata": {},
   "outputs": [
    {
     "name": "stdout",
     "output_type": "stream",
     "text": [
      "6\n",
      "150\n",
      "56\n"
     ]
    }
   ],
   "source": [
    "# 4. Create a Python function that accepts a variable number of arguments and calculates their sum.\n",
    "def calculate_sum(*args):\n",
    "    total = 0\n",
    "    for num in args:\n",
    "        total += num\n",
    "    return total\n",
    "\n",
    "# Testing the function\n",
    "print(calculate_sum(1, 2, 3))  # Output: 6\n",
    "print(calculate_sum(10, 20, 30, 40, 50))  # Output: 150\n",
    "print(calculate_sum(2, 4, 6, 8, 10, 12, 14))  # Output: 56"
   ]
  },
  {
   "cell_type": "markdown",
   "id": "2e654175-05a6-4e3d-8464-919db4c0cbf9",
   "metadata": {},
   "source": [
    "<b>5. What is the purpose of the `*args` and `**kwargs` syntax in function parameter lists?</b><br>\n",
    "The *args and **kwargs syntax in function parameter lists are used to pass a variable number of arguments to a function. *args is used to pass a variable number of non-keyworded arguments, while **kwargs is used to pass a variable number of keyworded arguments.<br>\n",
    "*args is used when you want to pass a variable number of non-keyworded arguments to a function. It allows you to pass any number of arguments to a function, and the arguments are passed as a tuple. You can use the * operator before the parameter name to pass a variable number of arguments.<br>\n",
    "**kwargs is used when you want to pass a variable number of keyworded arguments to a function. It allows you to pass any number of keyword arguments to a function, and the arguments are passed as a dictionary. You can use the ** operator before the parameter name to pass a variable number of keyword arguments."
   ]
  },
  {
   "cell_type": "markdown",
   "id": "14f8448b-8547-47d5-a75b-ffb0629ee5e8",
   "metadata": {},
   "source": [
    "Return Values and Scoping"
   ]
  },
  {
   "cell_type": "markdown",
   "id": "9cbeb7a1-4c72-4ef8-8e4c-053ce8cb8650",
   "metadata": {},
   "source": [
    "<b>1. Describe the role of the `return` statement in Python functions and provide examples.</b><br>\n",
    "The return statement in Python is used to end the execution of a function and return a value to the caller. The value can be any Python object, including numbers, strings, lists, and dictionaries. The return statement is a key component of functions and methods, and it allows you to make your functions send Python objects back to the caller code. These objects are known as the function’s return value, and you can use them to perform further computation in your programs.<br>\n",
    "Here's an example of a function that uses the return statement:<br>\n",
    "<pre>def add_numbers(x, y):\n",
    "    result = x + y\n",
    "    return result</pre>\n",
    "In this program, we define a function called add_numbers() that takes two numbers as input and returns their sum. We use the return statement to return the value of result to the caller code.<br>\n",
    "To call this function, you can pass two numbers as arguments and store the result in a variable:<br>\n",
    "<pre>result = add_numbers(3, 5)\n",
    "print(result)</pre>"
   ]
  },
  {
   "cell_type": "markdown",
   "id": "bc17f26b-ebc5-4646-bbc0-95094701cbbf",
   "metadata": {},
   "source": [
    "<b>2. Explain the concept of variable scope in Python, including local and global variables.</b><br>\n",
    "Variable scope in Python refers to the region where a variable is defined and can be accessed. There are two types of variables in Python: local and global variables. Local variables are defined inside a function and can only be accessed within that function. Global variables, on the other hand, are defined outside of any function and can be accessed from anywhere in the program.<br>\n",
    "When a variable is defined inside a function, it is considered a local variable and can only be accessed within that function. If you try to access a local variable outside of its function, you will get a NameError.<br>\n",
    "Global variables, on the other hand, are defined outside of any function and can be accessed from anywhere in the program. If you try to access a global variable inside a function, you need to use the global keyword to indicate that you want to use the global variable instead of creating a new local variable with the same name."
   ]
  },
  {
   "cell_type": "code",
   "execution_count": 5,
   "id": "cab6d5cd-eca0-44f4-824f-94720247d6b6",
   "metadata": {},
   "outputs": [
    {
     "name": "stdout",
     "output_type": "stream",
     "text": [
      "Count: 0\n",
      "Count: 1\n",
      "Count: 2\n"
     ]
    }
   ],
   "source": [
    "# 3. Write a Python program that demonstrates the use of global variables within functions.\n",
    "count = 0  # Global variable\n",
    "\n",
    "def increment_count():\n",
    "    global count  # Declare the variable as global within the function\n",
    "    count += 1\n",
    "\n",
    "def print_count():\n",
    "    print(\"Count:\", count)\n",
    "\n",
    "# Calling the functions\n",
    "print_count()  # Output: Count: 0\n",
    "increment_count()\n",
    "print_count()  # Output: Count: 1\n",
    "increment_count()\n",
    "print_count()  # Output: Count: 2"
   ]
  },
  {
   "cell_type": "code",
   "execution_count": 6,
   "id": "0f06415b-36a7-461d-bda4-98c101691017",
   "metadata": {},
   "outputs": [
    {
     "name": "stdout",
     "output_type": "stream",
     "text": [
      "120\n"
     ]
    }
   ],
   "source": [
    "# 4. Create a Python function that calculates the factorial of a number and returns it.\n",
    "def factorial(num):\n",
    "    if num == 0:\n",
    "        return 1\n",
    "    else:\n",
    "        return num * factorial(num - 1)\n",
    "result = factorial(5)\n",
    "print(result)"
   ]
  },
  {
   "cell_type": "markdown",
   "id": "fd784d3f-1702-413f-8628-0ee33418eee7",
   "metadata": {},
   "source": [
    "<b>5. How can you access variables defined outside a function from within the function?</b><br>\n",
    "To access variables defined outside a function from within the function, you can use the global keyword. The global keyword is used to indicate that a variable is a global variable, which means that it can be accessed from anywhere in the program, including inside functions.<br>"
   ]
  },
  {
   "cell_type": "markdown",
   "id": "7431802b-9d41-448b-981a-f55b7c4093bb",
   "metadata": {},
   "source": [
    "Lambda Functions and Higher-Order Functions"
   ]
  },
  {
   "cell_type": "markdown",
   "id": "2e0d3d7c-39c7-45eb-9215-467d8794d366",
   "metadata": {},
   "source": [
    "<b>1. What are lambda functions in Python, and when are they typically used?</b><br>\n",
    "Lambda functions in Python are small, anonymous functions that can take any number of arguments but can only have one expression. They are defined using the lambda keyword, followed by the arguments and the expression. Lambda functions are typically used when you need to define a function for a short period of time and don't want to define a separate function using the def keyword.<br>\n",
    "Lambda functions are often used as arguments to higher-order functions like map(), filter(), and reduce(). These functions take a function as an argument and apply it to a sequence of values."
   ]
  },
  {
   "cell_type": "code",
   "execution_count": 7,
   "id": "94435c36-b8d8-4a3a-b885-0d6e29d7c8a8",
   "metadata": {},
   "outputs": [
    {
     "name": "stdout",
     "output_type": "stream",
     "text": [
      "Sorted list: [(4, 1), (3, 2), (1, 4), (2, 6)]\n"
     ]
    }
   ],
   "source": [
    "# 2. Write a Python program that uses lambda functions to sort a list of tuples based on the second element.\n",
    "my_list = [(1, 4), (3, 2), (2, 6), (4, 1)]\n",
    "\n",
    "# Sort the list based on the second element of each tuple\n",
    "sorted_list = sorted(my_list, key=lambda x: x[1])\n",
    "\n",
    "# Print the sorted list\n",
    "print(\"Sorted list:\", sorted_list)"
   ]
  },
  {
   "cell_type": "markdown",
   "id": "16be783c-429e-414e-a46b-f4b4568ffdab",
   "metadata": {},
   "source": [
    "<b>3. Explain the concept of higher-order functions in Python, and provide an example.</b><br>\n",
    "Higher-order functions in Python are functions that take one or more functions as arguments and/or produce a function as a result. They are used to express complex concepts by combining simpler functions into new functions. Higher-order functions are a powerful abstraction mechanism that can vastly increase the expressive power of a programming language.<br>\n",
    "Python provides several built-in higher-order functions, including map(), filter(), and reduce(). These functions take a function as an argument and apply it to a sequence of values. For example, the map() function applies a function to each item in an iterable and returns a new iterable with the results. The filter() function applies a function to each item in an iterable and returns a new iterable with only the items that pass the function's test. The reduce() function applies a function to the items in an iterable and returns a single value.<br>\n",
    "Here's an example of using a higher-order function in Python:<br>\n",
    "<pre>def square(x):\n",
    "    return x**2\n",
    "\n",
    "numbers = [1, 2, 3, 4, 5]\n",
    "squares = map(square, numbers)\n",
    "print(list(squares))</pre>\n",
    "In this program, we define a function called square() that takes a number as input and returns its square. We then define a list of numbers and use the map() function to apply the square() function to each number in the list. We then convert the result to a list and print it, which outputs [1][4]."
   ]
  },
  {
   "cell_type": "code",
   "execution_count": 8,
   "id": "8d6205cb-d5ec-47e1-a2d0-680ac03443af",
   "metadata": {},
   "outputs": [
    {
     "name": "stdout",
     "output_type": "stream",
     "text": [
      "[1, 4, 9, 16, 25]\n"
     ]
    }
   ],
   "source": [
    "# 4. Create a Python function that takes a list of numbers and a function as arguments, applying the function to each element in the list.\n",
    "def apply_function_to_list(numbers, func):\n",
    "    result = []\n",
    "    for num in numbers:\n",
    "        result.append(func(num))\n",
    "    return result\n",
    "\n",
    "# Example usage\n",
    "def square(x):\n",
    "    return x ** 2\n",
    "\n",
    "numbers_list = [1, 2, 3, 4, 5]\n",
    "result_list = apply_function_to_list(numbers_list, square)\n",
    "print(result_list)"
   ]
  },
  {
   "cell_type": "markdown",
   "id": "0d060734-939a-4d9f-bfdc-361a9502c072",
   "metadata": {},
   "source": [
    "Built-in Functions"
   ]
  },
  {
   "cell_type": "markdown",
   "id": "8b062939-a1da-4ae7-9759-2271babaa8ab",
   "metadata": {},
   "source": [
    "<b>1. Describe the role of built-in functions like `len()`, `max()`, and `min()` in Python.</b><br>\n",
    "Built-in functions like len(), max(), and min() in Python are used to perform common operations on data structures like lists, tuples, and strings. Here's a brief description of each function:<br>\n",
    "<ul>\n",
    "<b>len():</b> This function returns the length of an object, which can be a list, tuple, string, or any other iterable. For example, len([1][2][3]) returns 3.<br>\n",
    "<b>max():</b> This function returns the largest item in an iterable or the largest of two or more arguments. For example, max([1][2][3]) returns 3.<br>\n",
    "<b>min():</b> This function returns the smallest item in an iterable or the smallest of two or more arguments. For example, min([1][2][3]) returns 1.<br>\n",
    "</ul>\n",
    "These functions are often used in combination with other functions or methods to perform more complex operations on data structures. For example, you can use len() to get the length of a list and then use max() or min() to find the largest or smallest item in the list."
   ]
  },
  {
   "cell_type": "code",
   "execution_count": 9,
   "id": "a0eee336-7ef0-459e-af14-903fe7b8b12b",
   "metadata": {},
   "outputs": [
    {
     "name": "stdout",
     "output_type": "stream",
     "text": [
      "[1, 4, 9, 16, 25]\n"
     ]
    }
   ],
   "source": [
    "# 2. Write a Python program that uses the `map()` function to apply a function to each element of a list.\n",
    "def square(x):\n",
    "    return x ** 2\n",
    "\n",
    "# Original list\n",
    "numbers_list = [1, 2, 3, 4, 5]\n",
    "\n",
    "# Applying the square function to each element of the list\n",
    "result_list = list(map(square, numbers_list))\n",
    "\n",
    "# Printing the result\n",
    "print(result_list)"
   ]
  },
  {
   "cell_type": "markdown",
   "id": "5f4a7414-0d32-41bf-ba6a-7439b4ff4f92",
   "metadata": {},
   "source": [
    "<b>3. How does the `filter()` function work in Python, and when would you use it?</b><br>\n",
    "The filter() function in Python is a built-in function that allows you to process an iterable and extract those items that satisfy a given condition. This process is commonly known as a filtering operation. With filter(), you can apply a filtering function to an iterable and produce a new iterable with the items that satisfy the condition at hand.<br>\n",
    "The filter() function takes two arguments: a function and an iterable. The function is applied to each element of the iterable, and if the function returns True for that element, the element is included in the output iterable. If the function returns False, the element is excluded from the output iterable.<br>\n",
    "The filter() function is typically used when you need to extract a subset of items from an iterable that satisfy a given condition. It can be used with any iterable, including lists, tuples, and sets."
   ]
  },
  {
   "cell_type": "code",
   "execution_count": 10,
   "id": "3612171c-48e0-4729-8236-a59a734d5e1a",
   "metadata": {},
   "outputs": [
    {
     "name": "stdout",
     "output_type": "stream",
     "text": [
      "120\n"
     ]
    }
   ],
   "source": [
    "# 4. Create a Python program that uses the `reduce()` function to find the product of all elements in a list.\n",
    "from functools import reduce\n",
    "\n",
    "def multiply(x, y):\n",
    "    return x * y\n",
    "\n",
    "numbers = [1, 2, 3, 4, 5]\n",
    "\n",
    "product = reduce(multiply, numbers)\n",
    "\n",
    "print(product)"
   ]
  },
  {
   "cell_type": "markdown",
   "id": "046f7218-61ae-45fa-956a-fbe9c8a20118",
   "metadata": {},
   "source": [
    "Function Documentation and Best Practices"
   ]
  },
  {
   "cell_type": "markdown",
   "id": "dfd744e7-bec3-4ce6-a6e6-1b630911778d",
   "metadata": {},
   "source": [
    "<b>1. Explain the purpose of docstrings in Python functions and how to write them.</b><br>\n",
    "Docstrings in Python are used to document the purpose and functionality of Python functions, modules, and classes. They are string literals that appear right after the definition of a function, method, class, or module. Docstrings are accessible from the __doc__ attribute for any of the Python objects and also with the built-in help() function.<br>\n",
    "The purpose of docstrings is to provide a convenient way of associating documentation with Python code. Unlike conventional source code comments, docstrings should describe what the function does, not how. Docstrings are useful in conveying the purpose and functionality of Python functions, modules, and classes. They help developers understand the capabilities of a module or a function and serve as a quick reference to all the functions and arguments.<br>\n",
    "Here are some guidelines for writing docstrings in Python:<br>\n",
    "<ul>\n",
    "<li>Use triple quotes (either single or double) to enclose the documentation text.</li>\n",
    "<li>The docstring should describe the command of the function, not how it works.</li>\n",
    "<li>The docstring should summarize the behavior of the function and document its arguments and return values.</li>\n",
    "<li>It should also list all the exceptions that can be raised and other optional arguments.</li>\n",
    "<li>Docstrings should end with a period.</li>\n",
    "<li>Use reStructuredText (reST) markup language to format the docstrings.</li>\n",
    "</ul><br>"
   ]
  },
  {
   "cell_type": "markdown",
   "id": "71521f2c-15c1-40b4-bebc-52c4a0beee55",
   "metadata": {},
   "source": [
    "<b>2. Describe some best practices for naming functions and variables in Python, including naming conventions and guidelines.</b><br>\n",
    "When it comes to naming functions and variables in Python, there are several best practices and guidelines that you can follow to make your code more readable and understandable. Here are some of the most important ones:<br>\n",
    "<ul>\n",
    "<li>Be clear and concise: Use names that accurately describe the purpose and functionality of the function or variable. Avoid using names that are too long or too short, as they can be difficult to read and understand.</li>\n",
    "<li>Use meaningful names: Choose names that are meaningful and descriptive. Avoid using names that are too generic or ambiguous, as they can be confusing and make your code harder to understand.</li>\n",
    "<li>Follow a consistent naming convention: Use a consistent naming convention throughout your code. This makes it easier to read and understand, and helps other developers to follow your code more easily.</li>\n",
    "<li>Use lowercase letters for function and variable names: Function and variable names should be written in lowercase letters, with words separated by underscores as necessary to improve readability.</li>\n",
    "<li>Avoid using special characters: Avoid using special characters in function and variable names, as they can be difficult to read and understand.</li>\n",
    "<li>Avoid using reserved keywords: Avoid using reserved keywords in function and variable names, as they can cause conflicts and errors in your code.</li>\n",
    "<li>Use reStructuredText (reST) markup language to format docstrings: Use reStructuredText (reST) markup language to format docstrings, as it makes them easier to read and understand.</li>\n",
    "</ul>"
   ]
  },
  {
   "cell_type": "code",
   "execution_count": null,
   "id": "8b66a8ca-5e2b-4ba9-b1a3-175ff3e4a741",
   "metadata": {},
   "outputs": [],
   "source": []
  }
 ],
 "metadata": {
  "kernelspec": {
   "display_name": "Python 3 (ipykernel)",
   "language": "python",
   "name": "python3"
  },
  "language_info": {
   "codemirror_mode": {
    "name": "ipython",
    "version": 3
   },
   "file_extension": ".py",
   "mimetype": "text/x-python",
   "name": "python",
   "nbconvert_exporter": "python",
   "pygments_lexer": "ipython3",
   "version": "3.10.8"
  }
 },
 "nbformat": 4,
 "nbformat_minor": 5
}
